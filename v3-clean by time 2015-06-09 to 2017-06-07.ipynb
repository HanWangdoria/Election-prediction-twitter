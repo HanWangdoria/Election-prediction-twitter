{
 "cells": [
  {
   "cell_type": "code",
   "execution_count": 123,
   "metadata": {
    "collapsed": true
   },
   "outputs": [],
   "source": [
    "# Here are the libraries I am using\n",
    "import pandas as pd \n",
    "import matplotlib.pyplot as plt\n",
    "import matplotlib as mpl\n",
    "import numpy as np\n",
    "from os import path\n",
    "import json\n",
    "import csv\n",
    "import twitter\n",
    "from datetime import datetime\n",
    "from datetime import date"
   ]
  },
  {
   "cell_type": "code",
   "execution_count": 124,
   "metadata": {},
   "outputs": [
    {
     "name": "stdout",
     "output_type": "stream",
     "text": [
      "JacqiHodgson\n"
     ]
    }
   ],
   "source": [
    "#Using a txt file to store the MP's names \n",
    "#read txt file into string lists and looping for next steps\n",
    "with open('set_crawler.txt', 'r') as f:\n",
    "    content = f.readlines()\n",
    "# you may also want to remove whitespace characters like `\\n` at the end of each line\n",
    "content = [x.strip() for x in content] \n",
    "print(content[0])"
   ]
  },
  {
   "cell_type": "code",
   "execution_count": 125,
   "metadata": {
    "collapsed": true
   },
   "outputs": [],
   "source": [
    "def cleanmethond (screen_name): \n",
    "    df = pd.read_csv('%s_tweets.csv' % screen_name)\n",
    "    dateList= df[\"created_at\"].tolist()\n",
    "    \n",
    "    timeEnd = datetime(2017, 6, 7, 23, 59,59)\n",
    "    timeStart = datetime(2015, 6, 9, 0, 0,0)\n",
    "    \n",
    "    tur = 0\n",
    "    new_list=[]\n",
    "    while tur < len(dateList):\n",
    "        d = datetime.strptime(dateList[tur], \"%Y-%m-%d %H:%M:%S\")\n",
    "        #d = datetime.strptime(dateList[tur], \"%Y/%m/%d %H:%M\")\n",
    "        if (d > timeStart) and (d < timeEnd):\n",
    "            new_list.append(d)\n",
    "       \n",
    "        tur = tur+1\n",
    "    \n",
    "    #print(new_list[0])\n",
    "    \n",
    "    j=0\n",
    "    compare_list=[]\n",
    "    while j < len(new_list):\n",
    "        datestr = datetime.strftime(new_list[j],\"%Y-%m-%d %H:%M:%S\")\n",
    "        #datestr = datetime.strftime(new_list[j],\"%Y/%m/%d %H:%M\")\n",
    "        compare_list.append(datestr)\n",
    "        j=j+1\n",
    "    \n",
    "    df_time=df.loc[df['created_at'].isin(compare_list)]\n",
    "    df_time.to_csv('%s_cleaned_tweets.csv' % screen_name)"
   ]
  },
  {
   "cell_type": "code",
   "execution_count": 126,
   "metadata": {
    "collapsed": true
   },
   "outputs": [],
   "source": [
    "#test with a name \n",
    "#cleanmethond ('bennison_andrew')"
   ]
  },
  {
   "cell_type": "code",
   "execution_count": 127,
   "metadata": {},
   "outputs": [
    {
     "name": "stdout",
     "output_type": "stream",
     "text": [
      "JacqiHodgson\n",
      "GerriePPCTotnes\n",
      "sarahwollaston\n",
      "DavidLammy\n",
      "JayneKirkham4\n",
      "SNewtonUK\n",
      "RobNolanTruro\n",
      "aapennington\n",
      "tbisdee\n",
      "GregClarkMP\n",
      "RachelSadlerTW\n",
      "VoteCeline\n",
      "vincecable\n",
      "katherinedunne\n",
      "tania_mathias\n",
      "alancampbellmp\n",
      "greenjools\n",
      "stuart4ntmayor\n",
      "CllrNickVarley\n",
      "BeattieDoug\n",
      "Alliance_UpBann\n",
      "JohnODowdSF\n",
      "DavidSimpsonDUP\n",
      "BorisJohnson\n",
      "markgrn4Hillgdn\n",
      "VincentLoUK\n",
      "RosinaRobson\n",
      "JamesDavies\n",
      "ChrisRuane2017\n",
      "wgwynwilliams\n",
      "CamillaBeaven\n",
      "AlunCairns\n",
      "ThyPirateDave\n",
      "ianjamesjohnson\n",
      "lovell0711\n",
      "Pirate_Lennon\n",
      "gulnar73\n",
      "KateHoeyMP\n",
      "Harini_Iyengar\n",
      "dollytheis\n",
      "georgenturner\n",
      "WajidAliForMP\n",
      "CharmedLassie\n",
      "antony_calvert\n",
      "MaryCreaghMP\n",
      "CaplinDebbie\n",
      "LiverLibDems\n",
      "angelaeagle\n",
      "EddieHughes4WN\n",
      "greycoatlaw\n",
      "James_Bird_\n",
      "anrawel\n",
      "Valerie_VazMP\n",
      "stellacreasy\n",
      "GreenPartyAJ\n",
      "Molly4Wstow\n",
      "MelanieHurst9\n",
      "IanLaveryMP\n",
      "SLeylandGreen\n",
      "GreensWallingfd\n",
      "Chris_Carrigan1\n",
      "racheleden\n",
      "edvaizey\n",
      "DarrylMagher\n",
      "AnthonyMangnal1\n",
      "BryanMGLibDem\n",
      "spellar\n",
      "HelenJonesMP\n",
      "CllrBobBarr\n",
      "FaisalRashid6\n",
      "jonchilvers\n",
      "BobDhillon32\n",
      "MattWestern_\n",
      "JEGullis\n",
      "SharonHodgsonMP\n",
      "Richard4Watford\n",
      "ianstotesbury\n",
      "peter_aldous\n",
      "sunrisesonj\n",
      "WaveneyGreens\n",
      "JackyAnnH1\n",
      "chris1bowers\n",
      "UKIPWealden_\n",
      "Nus_Ghani\n",
      "angie4wealden\n",
      "MikeAmesbury\n",
      "ChrisCopeman\n",
      "GrahamEvans\n",
      "PeterBoneUK\n",
      "jonathanhornett\n",
      "chris_nelson\n",
      "Big_Boss_Al\n",
      "voteandreawatts\n",
      "JSHeappey\n",
      "wellsmp\n",
      "tessamunt\n",
      "WHLabour\n",
      "NigelQuinton\n",
      "SayersGreen\n",
      "grantshapps\n",
      "JohnHealey_MP\n",
      "BarryBlackNE\n",
      "JohnRWaddell\n",
      "EmmaCrane2017\n",
      "DellMacefield\n",
      "friarparkward\n",
      "tom_watson\n",
      "StarAnderton\n",
      "rob_buckman\n",
      "FloClucas\n",
      "kelvinclaytongp\n",
      "oletwinofficial\n",
      "MartinJDocherty\n",
      "jeananneforWD\n",
      "R_Plenderleith\n",
      "lynbrownmp\n",
      "NewhamGreens\n",
      "rosie4westlancs\n",
      "Samuel_P_Currie\n",
      "politicallynate\n",
      "DFJA\n",
      "MattHancock\n",
      "Cllr_M_Jefferys\n",
      "BarryBonesbrown\n",
      "aliciaclarke27\n",
      "SteveDonnelly95\n",
      "mccleangreen\n",
      "McCrossanMLA\n",
      "BarryMcElduff\n",
      "hbaldwin\n",
      "emcmillanscott\n",
      "NMcGreenParty\n",
      "KarenPBuckMP\n",
      "UK999ers\n",
      "Lindsey4WNorth\n",
      "James4WandL\n",
      "EliAldridge\n",
      "timfarron\n",
      "futureprogress\n",
      "ldmikebell\n",
      "helenhims\n",
      "JohnPenroseNews\n",
      "TimTaylorWeston\n",
      "lisanandy\n",
      "WillJPatterson\n",
      "AlexWilliams175\n",
      "CharlesBarrabal\n",
      "S_Hammond\n",
      "carlquilliam\n",
      "ImranUddin2003\n",
      "sbrine\n",
      "LabourChaloner\n",
      "jackielibdem\n",
      "AdamAfriyie\n",
      "Fintan_actGreen\n",
      "PeterLShearman\n",
      "cllrccarubia\n",
      "Alison_McGovern\n",
      "She_RaRoberts\n",
      "AdamSykesWirral\n",
      "tony4ww\n",
      "Green_JohnCoyne\n",
      "MGreenwoodWW\n",
      "JamesAbbott2013\n",
      "BWLabour\n",
      "JoHayesLibDem\n",
      "laetisiacarter\n",
      "robertcourts\n",
      "aalancraig\n",
      "clairelasko\n",
      "lizleffman\n",
      "James4Woking\n",
      "FionaColley\n",
      "WillForster\n",
      "JonathanLord\n",
      "AndyCroy\n",
      "CllrCliveJones\n",
      "johnredwood\n",
      "GrahamEardley\n",
      "EmmaReynoldsMP\n",
      "GreensWolves\n",
      "amybertaut\n",
      "binny_uk\n",
      "patmcfaddenmp\n",
      "KieranMullanUK\n",
      "Alibdem\n",
      "Jagmeet4WlvesSW\n",
      "PaulUppalWSW\n",
      "stephenakearney\n",
      "alexrugg56\n",
      "JoySquires\n",
      "LouisStephen\n",
      "WalkerWorcester\n",
      "SueHayman1\n",
      "phillroberts2\n",
      "ClarkVasey\n",
      "KeeleyMP\n",
      "cllrilindley\n",
      "BeccyCooper4Lab\n",
      "hazel_thorpe\n",
      "andrew4wrexham\n",
      "CarrieAHarper\n",
      "IanCLucas\n",
      "SteveBakerHW\n",
      "stevekguy\n",
      "WycombeLabour\n",
      "WFGreens\n",
      "g_bigcon97\n",
      "Mark4WyreForest\n",
      "Matt4wyreforest\n",
      "johnpotterLD\n",
      "BWallaceMP\n",
      "lucksonfa\n",
      "mikebs1966\n",
      "Fiona20Green\n",
      "DJerrome\n",
      "WillJonesLD\n",
      "MikeKaneMP\n",
      "MarcusFysh\n",
      "Ssomersetgreens\n",
      "TomosDafydd\n",
      "Rhosmeirch\n",
      "AlbertOwenMP\n",
      "NickLovesYork\n",
      "RachaelMaskell\n",
      "jamesblanchard\n",
      "lukejcr\n"
     ]
    }
   ],
   "source": [
    "if __name__ == '__main__':\n",
    "    #pass in the username of the account want to download\n",
    "    #my account as a test sample\n",
    "    for strs in content:\n",
    "        print(strs)\n",
    "        cleanmethond (strs)"
   ]
  },
  {
   "cell_type": "code",
   "execution_count": null,
   "metadata": {
    "collapsed": true
   },
   "outputs": [],
   "source": []
  },
  {
   "cell_type": "code",
   "execution_count": null,
   "metadata": {
    "collapsed": true
   },
   "outputs": [],
   "source": []
  },
  {
   "cell_type": "code",
   "execution_count": null,
   "metadata": {
    "collapsed": true
   },
   "outputs": [],
   "source": [
    "\n"
   ]
  },
  {
   "cell_type": "code",
   "execution_count": null,
   "metadata": {
    "collapsed": true
   },
   "outputs": [],
   "source": []
  },
  {
   "cell_type": "code",
   "execution_count": null,
   "metadata": {
    "collapsed": true
   },
   "outputs": [],
   "source": []
  },
  {
   "cell_type": "code",
   "execution_count": null,
   "metadata": {
    "collapsed": true
   },
   "outputs": [],
   "source": []
  },
  {
   "cell_type": "code",
   "execution_count": null,
   "metadata": {
    "collapsed": true
   },
   "outputs": [],
   "source": [
    "\n",
    "    \n",
    "\n",
    "    \n",
    "        \n",
    "    \n"
   ]
  },
  {
   "cell_type": "code",
   "execution_count": null,
   "metadata": {
    "collapsed": true
   },
   "outputs": [],
   "source": []
  },
  {
   "cell_type": "code",
   "execution_count": null,
   "metadata": {
    "collapsed": true
   },
   "outputs": [],
   "source": []
  },
  {
   "cell_type": "code",
   "execution_count": null,
   "metadata": {
    "collapsed": true
   },
   "outputs": [],
   "source": []
  },
  {
   "cell_type": "code",
   "execution_count": null,
   "metadata": {
    "collapsed": true
   },
   "outputs": [],
   "source": []
  },
  {
   "cell_type": "code",
   "execution_count": null,
   "metadata": {
    "collapsed": true
   },
   "outputs": [],
   "source": []
  },
  {
   "cell_type": "code",
   "execution_count": null,
   "metadata": {
    "collapsed": true
   },
   "outputs": [],
   "source": [
    "\n",
    "    "
   ]
  },
  {
   "cell_type": "code",
   "execution_count": null,
   "metadata": {
    "collapsed": true
   },
   "outputs": [],
   "source": []
  },
  {
   "cell_type": "code",
   "execution_count": null,
   "metadata": {
    "collapsed": true
   },
   "outputs": [],
   "source": []
  },
  {
   "cell_type": "code",
   "execution_count": null,
   "metadata": {
    "collapsed": true
   },
   "outputs": [],
   "source": []
  },
  {
   "cell_type": "code",
   "execution_count": null,
   "metadata": {
    "collapsed": true
   },
   "outputs": [],
   "source": []
  },
  {
   "cell_type": "code",
   "execution_count": null,
   "metadata": {
    "collapsed": true
   },
   "outputs": [],
   "source": []
  }
 ],
 "metadata": {
  "kernelspec": {
   "display_name": "Python 3",
   "language": "python",
   "name": "python3"
  },
  "language_info": {
   "codemirror_mode": {
    "name": "ipython",
    "version": 3
   },
   "file_extension": ".py",
   "mimetype": "text/x-python",
   "name": "python",
   "nbconvert_exporter": "python",
   "pygments_lexer": "ipython3",
   "version": "3.6.3"
  }
 },
 "nbformat": 4,
 "nbformat_minor": 2
}
