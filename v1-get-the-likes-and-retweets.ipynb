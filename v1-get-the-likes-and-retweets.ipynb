{
 "cells": [
  {
   "cell_type": "code",
   "execution_count": 1,
   "metadata": {
    "collapsed": true
   },
   "outputs": [],
   "source": [
    "# General:\n",
    "import tweepy           # To consume Twitter's API\n",
    "import pandas as pd     # To handle data\n",
    "import numpy as np      # For number computing\n",
    "\n",
    "# For plotting and visualization:\n",
    "from IPython.display import display\n",
    "import matplotlib.pyplot as plt\n",
    "import seaborn as sns\n",
    "%matplotlib inline\n"
   ]
  },
  {
   "cell_type": "code",
   "execution_count": 2,
   "metadata": {
    "collapsed": true
   },
   "outputs": [],
   "source": [
    "# Twitter App access keys for @user\n",
    "#my app access keys\n",
    "\n",
    "# Consume:\n",
    "CONSUMER_KEY    = 'EBLPW1pro22bimqjDFHrn4Opp'\n",
    "CONSUMER_SECRET = 'XrwYX4mQULOSaDBvuWOYYVtLZzkHJU44ORwWq0ZRF32Aw565AH'\n",
    "\n",
    "# Access:\n",
    "ACCESS_TOKEN  = '921917165950906368-znfwcJjJCRgN9WZ4HFuAhqmnRLz9J0l'\n",
    "ACCESS_SECRET = 'bS6XK9NgLFwr8SD3hiUu5vVc1YpVKq4HSjscdtJvWu4ud'\n"
   ]
  },
  {
   "cell_type": "code",
   "execution_count": 3,
   "metadata": {
    "collapsed": true
   },
   "outputs": [],
   "source": [
    "# We import our access keys:\n",
    "from credentials import *    # This will allow us to use the keys as variables\n",
    "\n",
    "# API's setup:\n",
    "def twitter_setup():\n",
    "    \"\"\"\n",
    "    Utility function to setup the Twitter's API\n",
    "    with our access keys provided.\n",
    "    \"\"\"\n",
    "    # Authentication and access using keys:\n",
    "    auth = tweepy.OAuthHandler(CONSUMER_KEY, CONSUMER_SECRET)\n",
    "    auth.set_access_token(ACCESS_TOKEN, ACCESS_SECRET)\n",
    "\n",
    "    # Return API with authentication:\n",
    "    api = tweepy.API(auth)\n",
    "    return api\n"
   ]
  },
  {
   "cell_type": "code",
   "execution_count": 5,
   "metadata": {},
   "outputs": [
    {
     "name": "stdout",
     "output_type": "stream",
     "text": [
      "Number of tweets extracted: 52.\n",
      "\n",
      "5 recent tweets:\n",
      "\n",
      "@LeanneWood @Plaid_Cymru Happy to support in any way I can..\n",
      "\n",
      "RT @LeanneWood: #EtholiadPlaidCymru - cyfle da iawn / a leadership election is a great opportunity to discuss new ideas. I am looking forwa…\n",
      "\n",
      "@lizperkinspost Hi Liz, Would like to speak to you about something. Here's my email.. mail me back and I will give… https://t.co/qxshGqQBDI\n",
      "\n",
      "RT @Plaid_Cymru: Last night, Plaid Cymru MPs voted to condemn the UK government’s decision to strike #Syria - and to do so without a mandat…\n",
      "\n",
      "RT @Plaid_Cymru: 'We must reaffirm that racism against minorities, migrants and people of colour must be challenged and defeated here in Wa…\n",
      "\n"
     ]
    }
   ],
   "source": [
    "# We create an extractor object:\n",
    "extractor = twitter_setup()\n",
    "\n",
    "# We create a tweet list as follows:\n",
    "tweets = extractor.user_timeline(screen_name=\"bennison_andrew\", count=200)\n",
    "print(\"Number of tweets extracted: {}.\\n\".format(len(tweets)))\n",
    "\n",
    "# We print the most recent 5 tweets:\n",
    "print(\"5 recent tweets:\\n\")\n",
    "for tweet in tweets[:5]:\n",
    "    print(tweet.text)\n",
    "    print()\n"
   ]
  },
  {
   "cell_type": "code",
   "execution_count": null,
   "metadata": {
    "collapsed": true
   },
   "outputs": [],
   "source": []
  },
  {
   "cell_type": "code",
   "execution_count": 6,
   "metadata": {},
   "outputs": [
    {
     "data": {
      "text/html": [
       "<div>\n",
       "<style>\n",
       "    .dataframe thead tr:only-child th {\n",
       "        text-align: right;\n",
       "    }\n",
       "\n",
       "    .dataframe thead th {\n",
       "        text-align: left;\n",
       "    }\n",
       "\n",
       "    .dataframe tbody tr th {\n",
       "        vertical-align: top;\n",
       "    }\n",
       "</style>\n",
       "<table border=\"1\" class=\"dataframe\">\n",
       "  <thead>\n",
       "    <tr style=\"text-align: right;\">\n",
       "      <th></th>\n",
       "      <th>Tweets</th>\n",
       "    </tr>\n",
       "  </thead>\n",
       "  <tbody>\n",
       "    <tr>\n",
       "      <th>0</th>\n",
       "      <td>@LeanneWood @Plaid_Cymru Happy to support in a...</td>\n",
       "    </tr>\n",
       "    <tr>\n",
       "      <th>1</th>\n",
       "      <td>RT @LeanneWood: #EtholiadPlaidCymru - cyfle da...</td>\n",
       "    </tr>\n",
       "    <tr>\n",
       "      <th>2</th>\n",
       "      <td>@lizperkinspost Hi Liz, Would like to speak to...</td>\n",
       "    </tr>\n",
       "    <tr>\n",
       "      <th>3</th>\n",
       "      <td>RT @Plaid_Cymru: Last night, Plaid Cymru MPs v...</td>\n",
       "    </tr>\n",
       "    <tr>\n",
       "      <th>4</th>\n",
       "      <td>RT @Plaid_Cymru: 'We must reaffirm that racism...</td>\n",
       "    </tr>\n",
       "    <tr>\n",
       "      <th>5</th>\n",
       "      <td>RT @LeanneWood: If anyone was in any doubt tha...</td>\n",
       "    </tr>\n",
       "    <tr>\n",
       "      <th>6</th>\n",
       "      <td>@LSRPlaid They are not aligned on anything.. a...</td>\n",
       "    </tr>\n",
       "    <tr>\n",
       "      <th>7</th>\n",
       "      <td>@leiawelsh If he don't like it here he should ...</td>\n",
       "    </tr>\n",
       "    <tr>\n",
       "      <th>8</th>\n",
       "      <td>@ArgusICraig Talking about who..???</td>\n",
       "    </tr>\n",
       "    <tr>\n",
       "      <th>9</th>\n",
       "      <td>Before the election I heard so many people wor...</td>\n",
       "    </tr>\n",
       "  </tbody>\n",
       "</table>\n",
       "</div>"
      ],
      "text/plain": [
       "                                              Tweets\n",
       "0  @LeanneWood @Plaid_Cymru Happy to support in a...\n",
       "1  RT @LeanneWood: #EtholiadPlaidCymru - cyfle da...\n",
       "2  @lizperkinspost Hi Liz, Would like to speak to...\n",
       "3  RT @Plaid_Cymru: Last night, Plaid Cymru MPs v...\n",
       "4  RT @Plaid_Cymru: 'We must reaffirm that racism...\n",
       "5  RT @LeanneWood: If anyone was in any doubt tha...\n",
       "6  @LSRPlaid They are not aligned on anything.. a...\n",
       "7  @leiawelsh If he don't like it here he should ...\n",
       "8                @ArgusICraig Talking about who..???\n",
       "9  Before the election I heard so many people wor..."
      ]
     },
     "metadata": {},
     "output_type": "display_data"
    }
   ],
   "source": [
    "# We create a pandas dataframe as follows:\n",
    "data = pd.DataFrame(data=[tweet.text for tweet in tweets], columns=['Tweets'])\n",
    "\n",
    "# We display the first 10 elements of the dataframe:\n",
    "display(data.head(10))\n"
   ]
  },
  {
   "cell_type": "code",
   "execution_count": 7,
   "metadata": {},
   "outputs": [
    {
     "name": "stdout",
     "output_type": "stream",
     "text": [
      "['__class__', '__delattr__', '__dict__', '__dir__', '__doc__', '__eq__', '__format__', '__ge__', '__getattribute__', '__getstate__', '__gt__', '__hash__', '__init__', '__init_subclass__', '__le__', '__lt__', '__module__', '__ne__', '__new__', '__reduce__', '__reduce_ex__', '__repr__', '__setattr__', '__sizeof__', '__str__', '__subclasshook__', '__weakref__', '_api', '_json', 'author', 'contributors', 'coordinates', 'created_at', 'destroy', 'entities', 'favorite', 'favorite_count', 'favorited', 'geo', 'id', 'id_str', 'in_reply_to_screen_name', 'in_reply_to_status_id', 'in_reply_to_status_id_str', 'in_reply_to_user_id', 'in_reply_to_user_id_str', 'is_quote_status', 'lang', 'parse', 'parse_list', 'place', 'retweet', 'retweet_count', 'retweeted', 'retweets', 'source', 'source_url', 'text', 'truncated', 'user']\n"
     ]
    }
   ],
   "source": [
    "# Internal methods of a single tweet object:\n",
    "print(dir(tweets[0]))\n"
   ]
  },
  {
   "cell_type": "code",
   "execution_count": 8,
   "metadata": {},
   "outputs": [
    {
     "name": "stdout",
     "output_type": "stream",
     "text": [
      "1015516607857287168\n",
      "2018-07-07 08:43:21\n",
      "Twitter for iPhone\n",
      "1\n",
      "0\n",
      "None\n",
      "None\n",
      "{'hashtags': [], 'symbols': [], 'user_mentions': [{'screen_name': 'LeanneWood', 'name': 'LeanneWood 🏴\\U000e0067\\U000e0062\\U000e0077\\U000e006c\\U000e0073\\U000e007f', 'id': 14450739, 'id_str': '14450739', 'indices': [0, 11]}, {'screen_name': 'Plaid_Cymru', 'name': 'Plaid Cymru', 'id': 14411725, 'id_str': '14411725', 'indices': [12, 24]}], 'urls': []}\n"
     ]
    }
   ],
   "source": [
    "# We print info from the first tweet:\n",
    "print(tweets[0].id_str)\n",
    "print(tweets[0].created_at)\n",
    "print(tweets[0].source)\n",
    "print(tweets[0].favorite_count)\n",
    "print(tweets[0].retweet_count)\n",
    "print(tweets[0].geo)\n",
    "print(tweets[0].coordinates)\n",
    "print(tweets[0].entities)\n"
   ]
  },
  {
   "cell_type": "code",
   "execution_count": 10,
   "metadata": {
    "collapsed": true
   },
   "outputs": [],
   "source": [
    "# We add relevant data:\n",
    "data['len']  = np.array([len(tweet.text) for tweet in tweets])\n",
    "data['ID']   = np.array([tweet.id for tweet in tweets])\n",
    "data['Date'] = np.array([tweet.created_at for tweet in tweets])\n",
    "data['Source'] = np.array([tweet.source for tweet in tweets])\n",
    "data['Likes']  = np.array([tweet.favorite_count for tweet in tweets])\n",
    "data['RTs']    = np.array([tweet.retweet_count for tweet in tweets])\n"
   ]
  },
  {
   "cell_type": "code",
   "execution_count": 11,
   "metadata": {},
   "outputs": [
    {
     "data": {
      "text/html": [
       "<div>\n",
       "<style>\n",
       "    .dataframe thead tr:only-child th {\n",
       "        text-align: right;\n",
       "    }\n",
       "\n",
       "    .dataframe thead th {\n",
       "        text-align: left;\n",
       "    }\n",
       "\n",
       "    .dataframe tbody tr th {\n",
       "        vertical-align: top;\n",
       "    }\n",
       "</style>\n",
       "<table border=\"1\" class=\"dataframe\">\n",
       "  <thead>\n",
       "    <tr style=\"text-align: right;\">\n",
       "      <th></th>\n",
       "      <th>Tweets</th>\n",
       "      <th>len</th>\n",
       "      <th>ID</th>\n",
       "      <th>Date</th>\n",
       "      <th>Source</th>\n",
       "      <th>Likes</th>\n",
       "      <th>RTs</th>\n",
       "    </tr>\n",
       "  </thead>\n",
       "  <tbody>\n",
       "    <tr>\n",
       "      <th>0</th>\n",
       "      <td>Is May brave enough to tell Trump that his sel...</td>\n",
       "      <td>140</td>\n",
       "      <td>1017353909847908352</td>\n",
       "      <td>2018-07-12 10:24:08</td>\n",
       "      <td>Twitter Web Client</td>\n",
       "      <td>8</td>\n",
       "      <td>7</td>\n",
       "    </tr>\n",
       "    <tr>\n",
       "      <th>1</th>\n",
       "      <td>RT @VitaeJobs: 📌 @SKinnock  is recruiting a pa...</td>\n",
       "      <td>140</td>\n",
       "      <td>1017340772826451968</td>\n",
       "      <td>2018-07-12 09:31:56</td>\n",
       "      <td>Twitter Web Client</td>\n",
       "      <td>0</td>\n",
       "      <td>2</td>\n",
       "    </tr>\n",
       "    <tr>\n",
       "      <th>2</th>\n",
       "      <td>Doing a deal is not just about words on a piec...</td>\n",
       "      <td>139</td>\n",
       "      <td>1017086695525830656</td>\n",
       "      <td>2018-07-11 16:42:19</td>\n",
       "      <td>Twitter Web Client</td>\n",
       "      <td>23</td>\n",
       "      <td>17</td>\n",
       "    </tr>\n",
       "    <tr>\n",
       "      <th>3</th>\n",
       "      <td>Govt is obliged to create an Independent Monit...</td>\n",
       "      <td>140</td>\n",
       "      <td>1017076071618007040</td>\n",
       "      <td>2018-07-11 16:00:06</td>\n",
       "      <td>Twitter Web Client</td>\n",
       "      <td>3</td>\n",
       "      <td>2</td>\n",
       "    </tr>\n",
       "    <tr>\n",
       "      <th>4</th>\n",
       "      <td>RT @appg_brexit: The #ListenUp campaign has be...</td>\n",
       "      <td>140</td>\n",
       "      <td>1017063886393085953</td>\n",
       "      <td>2018-07-11 15:11:41</td>\n",
       "      <td>Twitter Web Client</td>\n",
       "      <td>0</td>\n",
       "      <td>10</td>\n",
       "    </tr>\n",
       "    <tr>\n",
       "      <th>5</th>\n",
       "      <td>RT @UKLabour: Five things you need to know abo...</td>\n",
       "      <td>140</td>\n",
       "      <td>1016737517465473026</td>\n",
       "      <td>2018-07-10 17:34:48</td>\n",
       "      <td>Twitter for iPhone</td>\n",
       "      <td>0</td>\n",
       "      <td>7994</td>\n",
       "    </tr>\n",
       "    <tr>\n",
       "      <th>6</th>\n",
       "      <td>Chequers proposal a step in right direction (P...</td>\n",
       "      <td>140</td>\n",
       "      <td>1016686990979469312</td>\n",
       "      <td>2018-07-10 14:14:02</td>\n",
       "      <td>Twitter Web Client</td>\n",
       "      <td>31</td>\n",
       "      <td>13</td>\n",
       "    </tr>\n",
       "    <tr>\n",
       "      <th>7</th>\n",
       "      <td>British steel industry is hobbled by punitive ...</td>\n",
       "      <td>143</td>\n",
       "      <td>1016651833526358017</td>\n",
       "      <td>2018-07-10 11:54:20</td>\n",
       "      <td>Twitter Web Client</td>\n",
       "      <td>7</td>\n",
       "      <td>8</td>\n",
       "    </tr>\n",
       "    <tr>\n",
       "      <th>8</th>\n",
       "      <td>Boris Johnson was without doubt the worst Fore...</td>\n",
       "      <td>140</td>\n",
       "      <td>1016558160310611968</td>\n",
       "      <td>2018-07-10 05:42:06</td>\n",
       "      <td>Twitter for iPhone</td>\n",
       "      <td>3974</td>\n",
       "      <td>934</td>\n",
       "    </tr>\n",
       "    <tr>\n",
       "      <th>9</th>\n",
       "      <td>The Chequers proposal is a bureaucratic nightm...</td>\n",
       "      <td>139</td>\n",
       "      <td>1016357702174494720</td>\n",
       "      <td>2018-07-09 16:25:33</td>\n",
       "      <td>Twitter Web Client</td>\n",
       "      <td>84</td>\n",
       "      <td>38</td>\n",
       "    </tr>\n",
       "  </tbody>\n",
       "</table>\n",
       "</div>"
      ],
      "text/plain": [
       "                                              Tweets  len  \\\n",
       "0  Is May brave enough to tell Trump that his sel...  140   \n",
       "1  RT @VitaeJobs: 📌 @SKinnock  is recruiting a pa...  140   \n",
       "2  Doing a deal is not just about words on a piec...  139   \n",
       "3  Govt is obliged to create an Independent Monit...  140   \n",
       "4  RT @appg_brexit: The #ListenUp campaign has be...  140   \n",
       "5  RT @UKLabour: Five things you need to know abo...  140   \n",
       "6  Chequers proposal a step in right direction (P...  140   \n",
       "7  British steel industry is hobbled by punitive ...  143   \n",
       "8  Boris Johnson was without doubt the worst Fore...  140   \n",
       "9  The Chequers proposal is a bureaucratic nightm...  139   \n",
       "\n",
       "                    ID                Date              Source  Likes   RTs  \n",
       "0  1017353909847908352 2018-07-12 10:24:08  Twitter Web Client      8     7  \n",
       "1  1017340772826451968 2018-07-12 09:31:56  Twitter Web Client      0     2  \n",
       "2  1017086695525830656 2018-07-11 16:42:19  Twitter Web Client     23    17  \n",
       "3  1017076071618007040 2018-07-11 16:00:06  Twitter Web Client      3     2  \n",
       "4  1017063886393085953 2018-07-11 15:11:41  Twitter Web Client      0    10  \n",
       "5  1016737517465473026 2018-07-10 17:34:48  Twitter for iPhone      0  7994  \n",
       "6  1016686990979469312 2018-07-10 14:14:02  Twitter Web Client     31    13  \n",
       "7  1016651833526358017 2018-07-10 11:54:20  Twitter Web Client      7     8  \n",
       "8  1016558160310611968 2018-07-10 05:42:06  Twitter for iPhone   3974   934  \n",
       "9  1016357702174494720 2018-07-09 16:25:33  Twitter Web Client     84    38  "
      ]
     },
     "metadata": {},
     "output_type": "display_data"
    }
   ],
   "source": [
    "# Display of first 10 elements from dataframe:\n",
    "display(data.head(10))\n"
   ]
  },
  {
   "cell_type": "code",
   "execution_count": 32,
   "metadata": {
    "collapsed": true
   },
   "outputs": [],
   "source": [
    "#write this dataframe into csv \n",
    "\n",
    "screen_name=\"SKinnock\"\n",
    "data.to_csv('%s_likes_rts.csv' % screen_name, sep=',', encoding='utf-8')\n",
    "\n",
    "#due to the twitter content is not determined, the data form needs extre cleaning steps"
   ]
  },
  {
   "cell_type": "code",
   "execution_count": null,
   "metadata": {
    "collapsed": true
   },
   "outputs": [],
   "source": []
  },
  {
   "cell_type": "code",
   "execution_count": 12,
   "metadata": {},
   "outputs": [
    {
     "name": "stdout",
     "output_type": "stream",
     "text": [
      "The lenght's average in tweets: 136.155\n"
     ]
    }
   ],
   "source": [
    "# We extract the mean of lenghts:\n",
    "mean = np.mean(data['len'])\n",
    "\n",
    "print(\"The lenght's average in tweets: {}\".format(mean))\n"
   ]
  },
  {
   "cell_type": "code",
   "execution_count": 13,
   "metadata": {},
   "outputs": [
    {
     "name": "stdout",
     "output_type": "stream",
     "text": [
      "The tweet with more likes is: \n",
      "Boris Johnson was without doubt the worst Foreign Secretary that our country has ever had. Others have certainly ma… https://t.co/ovoKgTBkMk\n",
      "Number of likes: 3974\n",
      "140 characters.\n",
      "\n",
      "The tweet with more retweets is: \n",
      "RT @UKLabour: Five things you need to know about Dominic Raab, the man Theresa May has chosen to lead her Tory Brexit. https://t.co/DXM3oew…\n",
      "Number of retweets: 7994\n",
      "140 characters.\n",
      "\n"
     ]
    }
   ],
   "source": [
    "# We extract the tweet with more FAVs and more RTs:\n",
    "\n",
    "fav_max = np.max(data['Likes'])\n",
    "rt_max  = np.max(data['RTs'])\n",
    "\n",
    "fav = data[data.Likes == fav_max].index[0]\n",
    "rt  = data[data.RTs == rt_max].index[0]\n",
    "\n",
    "# Max FAVs:\n",
    "print(\"The tweet with more likes is: \\n{}\".format(data['Tweets'][fav]))\n",
    "print(\"Number of likes: {}\".format(fav_max))\n",
    "print(\"{} characters.\\n\".format(data['len'][fav]))\n",
    "\n",
    "# Max RTs:\n",
    "print(\"The tweet with more retweets is: \\n{}\".format(data['Tweets'][rt]))\n",
    "print(\"Number of retweets: {}\".format(rt_max))\n",
    "print(\"{} characters.\\n\".format(data['len'][rt]))\n"
   ]
  },
  {
   "cell_type": "code",
   "execution_count": 14,
   "metadata": {
    "collapsed": true
   },
   "outputs": [],
   "source": [
    "# We create time series for data:\n",
    "\n",
    "tlen = pd.Series(data=data['len'].values, index=data['Date'])\n",
    "tfav = pd.Series(data=data['Likes'].values, index=data['Date'])\n",
    "tret = pd.Series(data=data['RTs'].values, index=data['Date'])\n"
   ]
  },
  {
   "cell_type": "code",
   "execution_count": 15,
   "metadata": {},
   "outputs": [
    {
     "data": {
      "image/png": "[encoded data removed]",
      "text/plain": [
       "<matplotlib.figure.Figure at 0x111b63160>"
      ]
     },
     "metadata": {},
     "output_type": "display_data"
    }
   ],
   "source": [
    "# Lenghts along time:\n",
    "tlen.plot(figsize=(16,4), color='r');\n"
   ]
  },
  {
   "cell_type": "code",
   "execution_count": 16,
   "metadata": {},
   "outputs": [
    {
     "data": {
      "image/png": "[encoded data removed]",
      "text/plain": [
       "<matplotlib.figure.Figure at 0x112e0f0b8>"
      ]
     },
     "metadata": {},
     "output_type": "display_data"
    }
   ],
   "source": [
    "# Likes vs retweets visualization:\n",
    "tfav.plot(figsize=(16,4), label=\"Likes\", legend=True)\n",
    "tret.plot(figsize=(16,4), label=\"Retweets\", legend=True);\n"
   ]
  },
  {
   "cell_type": "code",
   "execution_count": 17,
   "metadata": {
    "collapsed": true
   },
   "outputs": [],
   "source": [
    "from textblob import TextBlob\n",
    "import re\n",
    "\n",
    "def clean_tweet(tweet):\n",
    "    '''\n",
    "    Utility function to clean the text in a tweet by removing \n",
    "    links and special characters using regex.\n",
    "    '''\n",
    "    return ' '.join(re.sub(\"(@[A-Za-z0-9]+)|([^0-9A-Za-z \\t])|(\\w+:\\/\\/\\S+)\", \" \", tweet).split())\n",
    "\n",
    "def analize_sentiment(tweet):\n",
    "    '''\n",
    "    Utility function to classify the polarity of a tweet\n",
    "    using textblob.\n",
    "    '''\n",
    "    analysis = TextBlob(clean_tweet(tweet))\n",
    "    if analysis.sentiment.polarity > 0:\n",
    "        return 1\n",
    "    elif analysis.sentiment.polarity == 0:\n",
    "        return 0\n",
    "    else:\n",
    "        return -1\n"
   ]
  },
  {
   "cell_type": "code",
   "execution_count": 18,
   "metadata": {},
   "outputs": [
    {
     "data": {
      "text/html": [
       "<div>\n",
       "<style>\n",
       "    .dataframe thead tr:only-child th {\n",
       "        text-align: right;\n",
       "    }\n",
       "\n",
       "    .dataframe thead th {\n",
       "        text-align: left;\n",
       "    }\n",
       "\n",
       "    .dataframe tbody tr th {\n",
       "        vertical-align: top;\n",
       "    }\n",
       "</style>\n",
       "<table border=\"1\" class=\"dataframe\">\n",
       "  <thead>\n",
       "    <tr style=\"text-align: right;\">\n",
       "      <th></th>\n",
       "      <th>Tweets</th>\n",
       "      <th>len</th>\n",
       "      <th>ID</th>\n",
       "      <th>Date</th>\n",
       "      <th>Source</th>\n",
       "      <th>Likes</th>\n",
       "      <th>RTs</th>\n",
       "      <th>SA</th>\n",
       "    </tr>\n",
       "  </thead>\n",
       "  <tbody>\n",
       "    <tr>\n",
       "      <th>0</th>\n",
       "      <td>Is May brave enough to tell Trump that his sel...</td>\n",
       "      <td>140</td>\n",
       "      <td>1017353909847908352</td>\n",
       "      <td>2018-07-12 10:24:08</td>\n",
       "      <td>Twitter Web Client</td>\n",
       "      <td>8</td>\n",
       "      <td>7</td>\n",
       "      <td>1</td>\n",
       "    </tr>\n",
       "    <tr>\n",
       "      <th>1</th>\n",
       "      <td>RT @VitaeJobs: 📌 @SKinnock  is recruiting a pa...</td>\n",
       "      <td>140</td>\n",
       "      <td>1017340772826451968</td>\n",
       "      <td>2018-07-12 09:31:56</td>\n",
       "      <td>Twitter Web Client</td>\n",
       "      <td>0</td>\n",
       "      <td>2</td>\n",
       "      <td>0</td>\n",
       "    </tr>\n",
       "    <tr>\n",
       "      <th>2</th>\n",
       "      <td>Doing a deal is not just about words on a piec...</td>\n",
       "      <td>139</td>\n",
       "      <td>1017086695525830656</td>\n",
       "      <td>2018-07-11 16:42:19</td>\n",
       "      <td>Twitter Web Client</td>\n",
       "      <td>23</td>\n",
       "      <td>17</td>\n",
       "      <td>0</td>\n",
       "    </tr>\n",
       "    <tr>\n",
       "      <th>3</th>\n",
       "      <td>Govt is obliged to create an Independent Monit...</td>\n",
       "      <td>140</td>\n",
       "      <td>1017076071618007040</td>\n",
       "      <td>2018-07-11 16:00:06</td>\n",
       "      <td>Twitter Web Client</td>\n",
       "      <td>3</td>\n",
       "      <td>2</td>\n",
       "      <td>0</td>\n",
       "    </tr>\n",
       "    <tr>\n",
       "      <th>4</th>\n",
       "      <td>RT @appg_brexit: The #ListenUp campaign has be...</td>\n",
       "      <td>140</td>\n",
       "      <td>1017063886393085953</td>\n",
       "      <td>2018-07-11 15:11:41</td>\n",
       "      <td>Twitter Web Client</td>\n",
       "      <td>0</td>\n",
       "      <td>10</td>\n",
       "      <td>1</td>\n",
       "    </tr>\n",
       "    <tr>\n",
       "      <th>5</th>\n",
       "      <td>RT @UKLabour: Five things you need to know abo...</td>\n",
       "      <td>140</td>\n",
       "      <td>1016737517465473026</td>\n",
       "      <td>2018-07-10 17:34:48</td>\n",
       "      <td>Twitter for iPhone</td>\n",
       "      <td>0</td>\n",
       "      <td>7994</td>\n",
       "      <td>0</td>\n",
       "    </tr>\n",
       "    <tr>\n",
       "      <th>6</th>\n",
       "      <td>Chequers proposal a step in right direction (P...</td>\n",
       "      <td>140</td>\n",
       "      <td>1016686990979469312</td>\n",
       "      <td>2018-07-10 14:14:02</td>\n",
       "      <td>Twitter Web Client</td>\n",
       "      <td>31</td>\n",
       "      <td>13</td>\n",
       "      <td>1</td>\n",
       "    </tr>\n",
       "    <tr>\n",
       "      <th>7</th>\n",
       "      <td>British steel industry is hobbled by punitive ...</td>\n",
       "      <td>143</td>\n",
       "      <td>1016651833526358017</td>\n",
       "      <td>2018-07-10 11:54:20</td>\n",
       "      <td>Twitter Web Client</td>\n",
       "      <td>7</td>\n",
       "      <td>8</td>\n",
       "      <td>1</td>\n",
       "    </tr>\n",
       "    <tr>\n",
       "      <th>8</th>\n",
       "      <td>Boris Johnson was without doubt the worst Fore...</td>\n",
       "      <td>140</td>\n",
       "      <td>1016558160310611968</td>\n",
       "      <td>2018-07-10 05:42:06</td>\n",
       "      <td>Twitter for iPhone</td>\n",
       "      <td>3974</td>\n",
       "      <td>934</td>\n",
       "      <td>-1</td>\n",
       "    </tr>\n",
       "    <tr>\n",
       "      <th>9</th>\n",
       "      <td>The Chequers proposal is a bureaucratic nightm...</td>\n",
       "      <td>139</td>\n",
       "      <td>1016357702174494720</td>\n",
       "      <td>2018-07-09 16:25:33</td>\n",
       "      <td>Twitter Web Client</td>\n",
       "      <td>84</td>\n",
       "      <td>38</td>\n",
       "      <td>1</td>\n",
       "    </tr>\n",
       "  </tbody>\n",
       "</table>\n",
       "</div>"
      ],
      "text/plain": [
       "                                              Tweets  len  \\\n",
       "0  Is May brave enough to tell Trump that his sel...  140   \n",
       "1  RT @VitaeJobs: 📌 @SKinnock  is recruiting a pa...  140   \n",
       "2  Doing a deal is not just about words on a piec...  139   \n",
       "3  Govt is obliged to create an Independent Monit...  140   \n",
       "4  RT @appg_brexit: The #ListenUp campaign has be...  140   \n",
       "5  RT @UKLabour: Five things you need to know abo...  140   \n",
       "6  Chequers proposal a step in right direction (P...  140   \n",
       "7  British steel industry is hobbled by punitive ...  143   \n",
       "8  Boris Johnson was without doubt the worst Fore...  140   \n",
       "9  The Chequers proposal is a bureaucratic nightm...  139   \n",
       "\n",
       "                    ID                Date              Source  Likes   RTs  \\\n",
       "0  1017353909847908352 2018-07-12 10:24:08  Twitter Web Client      8     7   \n",
       "1  1017340772826451968 2018-07-12 09:31:56  Twitter Web Client      0     2   \n",
       "2  1017086695525830656 2018-07-11 16:42:19  Twitter Web Client     23    17   \n",
       "3  1017076071618007040 2018-07-11 16:00:06  Twitter Web Client      3     2   \n",
       "4  1017063886393085953 2018-07-11 15:11:41  Twitter Web Client      0    10   \n",
       "5  1016737517465473026 2018-07-10 17:34:48  Twitter for iPhone      0  7994   \n",
       "6  1016686990979469312 2018-07-10 14:14:02  Twitter Web Client     31    13   \n",
       "7  1016651833526358017 2018-07-10 11:54:20  Twitter Web Client      7     8   \n",
       "8  1016558160310611968 2018-07-10 05:42:06  Twitter for iPhone   3974   934   \n",
       "9  1016357702174494720 2018-07-09 16:25:33  Twitter Web Client     84    38   \n",
       "\n",
       "   SA  \n",
       "0   1  \n",
       "1   0  \n",
       "2   0  \n",
       "3   0  \n",
       "4   1  \n",
       "5   0  \n",
       "6   1  \n",
       "7   1  \n",
       "8  -1  \n",
       "9   1  "
      ]
     },
     "metadata": {},
     "output_type": "display_data"
    }
   ],
   "source": [
    "# We create a column with the result of the analysis:\n",
    "data['SA'] = np.array([ analize_sentiment(tweet) for tweet in data['Tweets'] ])\n",
    "\n",
    "# We display the updated dataframe with the new column:\n",
    "display(data.head(10))\n"
   ]
  },
  {
   "cell_type": "code",
   "execution_count": 19,
   "metadata": {
    "collapsed": true
   },
   "outputs": [],
   "source": [
    "# We construct lists with classified tweets:\n",
    "\n",
    "pos_tweets = [ tweet for index, tweet in enumerate(data['Tweets']) if data['SA'][index] > 0]\n",
    "neu_tweets = [ tweet for index, tweet in enumerate(data['Tweets']) if data['SA'][index] == 0]\n",
    "neg_tweets = [ tweet for index, tweet in enumerate(data['Tweets']) if data['SA'][index] < 0]\n"
   ]
  },
  {
   "cell_type": "code",
   "execution_count": 20,
   "metadata": {},
   "outputs": [
    {
     "name": "stdout",
     "output_type": "stream",
     "text": [
      "Percentage of positive tweets: 53.0%\n",
      "Percentage of neutral tweets: 33.0%\n",
      "Percentage de negative tweets: 14.0%\n"
     ]
    }
   ],
   "source": [
    "# We print percentages:\n",
    "\n",
    "print(\"Percentage of positive tweets: {}%\".format(len(pos_tweets)*100/len(data['Tweets'])))\n",
    "print(\"Percentage of neutral tweets: {}%\".format(len(neu_tweets)*100/len(data['Tweets'])))\n",
    "print(\"Percentage de negative tweets: {}%\".format(len(neg_tweets)*100/len(data['Tweets'])))\n"
   ]
  },
  {
   "cell_type": "code",
   "execution_count": null,
   "metadata": {
    "collapsed": true
   },
   "outputs": [],
   "source": []
  },
  {
   "cell_type": "code",
   "execution_count": null,
   "metadata": {
    "collapsed": true
   },
   "outputs": [],
   "source": []
  }
 ],
 "metadata": {
  "kernelspec": {
   "display_name": "Python 3",
   "language": "python",
   "name": "python3"
  },
  "language_info": {
   "codemirror_mode": {
    "name": "ipython",
    "version": 3
   },
   "file_extension": ".py",
   "mimetype": "text/x-python",
   "name": "python",
   "nbconvert_exporter": "python",
   "pygments_lexer": "ipython3",
   "version": "3.6.3"
  }
 },
 "nbformat": 4,
 "nbformat_minor": 2
}
