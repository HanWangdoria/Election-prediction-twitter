{
 "cells": [
  {
   "cell_type": "code",
   "execution_count": 1,
   "metadata": {
    "collapsed": true
   },
   "outputs": [],
   "source": [
    "# Here are the libraries I am using\n",
    "import pandas as pd \n",
    "import matplotlib.pyplot as plt\n",
    "import matplotlib as mpl\n",
    "import numpy as np\n",
    "from os import path\n",
    "import json\n",
    "import csv\n",
    "import twitter\n",
    "from datetime import datetime"
   ]
  },
  {
   "cell_type": "code",
   "execution_count": 9,
   "metadata": {
    "collapsed": true
   },
   "outputs": [],
   "source": [
    "# For plotting and visualization:\n",
    "from IPython.display import display\n",
    "import matplotlib.pyplot as plt\n",
    "import seaborn as sns\n",
    "%matplotlib inline"
   ]
  },
  {
   "cell_type": "code",
   "execution_count": 10,
   "metadata": {},
   "outputs": [
    {
     "name": "stdout",
     "output_type": "stream",
     "text": [
      "      Unnamed: 0                  id           created_at  \\\n",
      "0           1716  872580595297267712  2017-06-07 22:26:40   \n",
      "1           1717  872494399279820802  2017-06-07 16:44:09   \n",
      "2           1718  872424090702942208  2017-06-07 12:04:46   \n",
      "3           1719  872209449338929153  2017-06-06 21:51:52   \n",
      "4           1720  872208672310444032  2017-06-06 21:48:46   \n",
      "5           1721  872197993335840774  2017-06-06 21:06:20   \n",
      "6           1722  872114949207863296  2017-06-06 15:36:21   \n",
      "7           1723  871985340520771584  2017-06-06 07:01:20   \n",
      "8           1724  871985110740066304  2017-06-06 07:00:25   \n",
      "9           1725  871984954141544448  2017-06-06 06:59:48   \n",
      "10          1726  871984380578758657  2017-06-06 06:57:31   \n",
      "11          1727  871984219760865280  2017-06-06 06:56:53   \n",
      "12          1728  871839645973311490  2017-06-05 21:22:24   \n",
      "13          1729  871758118375575552  2017-06-05 15:58:26   \n",
      "14          1730  871727461956030464  2017-06-05 13:56:37   \n",
      "15          1731  871652998287699968  2017-06-05 09:00:43   \n",
      "16          1732  871434796647550976  2017-06-04 18:33:40   \n",
      "17          1733  871291058059169792  2017-06-04 09:02:30   \n",
      "18          1734  871284598319329280  2017-06-04 08:36:50   \n",
      "19          1735  871236741004505088  2017-06-04 05:26:40   \n",
      "20          1736  871152110448062465  2017-06-03 23:50:23   \n",
      "21          1737  871065701884338176  2017-06-03 18:07:01   \n",
      "22          1738  871065680464011266  2017-06-03 18:06:56   \n",
      "23          1739  871065483914747907  2017-06-03 18:06:09   \n",
      "24          1740  870898111648026624  2017-06-03 07:01:04   \n",
      "25          1741  870897980047536129  2017-06-03 07:00:33   \n",
      "26          1742  870897792436383744  2017-06-03 06:59:48   \n",
      "27          1743  870897558817845248  2017-06-03 06:58:53   \n",
      "28          1744  870896818078593024  2017-06-03 06:55:56   \n",
      "29          1745  870896670065733632  2017-06-03 06:55:21   \n",
      "...          ...                 ...                  ...   \n",
      "1486        3202  754907479121821696  2016-07-18 05:15:43   \n",
      "1487        3203  754743067417124864  2016-07-17 18:22:24   \n",
      "1488        3204  754737860201373701  2016-07-17 18:01:42   \n",
      "1489        3205  754607589904748545  2016-07-17 09:24:04   \n",
      "1490        3206  754313275257610240  2016-07-16 13:54:33   \n",
      "1491        3207  754312721508761601  2016-07-16 13:52:21   \n",
      "1492        3208  754311988734468096  2016-07-16 13:49:27   \n",
      "1493        3209  754045677907369984  2016-07-15 20:11:13   \n",
      "1494        3210  753793783796465664  2016-07-15 03:30:17   \n",
      "1495        3211  753615588338065409  2016-07-14 15:42:12   \n",
      "1496        3212  753576702551425024  2016-07-14 13:07:41   \n",
      "1497        3213  753243503518515200  2016-07-13 15:03:40   \n",
      "1498        3214  753238915700719616  2016-07-13 14:45:26   \n",
      "1499        3215  753094219204587520  2016-07-13 05:10:28   \n",
      "1500        3216  752967968460513280  2016-07-12 20:48:47   \n",
      "1501        3217  752959234162171907  2016-07-12 20:14:05   \n",
      "1502        3218  752476377845272576  2016-07-11 12:15:23   \n",
      "1503        3219  752251563326992385  2016-07-10 21:22:03   \n",
      "1504        3220  752145030593318912  2016-07-10 14:18:44   \n",
      "1505        3221  752144939698511872  2016-07-10 14:18:22   \n",
      "1506        3222  752116643585728512  2016-07-10 12:25:56   \n",
      "1507        3223  751756805190090752  2016-07-09 12:36:03   \n",
      "1508        3224  751475550762504192  2016-07-08 17:58:27   \n",
      "1509        3225  751456284034105344  2016-07-08 16:41:54   \n",
      "1510        3226  751148261185126400  2016-07-07 20:17:55   \n",
      "1511        3227  751094794974269440  2016-07-07 16:45:28   \n",
      "1512        3228  751094028003864577  2016-07-07 16:42:25   \n",
      "1513        3229  751092789467906048  2016-07-07 16:37:30   \n",
      "1514        3230  750786529354780672  2016-07-06 20:20:32   \n",
      "1515        3231  750784739041275904  2016-07-06 20:13:25   \n",
      "\n",
      "                                                   text  len  \\\n",
      "0     b'Labour has set out a well planned programme ...  135   \n",
      "1     b'RT @jeremycorbyn: I will lead a government y...  140   \n",
      "2     b'RT @Tim_Roache: First #labourdoorstep of the...  135   \n",
      "3     b'@Girl_Interrupt_ @ValeofYorkCCG This is exac...  140   \n",
      "4     b\"York 'Voices from the Margins' https://t.co/...  138   \n",
      "5     b\"RT @JonAshworth: Today I reveal over 45,000 ...  140   \n",
      "6     b'RT @georgenorman20: Big team out for @Michae...  140   \n",
      "7     b'@Borodeed @tweet_your_MP Labour has said tha...  124   \n",
      "8                     b'@DrEsmee @labouryork Thank you'   30   \n",
      "9     b'@LucyPembayun For your information, I public...  139   \n",
      "10    b'@OliNewby Please email me at Rachael@voteRac...   59   \n",
      "11    b'@lordjarman Please email me your full addres...   79   \n",
      "12    b\"RT @jeremycorbyn: .@Theresa_May, you cannot ...  140   \n",
      "13    b'I have taken the challenges of Business Rate...  140   \n",
      "14    b'RT @UKLabour: Labour will \\n\\xe2\\x9c\\x94Ban ...  140   \n",
      "15    b'@lordjarman I am sorry we missed you, but we...  109   \n",
      "16    b'At Thy Kingsom Come service at a packed @Yor...   91   \n",
      "17    b'@HollySpad1 Today all campaigning is suspend...   59   \n",
      "18    b\"@czecho30 I'm not campaigning today. Garden ...   68   \n",
      "19    b'There will be no campaigning today. Instead ...  131   \n",
      "20    b'Such a horrific incident in London. While my...  139   \n",
      "21    b'RT @TimMurgatroyd: @labouryork @RachaelMaske...  140   \n",
      "22    b'RT @SaveWLFields: Thank you @RachaelMaskell ...  140   \n",
      "23    b'@imLwi We will redistribute by increasing ta...  144   \n",
      "24    b'RT @themammothclone: @RachaelMaskell your vo...  140   \n",
      "25    b'This is the most dreadful case of human righ...   76   \n",
      "26    b'@TheAndrewBardy Have you checked with the Co...  140   \n",
      "27    b'@annalouise511 We will end tuition fees from...   59   \n",
      "28    b'RT @stoneflowerjane: Forget party politics; ...  140   \n",
      "29    b'RT @danwebstermusic: Hugely impressed with @...  138   \n",
      "...                                                 ...  ...   \n",
      "1486  b\"So much judgement of 'others', so much divis...  109   \n",
      "1487  b'@Nickpheas @guardian Steep rise in street ho...   95   \n",
      "1488  b'RT @neilbarnes101: @RachaelMaskell delivers ...  122   \n",
      "1489  b'RT @JoolesGun: Looking forward to going to t...  124   \n",
      "1490  b\"On Monday night there's an important vote on...  132   \n",
      "1491  b\"Front Street was alive with the ADAM's festi...  108   \n",
      "1492  b\"Out in Clifton this morning at St. Luke's fo...  140   \n",
      "1493  b'RT @debswj62: @RachaelMaskell pledge today t...  140   \n",
      "1494  b'Let us stand as one with France today. We up...   90   \n",
      "1495  b'I look forward to challenging @andrealeadsom...   99   \n",
      "1496  b'RT @georgewdunn: Thanks @RachaelMaskell for ...  140   \n",
      "1497  b'@alanofthenorth Please contact the York Labo...   64   \n",
      "1498  b\"@alanofthenorth York has its normal schedule...   93   \n",
      "1499  b'@RMEngagement Please email me, as I will be ...  122   \n",
      "1500  b'@CandiSpillard Not mine, but a local residents'   46   \n",
      "1501  b\"I hope it's quickly found Rachel. Bike crime...   90   \n",
      "1502  b'@SaveUpperStPaul Thanks, could you email det...   99   \n",
      "1503  b\"RT @holgatelabour: Big thanks to those who c...  140   \n",
      "1504  b'RT @MegMunn01: Good to see @RachaelMaskell s...   84   \n",
      "1505                          b'@Dr_Maggotty Thank you'   22   \n",
      "1506  b'At #York @MethodistGB gathering this afterno...   71   \n",
      "1507  b\"Really busy morning talking to constituents ...  122   \n",
      "1508  b'Really busy surgery today and straight onto ...  117   \n",
      "1509  b'RT @YNET4: @MPGeorgeEustice skirts @RachaelM...  140   \n",
      "1510  b\"11 years ago today 52 people were murdered &...  139   \n",
      "1511  b'RT @jeremycorbyn: Today marks the 11th anniv...  140   \n",
      "1512  b'Government showed they are totally unprepare...  144   \n",
      "1513  b'RT @grahamemorris: #WeStandTogether In DEFRA...  140   \n",
      "1514  b'@TheHughMcMillan Of course not, the EU is fa...  134   \n",
      "1515  b'@WitweWadman This debate was just on right t...  111   \n",
      "\n",
      "                  source  fav_count  rt_count  \n",
      "0     Twitter Web Client         86        48  \n",
      "1           Twitter Lite          0     17390  \n",
      "2     Twitter Web Client          0        15  \n",
      "3     Twitter Web Client          1         0  \n",
      "4     Twitter for iPhone         17        18  \n",
      "5           Twitter Lite          0      2772  \n",
      "6     Twitter for iPhone          0        13  \n",
      "7     Twitter Web Client          1         0  \n",
      "8     Twitter Web Client          2         0  \n",
      "9     Twitter Web Client         16         8  \n",
      "10    Twitter Web Client          0         0  \n",
      "11    Twitter Web Client          0         0  \n",
      "12          Twitter Lite          0     12369  \n",
      "13    Twitter for iPhone         23        11  \n",
      "14    Twitter for iPhone          0       854  \n",
      "15      Twitter for iPad          0         0  \n",
      "16    Twitter for iPhone         20         2  \n",
      "17    Twitter for iPhone          0         0  \n",
      "18    Twitter for iPhone          1         0  \n",
      "19    Twitter for iPhone         71        28  \n",
      "20    Twitter for iPhone         55        23  \n",
      "21    Twitter for iPhone          0         9  \n",
      "22    Twitter for iPhone          0         7  \n",
      "23    Twitter for iPhone          2         0  \n",
      "24    Twitter Web Client          0         5  \n",
      "25    Twitter Web Client         10        11  \n",
      "26    Twitter Web Client          0         0  \n",
      "27    Twitter Web Client          0         0  \n",
      "28    Twitter Web Client          0         3  \n",
      "29    Twitter Web Client          0         7  \n",
      "...                  ...        ...       ...  \n",
      "1486  Twitter for iPhone         76        44  \n",
      "1487  Twitter for iPhone          0         1  \n",
      "1488  Twitter for iPhone          0        22  \n",
      "1489  Twitter for iPhone          0         1  \n",
      "1490  Twitter for iPhone          9        10  \n",
      "1491  Twitter for iPhone          6         1  \n",
      "1492  Twitter for iPhone         17         8  \n",
      "1493  Twitter for iPhone          0        13  \n",
      "1494  Twitter for iPhone         39        29  \n",
      "1495  Twitter for iPhone         49        21  \n",
      "1496  Twitter for iPhone          0         5  \n",
      "1497  Twitter for iPhone          0         0  \n",
      "1498  Twitter for iPhone          0         1  \n",
      "1499  Twitter for iPhone          0         0  \n",
      "1500  Twitter for iPhone          0         0  \n",
      "1501  Twitter for iPhone          3         7  \n",
      "1502  Twitter for iPhone          1         0  \n",
      "1503  Twitter for iPhone          0         7  \n",
      "1504  Twitter for iPhone          0         4  \n",
      "1505  Twitter for iPhone          0         0  \n",
      "1506  Twitter for iPhone          8         1  \n",
      "1507  Twitter for iPhone         16         3  \n",
      "1508  Twitter for iPhone         36        16  \n",
      "1509  Twitter for iPhone          0         1  \n",
      "1510  Twitter for iPhone         47        32  \n",
      "1511  Twitter for iPhone          0      1293  \n",
      "1512  Twitter for iPhone         33        19  \n",
      "1513  Twitter for iPhone          0        12  \n",
      "1514  Twitter for iPhone          1         0  \n",
      "1515  Twitter for iPhone          0         0  \n",
      "\n",
      "[1516 rows x 8 columns]\n"
     ]
    }
   ],
   "source": [
    "#for strs in content:\n",
    "#df = pd.read_csv('%s_tweets.csv' % content[0])\n",
    "\n",
    "#try with a csv\n",
    "df = pd.read_csv('RachaelMaskell_cleaned_tweets.csv')\n",
    "print(df)"
   ]
  },
  {
   "cell_type": "code",
   "execution_count": 11,
   "metadata": {},
   "outputs": [
    {
     "data": {
      "text/plain": [
       "['Unnamed: 0',\n",
       " 'id',\n",
       " 'created_at',\n",
       " 'text',\n",
       " 'len',\n",
       " 'source',\n",
       " 'fav_count',\n",
       " 'rt_count']"
      ]
     },
     "execution_count": 11,
     "metadata": {},
     "output_type": "execute_result"
    }
   ],
   "source": [
    "df.columns.tolist()\n",
    "#show the column names"
   ]
  },
  {
   "cell_type": "code",
   "execution_count": 12,
   "metadata": {},
   "outputs": [],
   "source": [
    "tfav = pd.Series(data=df['fav_count'].values, index=df['created_at'])\n",
    "tret = pd.Series(data=df['rt_count'].values, index=df['created_at'])"
   ]
  },
  {
   "cell_type": "code",
   "execution_count": 14,
   "metadata": {},
   "outputs": [
    {
     "data": {
      "text/plain": [
       "<matplotlib.axes._subplots.AxesSubplot at 0x1a16cd1668>"
      ]
     },
     "execution_count": 14,
     "metadata": {},
     "output_type": "execute_result"
    },
    {
     "data": {
      "image/png": "[encoded data removed]",
      "text/plain": [
       "<matplotlib.figure.Figure at 0x1a166b7f28>"
      ]
     },
     "metadata": {},
     "output_type": "display_data"
    }
   ],
   "source": [
    "# Likes vs retweets visualization:\n",
    "tfav.plot(figsize=(16,4), label=\"Likes\", legend=True)\n",
    "#tret.plot(figsize=(16,4), label=\"Retweets\", legend=True);\n"
   ]
  },
  {
   "cell_type": "code",
   "execution_count": null,
   "metadata": {
    "collapsed": true
   },
   "outputs": [],
   "source": []
  }
 ],
 "metadata": {
  "kernelspec": {
   "display_name": "Python 3",
   "language": "python",
   "name": "python3"
  },
  "language_info": {
   "codemirror_mode": {
    "name": "ipython",
    "version": 3
   },
   "file_extension": ".py",
   "mimetype": "text/x-python",
   "name": "python",
   "nbconvert_exporter": "python",
   "pygments_lexer": "ipython3",
   "version": "3.6.3"
  }
 },
 "nbformat": 4,
 "nbformat_minor": 2
}
