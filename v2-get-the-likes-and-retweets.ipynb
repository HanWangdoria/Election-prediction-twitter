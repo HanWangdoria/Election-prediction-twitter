{
 "cells": [
  {
   "cell_type": "code",
   "execution_count": 2,
   "metadata": {
    "collapsed": true
   },
   "outputs": [],
   "source": [
    "# General:\n",
    "import tweepy           # To consume Twitter's API\n",
    "import pandas as pd     # To handle data\n",
    "import numpy as np      # For number computing\n",
    "\n",
    "# For plotting and visualization:\n",
    "from IPython.display import display\n",
    "import matplotlib.pyplot as plt\n",
    "import seaborn as sns\n",
    "%matplotlib inline\n"
   ]
  },
  {
   "cell_type": "code",
   "execution_count": 3,
   "metadata": {
    "collapsed": true
   },
   "outputs": [],
   "source": [
    "# Twitter App access keys for @user\n",
    "#my app access keys\n",
    "\n",
    "# Consume:\n",
    "CONSUMER_KEY    = 'EBLPW1pro22bimqjDFHrn4Opp'\n",
    "CONSUMER_SECRET = 'XrwYX4mQULOSaDBvuWOYYVtLZzkHJU44ORwWq0ZRF32Aw565AH'\n",
    "\n",
    "# Access:\n",
    "ACCESS_TOKEN  = '921917165950906368-znfwcJjJCRgN9WZ4HFuAhqmnRLz9J0l'\n",
    "ACCESS_SECRET = 'bS6XK9NgLFwr8SD3hiUu5vVc1YpVKq4HSjscdtJvWu4ud'\n"
   ]
  },
  {
   "cell_type": "code",
   "execution_count": 4,
   "metadata": {
    "collapsed": true
   },
   "outputs": [],
   "source": [
    "# We import our access keys:\n",
    "from credentials import *    # This will allow us to use the keys as variables\n",
    "\n",
    "# API's setup:\n",
    "def twitter_setup():\n",
    "    \"\"\"\n",
    "    Utility function to setup the Twitter's API\n",
    "    with our access keys provided.\n",
    "    \"\"\"\n",
    "    # Authentication and access using keys:\n",
    "    auth = tweepy.OAuthHandler(CONSUMER_KEY, CONSUMER_SECRET)\n",
    "    auth.set_access_token(ACCESS_TOKEN, ACCESS_SECRET)\n",
    "\n",
    "    # Return API with authentication:\n",
    "    api = tweepy.API(auth)\n",
    "    return api\n"
   ]
  },
  {
   "cell_type": "code",
   "execution_count": 5,
   "metadata": {},
   "outputs": [
    {
     "name": "stdout",
     "output_type": "stream",
     "text": [
      "bennison_andrew\n"
     ]
    }
   ],
   "source": [
    "#Using a txt file to store the MP's names \n",
    "#read txt file into string lists and looping for next steps\n",
    "with open('set_crawler.txt', 'r') as f:\n",
    "    content = f.readlines()\n",
    "# you may also want to remove whitespace characters like `\\n` at the end of each line\n",
    "content = [x.strip() for x in content] \n",
    "print(content[0])"
   ]
  },
  {
   "cell_type": "code",
   "execution_count": 6,
   "metadata": {},
   "outputs": [
    {
     "name": "stdout",
     "output_type": "stream",
     "text": [
      "1\n"
     ]
    }
   ],
   "source": [
    "print(len(content))"
   ]
  },
  {
   "cell_type": "code",
   "execution_count": 7,
   "metadata": {},
   "outputs": [
    {
     "name": "stdout",
     "output_type": "stream",
     "text": [
      "Number of tweets extracted: 52.\n",
      "\n"
     ]
    }
   ],
   "source": [
    "# We create an extractor object:\n",
    "extractor = twitter_setup()\n",
    "\n",
    "for strs in content:\n",
    "# We create a tweet list as follows:\n",
    "    tweets = extractor.user_timeline(screen_name=strs, count=2000)\n",
    "    print(\"Number of tweets extracted: {}.\\n\".format(len(tweets)))\n",
    "\n",
    "# print the most recent 5 tweets:\n",
    "#for test\n",
    "#print(\"5 recent tweets:\\n\")\n",
    "#for tweet in tweets[:5]:\n",
    "#    print(tweet.text)\n",
    "#    print()\n",
    "\n",
    "\n",
    "# We create a pandas dataframe as follows:\n",
    "    data = pd.DataFrame(data=[tweet.text for tweet in tweets], columns=['Tweets'])\n",
    "\n",
    "# We display the first 10 elements of the dataframe:\n",
    "#display(data.head(10))\n",
    "\n",
    "# We add relevant data:\n",
    "    data['len']  = np.array([len(tweet.text) for tweet in tweets])\n",
    "    data['ID']   = np.array([tweet.id for tweet in tweets])\n",
    "    data['Date'] = np.array([tweet.created_at for tweet in tweets])\n",
    "    data['Source'] = np.array([tweet.source for tweet in tweets])\n",
    "    data['Likes']  = np.array([tweet.favorite_count for tweet in tweets])\n",
    "    data['RTs']    = np.array([tweet.retweet_count for tweet in tweets])\n",
    "\n",
    "\n",
    "\n",
    "\n",
    "\n",
    "\n",
    "\n",
    "#write this dataframe into csv \n",
    "\n",
    "    data.to_csv('%s_likes_rts.csv' % strs, sep=',', encoding='utf-8')\n",
    "\n",
    "#due to the twitter content is not determined, the data form needs extre cleaning steps"
   ]
  },
  {
   "cell_type": "code",
   "execution_count": null,
   "metadata": {
    "collapsed": true
   },
   "outputs": [],
   "source": []
  },
  {
   "cell_type": "code",
   "execution_count": null,
   "metadata": {
    "collapsed": true
   },
   "outputs": [],
   "source": [
    "\n"
   ]
  },
  {
   "cell_type": "code",
   "execution_count": 8,
   "metadata": {},
   "outputs": [
    {
     "name": "stdout",
     "output_type": "stream",
     "text": [
      "['__class__', '__delattr__', '__dict__', '__dir__', '__doc__', '__eq__', '__format__', '__ge__', '__getattribute__', '__getstate__', '__gt__', '__hash__', '__init__', '__init_subclass__', '__le__', '__lt__', '__module__', '__ne__', '__new__', '__reduce__', '__reduce_ex__', '__repr__', '__setattr__', '__sizeof__', '__str__', '__subclasshook__', '__weakref__', '_api', '_json', 'author', 'contributors', 'coordinates', 'created_at', 'destroy', 'entities', 'favorite', 'favorite_count', 'favorited', 'geo', 'id', 'id_str', 'in_reply_to_screen_name', 'in_reply_to_status_id', 'in_reply_to_status_id_str', 'in_reply_to_user_id', 'in_reply_to_user_id_str', 'is_quote_status', 'lang', 'parse', 'parse_list', 'place', 'retweet', 'retweet_count', 'retweeted', 'retweets', 'source', 'source_url', 'text', 'truncated', 'user']\n"
     ]
    }
   ],
   "source": [
    "# Internal methods of a single tweet object:\n",
    "print(dir(tweets[0]))\n"
   ]
  },
  {
   "cell_type": "code",
   "execution_count": 12,
   "metadata": {},
   "outputs": [
    {
     "name": "stdout",
     "output_type": "stream",
     "text": [
      "995253599021289473\n",
      "2018-05-12 10:45:23\n",
      "Twitter for iPhone\n",
      "0\n",
      "0\n",
      "None\n",
      "None\n",
      "LeanneWood\n",
      "14450739\n",
      "14450739\n",
      "<bound method Status.retweet of Status(_api=<tweepy.api.API object at 0x1a0e5dd7f0>, _json={'created_at': 'Sat Jul 07 08:43:21 +0000 2018', 'id': 1015516607857287168, 'id_str': '1015516607857287168', 'text': '@LeanneWood @Plaid_Cymru Happy to support in any way I can..', 'truncated': False, 'entities': {'hashtags': [], 'symbols': [], 'user_mentions': [{'screen_name': 'LeanneWood', 'name': 'LeanneWood 🏴\\U000e0067\\U000e0062\\U000e0077\\U000e006c\\U000e0073\\U000e007f', 'id': 14450739, 'id_str': '14450739', 'indices': [0, 11]}, {'screen_name': 'Plaid_Cymru', 'name': 'Plaid Cymru', 'id': 14411725, 'id_str': '14411725', 'indices': [12, 24]}], 'urls': []}, 'source': '<a href=\"http://twitter.com/download/iphone\" rel=\"nofollow\">Twitter for iPhone</a>', 'in_reply_to_status_id': 1015277528020332544, 'in_reply_to_status_id_str': '1015277528020332544', 'in_reply_to_user_id': 14450739, 'in_reply_to_user_id_str': '14450739', 'in_reply_to_screen_name': 'LeanneWood', 'user': {'id': 4099833803, 'id_str': '4099833803', 'name': 'Andrew Bennison', 'screen_name': 'bennison_andrew', 'location': 'Port Talbot S. Wales', 'description': '', 'url': None, 'entities': {'description': {'urls': []}}, 'protected': False, 'followers_count': 47, 'friends_count': 78, 'listed_count': 5, 'created_at': 'Mon Nov 02 20:56:51 +0000 2015', 'favourites_count': 16, 'utc_offset': None, 'time_zone': None, 'geo_enabled': False, 'verified': False, 'statuses_count': 52, 'lang': 'en-GB', 'contributors_enabled': False, 'is_translator': False, 'is_translation_enabled': False, 'profile_background_color': 'C0DEED', 'profile_background_image_url': 'http://abs.twimg.com/images/themes/theme1/bg.png', 'profile_background_image_url_https': 'https://abs.twimg.com/images/themes/theme1/bg.png', 'profile_background_tile': False, 'profile_image_url': 'http://pbs.twimg.com/profile_images/661289532885704712/ulPh96Dm_normal.jpg', 'profile_image_url_https': 'https://pbs.twimg.com/profile_images/661289532885704712/ulPh96Dm_normal.jpg', 'profile_banner_url': 'https://pbs.twimg.com/profile_banners/4099833803/1446576790', 'profile_link_color': '1DA1F2', 'profile_sidebar_border_color': 'C0DEED', 'profile_sidebar_fill_color': 'DDEEF6', 'profile_text_color': '333333', 'profile_use_background_image': True, 'has_extended_profile': True, 'default_profile': True, 'default_profile_image': False, 'following': False, 'follow_request_sent': False, 'notifications': False, 'translator_type': 'none'}, 'geo': None, 'coordinates': None, 'place': None, 'contributors': None, 'is_quote_status': False, 'retweet_count': 0, 'favorite_count': 1, 'favorited': False, 'retweeted': False, 'lang': 'en'}, created_at=datetime.datetime(2018, 7, 7, 8, 43, 21), id=1015516607857287168, id_str='1015516607857287168', text='@LeanneWood @Plaid_Cymru Happy to support in any way I can..', truncated=False, entities={'hashtags': [], 'symbols': [], 'user_mentions': [{'screen_name': 'LeanneWood', 'name': 'LeanneWood 🏴\\U000e0067\\U000e0062\\U000e0077\\U000e006c\\U000e0073\\U000e007f', 'id': 14450739, 'id_str': '14450739', 'indices': [0, 11]}, {'screen_name': 'Plaid_Cymru', 'name': 'Plaid Cymru', 'id': 14411725, 'id_str': '14411725', 'indices': [12, 24]}], 'urls': []}, source='Twitter for iPhone', source_url='http://twitter.com/download/iphone', in_reply_to_status_id=1015277528020332544, in_reply_to_status_id_str='1015277528020332544', in_reply_to_user_id=14450739, in_reply_to_user_id_str='14450739', in_reply_to_screen_name='LeanneWood', author=User(_api=<tweepy.api.API object at 0x1a0e5dd7f0>, _json={'id': 4099833803, 'id_str': '4099833803', 'name': 'Andrew Bennison', 'screen_name': 'bennison_andrew', 'location': 'Port Talbot S. Wales', 'description': '', 'url': None, 'entities': {'description': {'urls': []}}, 'protected': False, 'followers_count': 47, 'friends_count': 78, 'listed_count': 5, 'created_at': 'Mon Nov 02 20:56:51 +0000 2015', 'favourites_count': 16, 'utc_offset': None, 'time_zone': None, 'geo_enabled': False, 'verified': False, 'statuses_count': 52, 'lang': 'en-GB', 'contributors_enabled': False, 'is_translator': False, 'is_translation_enabled': False, 'profile_background_color': 'C0DEED', 'profile_background_image_url': 'http://abs.twimg.com/images/themes/theme1/bg.png', 'profile_background_image_url_https': 'https://abs.twimg.com/images/themes/theme1/bg.png', 'profile_background_tile': False, 'profile_image_url': 'http://pbs.twimg.com/profile_images/661289532885704712/ulPh96Dm_normal.jpg', 'profile_image_url_https': 'https://pbs.twimg.com/profile_images/661289532885704712/ulPh96Dm_normal.jpg', 'profile_banner_url': 'https://pbs.twimg.com/profile_banners/4099833803/1446576790', 'profile_link_color': '1DA1F2', 'profile_sidebar_border_color': 'C0DEED', 'profile_sidebar_fill_color': 'DDEEF6', 'profile_text_color': '333333', 'profile_use_background_image': True, 'has_extended_profile': True, 'default_profile': True, 'default_profile_image': False, 'following': False, 'follow_request_sent': False, 'notifications': False, 'translator_type': 'none'}, id=4099833803, id_str='4099833803', name='Andrew Bennison', screen_name='bennison_andrew', location='Port Talbot S. Wales', description='', url=None, entities={'description': {'urls': []}}, protected=False, followers_count=47, friends_count=78, listed_count=5, created_at=datetime.datetime(2015, 11, 2, 20, 56, 51), favourites_count=16, utc_offset=None, time_zone=None, geo_enabled=False, verified=False, statuses_count=52, lang='en-GB', contributors_enabled=False, is_translator=False, is_translation_enabled=False, profile_background_color='C0DEED', profile_background_image_url='http://abs.twimg.com/images/themes/theme1/bg.png', profile_background_image_url_https='https://abs.twimg.com/images/themes/theme1/bg.png', profile_background_tile=False, profile_image_url='http://pbs.twimg.com/profile_images/661289532885704712/ulPh96Dm_normal.jpg', profile_image_url_https='https://pbs.twimg.com/profile_images/661289532885704712/ulPh96Dm_normal.jpg', profile_banner_url='https://pbs.twimg.com/profile_banners/4099833803/1446576790', profile_link_color='1DA1F2', profile_sidebar_border_color='C0DEED', profile_sidebar_fill_color='DDEEF6', profile_text_color='333333', profile_use_background_image=True, has_extended_profile=True, default_profile=True, default_profile_image=False, following=False, follow_request_sent=False, notifications=False, translator_type='none'), user=User(_api=<tweepy.api.API object at 0x1a0e5dd7f0>, _json={'id': 4099833803, 'id_str': '4099833803', 'name': 'Andrew Bennison', 'screen_name': 'bennison_andrew', 'location': 'Port Talbot S. Wales', 'description': '', 'url': None, 'entities': {'description': {'urls': []}}, 'protected': False, 'followers_count': 47, 'friends_count': 78, 'listed_count': 5, 'created_at': 'Mon Nov 02 20:56:51 +0000 2015', 'favourites_count': 16, 'utc_offset': None, 'time_zone': None, 'geo_enabled': False, 'verified': False, 'statuses_count': 52, 'lang': 'en-GB', 'contributors_enabled': False, 'is_translator': False, 'is_translation_enabled': False, 'profile_background_color': 'C0DEED', 'profile_background_image_url': 'http://abs.twimg.com/images/themes/theme1/bg.png', 'profile_background_image_url_https': 'https://abs.twimg.com/images/themes/theme1/bg.png', 'profile_background_tile': False, 'profile_image_url': 'http://pbs.twimg.com/profile_images/661289532885704712/ulPh96Dm_normal.jpg', 'profile_image_url_https': 'https://pbs.twimg.com/profile_images/661289532885704712/ulPh96Dm_normal.jpg', 'profile_banner_url': 'https://pbs.twimg.com/profile_banners/4099833803/1446576790', 'profile_link_color': '1DA1F2', 'profile_sidebar_border_color': 'C0DEED', 'profile_sidebar_fill_color': 'DDEEF6', 'profile_text_color': '333333', 'profile_use_background_image': True, 'has_extended_profile': True, 'default_profile': True, 'default_profile_image': False, 'following': False, 'follow_request_sent': False, 'notifications': False, 'translator_type': 'none'}, id=4099833803, id_str='4099833803', name='Andrew Bennison', screen_name='bennison_andrew', location='Port Talbot S. Wales', description='', url=None, entities={'description': {'urls': []}}, protected=False, followers_count=47, friends_count=78, listed_count=5, created_at=datetime.datetime(2015, 11, 2, 20, 56, 51), favourites_count=16, utc_offset=None, time_zone=None, geo_enabled=False, verified=False, statuses_count=52, lang='en-GB', contributors_enabled=False, is_translator=False, is_translation_enabled=False, profile_background_color='C0DEED', profile_background_image_url='http://abs.twimg.com/images/themes/theme1/bg.png', profile_background_image_url_https='https://abs.twimg.com/images/themes/theme1/bg.png', profile_background_tile=False, profile_image_url='http://pbs.twimg.com/profile_images/661289532885704712/ulPh96Dm_normal.jpg', profile_image_url_https='https://pbs.twimg.com/profile_images/661289532885704712/ulPh96Dm_normal.jpg', profile_banner_url='https://pbs.twimg.com/profile_banners/4099833803/1446576790', profile_link_color='1DA1F2', profile_sidebar_border_color='C0DEED', profile_sidebar_fill_color='DDEEF6', profile_text_color='333333', profile_use_background_image=True, has_extended_profile=True, default_profile=True, default_profile_image=False, following=False, follow_request_sent=False, notifications=False, translator_type='none'), geo=None, coordinates=None, place=None, contributors=None, is_quote_status=False, retweet_count=0, favorite_count=1, favorited=False, retweeted=False, lang='en')>\n",
      "False\n",
      "<bound method Status.retweets of Status(_api=<tweepy.api.API object at 0x1a0e5dd7f0>, _json={'created_at': 'Sat Jul 07 08:43:21 +0000 2018', 'id': 1015516607857287168, 'id_str': '1015516607857287168', 'text': '@LeanneWood @Plaid_Cymru Happy to support in any way I can..', 'truncated': False, 'entities': {'hashtags': [], 'symbols': [], 'user_mentions': [{'screen_name': 'LeanneWood', 'name': 'LeanneWood 🏴\\U000e0067\\U000e0062\\U000e0077\\U000e006c\\U000e0073\\U000e007f', 'id': 14450739, 'id_str': '14450739', 'indices': [0, 11]}, {'screen_name': 'Plaid_Cymru', 'name': 'Plaid Cymru', 'id': 14411725, 'id_str': '14411725', 'indices': [12, 24]}], 'urls': []}, 'source': '<a href=\"http://twitter.com/download/iphone\" rel=\"nofollow\">Twitter for iPhone</a>', 'in_reply_to_status_id': 1015277528020332544, 'in_reply_to_status_id_str': '1015277528020332544', 'in_reply_to_user_id': 14450739, 'in_reply_to_user_id_str': '14450739', 'in_reply_to_screen_name': 'LeanneWood', 'user': {'id': 4099833803, 'id_str': '4099833803', 'name': 'Andrew Bennison', 'screen_name': 'bennison_andrew', 'location': 'Port Talbot S. Wales', 'description': '', 'url': None, 'entities': {'description': {'urls': []}}, 'protected': False, 'followers_count': 47, 'friends_count': 78, 'listed_count': 5, 'created_at': 'Mon Nov 02 20:56:51 +0000 2015', 'favourites_count': 16, 'utc_offset': None, 'time_zone': None, 'geo_enabled': False, 'verified': False, 'statuses_count': 52, 'lang': 'en-GB', 'contributors_enabled': False, 'is_translator': False, 'is_translation_enabled': False, 'profile_background_color': 'C0DEED', 'profile_background_image_url': 'http://abs.twimg.com/images/themes/theme1/bg.png', 'profile_background_image_url_https': 'https://abs.twimg.com/images/themes/theme1/bg.png', 'profile_background_tile': False, 'profile_image_url': 'http://pbs.twimg.com/profile_images/661289532885704712/ulPh96Dm_normal.jpg', 'profile_image_url_https': 'https://pbs.twimg.com/profile_images/661289532885704712/ulPh96Dm_normal.jpg', 'profile_banner_url': 'https://pbs.twimg.com/profile_banners/4099833803/1446576790', 'profile_link_color': '1DA1F2', 'profile_sidebar_border_color': 'C0DEED', 'profile_sidebar_fill_color': 'DDEEF6', 'profile_text_color': '333333', 'profile_use_background_image': True, 'has_extended_profile': True, 'default_profile': True, 'default_profile_image': False, 'following': False, 'follow_request_sent': False, 'notifications': False, 'translator_type': 'none'}, 'geo': None, 'coordinates': None, 'place': None, 'contributors': None, 'is_quote_status': False, 'retweet_count': 0, 'favorite_count': 1, 'favorited': False, 'retweeted': False, 'lang': 'en'}, created_at=datetime.datetime(2018, 7, 7, 8, 43, 21), id=1015516607857287168, id_str='1015516607857287168', text='@LeanneWood @Plaid_Cymru Happy to support in any way I can..', truncated=False, entities={'hashtags': [], 'symbols': [], 'user_mentions': [{'screen_name': 'LeanneWood', 'name': 'LeanneWood 🏴\\U000e0067\\U000e0062\\U000e0077\\U000e006c\\U000e0073\\U000e007f', 'id': 14450739, 'id_str': '14450739', 'indices': [0, 11]}, {'screen_name': 'Plaid_Cymru', 'name': 'Plaid Cymru', 'id': 14411725, 'id_str': '14411725', 'indices': [12, 24]}], 'urls': []}, source='Twitter for iPhone', source_url='http://twitter.com/download/iphone', in_reply_to_status_id=1015277528020332544, in_reply_to_status_id_str='1015277528020332544', in_reply_to_user_id=14450739, in_reply_to_user_id_str='14450739', in_reply_to_screen_name='LeanneWood', author=User(_api=<tweepy.api.API object at 0x1a0e5dd7f0>, _json={'id': 4099833803, 'id_str': '4099833803', 'name': 'Andrew Bennison', 'screen_name': 'bennison_andrew', 'location': 'Port Talbot S. Wales', 'description': '', 'url': None, 'entities': {'description': {'urls': []}}, 'protected': False, 'followers_count': 47, 'friends_count': 78, 'listed_count': 5, 'created_at': 'Mon Nov 02 20:56:51 +0000 2015', 'favourites_count': 16, 'utc_offset': None, 'time_zone': None, 'geo_enabled': False, 'verified': False, 'statuses_count': 52, 'lang': 'en-GB', 'contributors_enabled': False, 'is_translator': False, 'is_translation_enabled': False, 'profile_background_color': 'C0DEED', 'profile_background_image_url': 'http://abs.twimg.com/images/themes/theme1/bg.png', 'profile_background_image_url_https': 'https://abs.twimg.com/images/themes/theme1/bg.png', 'profile_background_tile': False, 'profile_image_url': 'http://pbs.twimg.com/profile_images/661289532885704712/ulPh96Dm_normal.jpg', 'profile_image_url_https': 'https://pbs.twimg.com/profile_images/661289532885704712/ulPh96Dm_normal.jpg', 'profile_banner_url': 'https://pbs.twimg.com/profile_banners/4099833803/1446576790', 'profile_link_color': '1DA1F2', 'profile_sidebar_border_color': 'C0DEED', 'profile_sidebar_fill_color': 'DDEEF6', 'profile_text_color': '333333', 'profile_use_background_image': True, 'has_extended_profile': True, 'default_profile': True, 'default_profile_image': False, 'following': False, 'follow_request_sent': False, 'notifications': False, 'translator_type': 'none'}, id=4099833803, id_str='4099833803', name='Andrew Bennison', screen_name='bennison_andrew', location='Port Talbot S. Wales', description='', url=None, entities={'description': {'urls': []}}, protected=False, followers_count=47, friends_count=78, listed_count=5, created_at=datetime.datetime(2015, 11, 2, 20, 56, 51), favourites_count=16, utc_offset=None, time_zone=None, geo_enabled=False, verified=False, statuses_count=52, lang='en-GB', contributors_enabled=False, is_translator=False, is_translation_enabled=False, profile_background_color='C0DEED', profile_background_image_url='http://abs.twimg.com/images/themes/theme1/bg.png', profile_background_image_url_https='https://abs.twimg.com/images/themes/theme1/bg.png', profile_background_tile=False, profile_image_url='http://pbs.twimg.com/profile_images/661289532885704712/ulPh96Dm_normal.jpg', profile_image_url_https='https://pbs.twimg.com/profile_images/661289532885704712/ulPh96Dm_normal.jpg', profile_banner_url='https://pbs.twimg.com/profile_banners/4099833803/1446576790', profile_link_color='1DA1F2', profile_sidebar_border_color='C0DEED', profile_sidebar_fill_color='DDEEF6', profile_text_color='333333', profile_use_background_image=True, has_extended_profile=True, default_profile=True, default_profile_image=False, following=False, follow_request_sent=False, notifications=False, translator_type='none'), user=User(_api=<tweepy.api.API object at 0x1a0e5dd7f0>, _json={'id': 4099833803, 'id_str': '4099833803', 'name': 'Andrew Bennison', 'screen_name': 'bennison_andrew', 'location': 'Port Talbot S. Wales', 'description': '', 'url': None, 'entities': {'description': {'urls': []}}, 'protected': False, 'followers_count': 47, 'friends_count': 78, 'listed_count': 5, 'created_at': 'Mon Nov 02 20:56:51 +0000 2015', 'favourites_count': 16, 'utc_offset': None, 'time_zone': None, 'geo_enabled': False, 'verified': False, 'statuses_count': 52, 'lang': 'en-GB', 'contributors_enabled': False, 'is_translator': False, 'is_translation_enabled': False, 'profile_background_color': 'C0DEED', 'profile_background_image_url': 'http://abs.twimg.com/images/themes/theme1/bg.png', 'profile_background_image_url_https': 'https://abs.twimg.com/images/themes/theme1/bg.png', 'profile_background_tile': False, 'profile_image_url': 'http://pbs.twimg.com/profile_images/661289532885704712/ulPh96Dm_normal.jpg', 'profile_image_url_https': 'https://pbs.twimg.com/profile_images/661289532885704712/ulPh96Dm_normal.jpg', 'profile_banner_url': 'https://pbs.twimg.com/profile_banners/4099833803/1446576790', 'profile_link_color': '1DA1F2', 'profile_sidebar_border_color': 'C0DEED', 'profile_sidebar_fill_color': 'DDEEF6', 'profile_text_color': '333333', 'profile_use_background_image': True, 'has_extended_profile': True, 'default_profile': True, 'default_profile_image': False, 'following': False, 'follow_request_sent': False, 'notifications': False, 'translator_type': 'none'}, id=4099833803, id_str='4099833803', name='Andrew Bennison', screen_name='bennison_andrew', location='Port Talbot S. Wales', description='', url=None, entities={'description': {'urls': []}}, protected=False, followers_count=47, friends_count=78, listed_count=5, created_at=datetime.datetime(2015, 11, 2, 20, 56, 51), favourites_count=16, utc_offset=None, time_zone=None, geo_enabled=False, verified=False, statuses_count=52, lang='en-GB', contributors_enabled=False, is_translator=False, is_translation_enabled=False, profile_background_color='C0DEED', profile_background_image_url='http://abs.twimg.com/images/themes/theme1/bg.png', profile_background_image_url_https='https://abs.twimg.com/images/themes/theme1/bg.png', profile_background_tile=False, profile_image_url='http://pbs.twimg.com/profile_images/661289532885704712/ulPh96Dm_normal.jpg', profile_image_url_https='https://pbs.twimg.com/profile_images/661289532885704712/ulPh96Dm_normal.jpg', profile_banner_url='https://pbs.twimg.com/profile_banners/4099833803/1446576790', profile_link_color='1DA1F2', profile_sidebar_border_color='C0DEED', profile_sidebar_fill_color='DDEEF6', profile_text_color='333333', profile_use_background_image=True, has_extended_profile=True, default_profile=True, default_profile_image=False, following=False, follow_request_sent=False, notifications=False, translator_type='none'), geo=None, coordinates=None, place=None, contributors=None, is_quote_status=False, retweet_count=0, favorite_count=1, favorited=False, retweeted=False, lang='en')>\n"
     ]
    }
   ],
   "source": [
    "# We print info from the first tweet:\n",
    "\n",
    "print(tweets[2].id)\n",
    "print(tweets[2].created_at)\n",
    "print(tweets[2].source)\n",
    "print(tweets[2].favorite_count)\n",
    "print(tweets[2].retweet_count)\n",
    "\n",
    "print(tweets[0].geo)\n",
    "print(tweets[0].coordinates)\n",
    "#print(tweets[0].entities)\n",
    "\n",
    "print(tweets[0].in_reply_to_screen_name)\n",
    "print(tweets[0].in_reply_to_user_id)\n",
    "print(tweets[0].in_reply_to_user_id_str)\n",
    "#print(tweets[0].place)\n",
    "print(tweets[0].retweet)\n",
    "print(tweets[0].retweeted)\n",
    "print(tweets[0].retweets)\n"
   ]
  },
  {
   "cell_type": "code",
   "execution_count": 45,
   "metadata": {
    "collapsed": true
   },
   "outputs": [],
   "source": [
    "# We add relevant data:\n",
    "#data['len']  = np.array([len(tweet.text) for tweet in tweets])\n",
    "#data['ID']   = np.array([tweet.id for tweet in tweets])\n",
    "#data['Date'] = np.array([tweet.created_at for tweet in tweets])\n",
    "#data['Source'] = np.array([tweet.source for tweet in tweets])\n",
    "#data['Likes']  = np.array([tweet.favorite_count for tweet in tweets])\n",
    "#data['RTs']    = np.array([tweet.retweet_count for tweet in tweets])\n"
   ]
  },
  {
   "cell_type": "code",
   "execution_count": 46,
   "metadata": {},
   "outputs": [
    {
     "data": {
      "text/html": [
       "<div>\n",
       "<style>\n",
       "    .dataframe thead tr:only-child th {\n",
       "        text-align: right;\n",
       "    }\n",
       "\n",
       "    .dataframe thead th {\n",
       "        text-align: left;\n",
       "    }\n",
       "\n",
       "    .dataframe tbody tr th {\n",
       "        vertical-align: top;\n",
       "    }\n",
       "</style>\n",
       "<table border=\"1\" class=\"dataframe\">\n",
       "  <thead>\n",
       "    <tr style=\"text-align: right;\">\n",
       "      <th></th>\n",
       "      <th>Tweets</th>\n",
       "      <th>len</th>\n",
       "      <th>ID</th>\n",
       "      <th>Date</th>\n",
       "      <th>Source</th>\n",
       "      <th>Likes</th>\n",
       "      <th>RTs</th>\n",
       "    </tr>\n",
       "  </thead>\n",
       "  <tbody>\n",
       "    <tr>\n",
       "      <th>0</th>\n",
       "      <td>Pretty damning assessment.\\n\\nNorman Baker: I ...</td>\n",
       "      <td>136</td>\n",
       "      <td>1017443135004266496</td>\n",
       "      <td>2018-07-12 16:18:41</td>\n",
       "      <td>Twitter for Android</td>\n",
       "      <td>0</td>\n",
       "      <td>0</td>\n",
       "    </tr>\n",
       "    <tr>\n",
       "      <th>1</th>\n",
       "      <td>RT @chrisinsilico: Cambridge Analytica and Ste...</td>\n",
       "      <td>140</td>\n",
       "      <td>1017322678729035776</td>\n",
       "      <td>2018-07-12 08:20:02</td>\n",
       "      <td>Twitter for Android</td>\n",
       "      <td>0</td>\n",
       "      <td>3611</td>\n",
       "    </tr>\n",
       "    <tr>\n",
       "      <th>2</th>\n",
       "      <td>RT @DotLepkowska: Donald Tusk, as a student, w...</td>\n",
       "      <td>140</td>\n",
       "      <td>1017321530160762880</td>\n",
       "      <td>2018-07-12 08:15:28</td>\n",
       "      <td>Twitter for Android</td>\n",
       "      <td>0</td>\n",
       "      <td>697</td>\n",
       "    </tr>\n",
       "    <tr>\n",
       "      <th>3</th>\n",
       "      <td>RT @jo_penberthy: Never thought I as an anti a...</td>\n",
       "      <td>140</td>\n",
       "      <td>1017318001983582208</td>\n",
       "      <td>2018-07-12 08:01:27</td>\n",
       "      <td>Twitter for Android</td>\n",
       "      <td>0</td>\n",
       "      <td>222</td>\n",
       "    </tr>\n",
       "    <tr>\n",
       "      <th>4</th>\n",
       "      <td>RT @slowbikeiain: That's fine phil - but it do...</td>\n",
       "      <td>140</td>\n",
       "      <td>1017317335282212864</td>\n",
       "      <td>2018-07-12 07:58:48</td>\n",
       "      <td>Twitter for Android</td>\n",
       "      <td>0</td>\n",
       "      <td>6</td>\n",
       "    </tr>\n",
       "    <tr>\n",
       "      <th>5</th>\n",
       "      <td>RT @pswidlicki: Kate is textbook example of ho...</td>\n",
       "      <td>139</td>\n",
       "      <td>1017316925997764608</td>\n",
       "      <td>2018-07-12 07:57:10</td>\n",
       "      <td>Twitter for Android</td>\n",
       "      <td>0</td>\n",
       "      <td>819</td>\n",
       "    </tr>\n",
       "    <tr>\n",
       "      <th>6</th>\n",
       "      <td>RT @Andrew_Adonis: I don’t mind the Blitz spir...</td>\n",
       "      <td>140</td>\n",
       "      <td>1017316745491763200</td>\n",
       "      <td>2018-07-12 07:56:27</td>\n",
       "      <td>Twitter for Android</td>\n",
       "      <td>0</td>\n",
       "      <td>371</td>\n",
       "    </tr>\n",
       "    <tr>\n",
       "      <th>7</th>\n",
       "      <td>RT @Tommoriarty16: Essentially Ms Patel, in so...</td>\n",
       "      <td>140</td>\n",
       "      <td>1017316636850839557</td>\n",
       "      <td>2018-07-12 07:56:01</td>\n",
       "      <td>Twitter for Android</td>\n",
       "      <td>0</td>\n",
       "      <td>181</td>\n",
       "    </tr>\n",
       "    <tr>\n",
       "      <th>8</th>\n",
       "      <td>RT @garvanwalshe: 13. In any case presenting Y...</td>\n",
       "      <td>140</td>\n",
       "      <td>1017314685299851264</td>\n",
       "      <td>2018-07-12 07:48:16</td>\n",
       "      <td>Twitter for Android</td>\n",
       "      <td>0</td>\n",
       "      <td>6</td>\n",
       "    </tr>\n",
       "    <tr>\n",
       "      <th>9</th>\n",
       "      <td>RT @BrexitBin: Your daily reminder that if we ...</td>\n",
       "      <td>140</td>\n",
       "      <td>1017171927817957381</td>\n",
       "      <td>2018-07-11 22:21:00</td>\n",
       "      <td>Twitter for Android</td>\n",
       "      <td>0</td>\n",
       "      <td>739</td>\n",
       "    </tr>\n",
       "  </tbody>\n",
       "</table>\n",
       "</div>"
      ],
      "text/plain": [
       "                                              Tweets  len  \\\n",
       "0  Pretty damning assessment.\\n\\nNorman Baker: I ...  136   \n",
       "1  RT @chrisinsilico: Cambridge Analytica and Ste...  140   \n",
       "2  RT @DotLepkowska: Donald Tusk, as a student, w...  140   \n",
       "3  RT @jo_penberthy: Never thought I as an anti a...  140   \n",
       "4  RT @slowbikeiain: That's fine phil - but it do...  140   \n",
       "5  RT @pswidlicki: Kate is textbook example of ho...  139   \n",
       "6  RT @Andrew_Adonis: I don’t mind the Blitz spir...  140   \n",
       "7  RT @Tommoriarty16: Essentially Ms Patel, in so...  140   \n",
       "8  RT @garvanwalshe: 13. In any case presenting Y...  140   \n",
       "9  RT @BrexitBin: Your daily reminder that if we ...  140   \n",
       "\n",
       "                    ID                Date               Source  Likes   RTs  \n",
       "0  1017443135004266496 2018-07-12 16:18:41  Twitter for Android      0     0  \n",
       "1  1017322678729035776 2018-07-12 08:20:02  Twitter for Android      0  3611  \n",
       "2  1017321530160762880 2018-07-12 08:15:28  Twitter for Android      0   697  \n",
       "3  1017318001983582208 2018-07-12 08:01:27  Twitter for Android      0   222  \n",
       "4  1017317335282212864 2018-07-12 07:58:48  Twitter for Android      0     6  \n",
       "5  1017316925997764608 2018-07-12 07:57:10  Twitter for Android      0   819  \n",
       "6  1017316745491763200 2018-07-12 07:56:27  Twitter for Android      0   371  \n",
       "7  1017316636850839557 2018-07-12 07:56:01  Twitter for Android      0   181  \n",
       "8  1017314685299851264 2018-07-12 07:48:16  Twitter for Android      0     6  \n",
       "9  1017171927817957381 2018-07-11 22:21:00  Twitter for Android      0   739  "
      ]
     },
     "metadata": {},
     "output_type": "display_data"
    }
   ],
   "source": [
    "# Display of first 10 elements from dataframe:\n",
    "#display(data.head(10))\n"
   ]
  },
  {
   "cell_type": "code",
   "execution_count": 57,
   "metadata": {
    "collapsed": true
   },
   "outputs": [],
   "source": [
    "#write this dataframe into csv \n",
    "\n",
    "#data.to_csv('%s_likes_rts.csv' % content[n], sep=',', encoding='utf-8')\n",
    "\n",
    "#due to the twitter content is not determined, the data form needs extre cleaning steps"
   ]
  },
  {
   "cell_type": "code",
   "execution_count": null,
   "metadata": {
    "collapsed": true
   },
   "outputs": [],
   "source": []
  },
  {
   "cell_type": "code",
   "execution_count": 125,
   "metadata": {},
   "outputs": [
    {
     "name": "stdout",
     "output_type": "stream",
     "text": [
      "The lenght's average in tweets: 127.705\n"
     ]
    }
   ],
   "source": [
    "# We extract the mean of lenghts:\n",
    "mean = np.mean(data['len'])\n",
    "\n",
    "print(\"The lenght's average in tweets: {}\".format(mean))\n"
   ]
  },
  {
   "cell_type": "code",
   "execution_count": 134,
   "metadata": {},
   "outputs": [
    {
     "name": "stdout",
     "output_type": "stream",
     "text": [
      "The Likes' average in tweets: 3.6\n"
     ]
    }
   ],
   "source": [
    "# We extract the mean of likes:\n",
    "mean = np.mean(data['Likes'])\n",
    "\n",
    "print(\"The Likes' average in tweets: {}\".format(mean))"
   ]
  },
  {
   "cell_type": "code",
   "execution_count": 126,
   "metadata": {},
   "outputs": [
    {
     "name": "stdout",
     "output_type": "stream",
     "text": [
      "The tweet with more likes is: \n",
      "Had a bit of time off twitter while I did a life thing 👰 🤗\n",
      "\n",
      "Still grinning about the day &amp; thanks to all the fab Co… https://t.co/1lxdbiY3mK\n",
      "Number of likes: 102\n",
      "144 characters.\n",
      "\n",
      "The tweet with more retweets is: \n",
      "RT @KensingtonRoyal: The Duke and Duchess of Cambridge are delighted to announce that they have named their son Louis Arthur Charles.\n",
      " \n",
      "The…\n",
      "Number of retweets: 36590\n",
      "140 characters.\n",
      "\n"
     ]
    }
   ],
   "source": [
    "# We extract the tweet with more FAVs and more RTs:\n",
    "\n",
    "fav_max = np.max(data['Likes'])\n",
    "rt_max  = np.max(data['RTs'])\n",
    "\n",
    "fav = data[data.Likes == fav_max].index[0]\n",
    "rt  = data[data.RTs == rt_max].index[0]\n",
    "\n",
    "# Max FAVs:\n",
    "print(\"The tweet with more likes is: \\n{}\".format(data['Tweets'][fav]))\n",
    "print(\"Number of likes: {}\".format(fav_max))\n",
    "print(\"{} characters.\\n\".format(data['len'][fav]))\n",
    "\n",
    "# Max RTs:\n",
    "print(\"The tweet with more retweets is: \\n{}\".format(data['Tweets'][rt]))\n",
    "print(\"Number of retweets: {}\".format(rt_max))\n",
    "print(\"{} characters.\\n\".format(data['len'][rt]))\n"
   ]
  },
  {
   "cell_type": "code",
   "execution_count": 127,
   "metadata": {
    "collapsed": true
   },
   "outputs": [],
   "source": [
    "# We create time series for data:\n",
    "\n",
    "tlen = pd.Series(data=data['len'].values, index=data['Date'])\n",
    "tfav = pd.Series(data=data['Likes'].values, index=data['Date'])\n",
    "tret = pd.Series(data=data['RTs'].values, index=data['Date'])\n"
   ]
  },
  {
   "cell_type": "code",
   "execution_count": 128,
   "metadata": {},
   "outputs": [
    {
     "data": {
      "image/png": "[encoded data removed]",
      "text/plain": [
       "<matplotlib.figure.Figure at 0x1a19dcfcf8>"
      ]
     },
     "metadata": {},
     "output_type": "display_data"
    }
   ],
   "source": [
    "# Lenghts along time:\n",
    "tlen.plot(figsize=(16,4), color='r');\n"
   ]
  },
  {
   "cell_type": "code",
   "execution_count": 129,
   "metadata": {},
   "outputs": [
    {
     "data": {
      "image/png": "[encoded data removed]",
      "text/plain": [
       "<matplotlib.figure.Figure at 0x1a14d8a320>"
      ]
     },
     "metadata": {},
     "output_type": "display_data"
    }
   ],
   "source": [
    "# Likes vs retweets visualization:\n",
    "tfav.plot(figsize=(16,4), label=\"Likes\", legend=True)\n",
    "tret.plot(figsize=(16,4), label=\"Retweets\", legend=True);\n"
   ]
  },
  {
   "cell_type": "code",
   "execution_count": 130,
   "metadata": {
    "collapsed": true
   },
   "outputs": [],
   "source": [
    "from textblob import TextBlob\n",
    "import re\n",
    "\n",
    "def clean_tweet(tweet):\n",
    "    '''\n",
    "    Utility function to clean the text in a tweet by removing \n",
    "    links and special characters using regex.\n",
    "    '''\n",
    "    return ' '.join(re.sub(\"(@[A-Za-z0-9]+)|([^0-9A-Za-z \\t])|(\\w+:\\/\\/\\S+)\", \" \", tweet).split())\n",
    "\n",
    "def analize_sentiment(tweet):\n",
    "    '''\n",
    "    Utility function to classify the polarity of a tweet\n",
    "    using textblob.\n",
    "    '''\n",
    "    analysis = TextBlob(clean_tweet(tweet))\n",
    "    if analysis.sentiment.polarity > 0:\n",
    "        return 1\n",
    "    elif analysis.sentiment.polarity == 0:\n",
    "        return 0\n",
    "    else:\n",
    "        return -1\n"
   ]
  },
  {
   "cell_type": "code",
   "execution_count": 131,
   "metadata": {},
   "outputs": [
    {
     "data": {
      "text/html": [
       "<div>\n",
       "<style>\n",
       "    .dataframe thead tr:only-child th {\n",
       "        text-align: right;\n",
       "    }\n",
       "\n",
       "    .dataframe thead th {\n",
       "        text-align: left;\n",
       "    }\n",
       "\n",
       "    .dataframe tbody tr th {\n",
       "        vertical-align: top;\n",
       "    }\n",
       "</style>\n",
       "<table border=\"1\" class=\"dataframe\">\n",
       "  <thead>\n",
       "    <tr style=\"text-align: right;\">\n",
       "      <th></th>\n",
       "      <th>Tweets</th>\n",
       "      <th>len</th>\n",
       "      <th>ID</th>\n",
       "      <th>Date</th>\n",
       "      <th>Source</th>\n",
       "      <th>Likes</th>\n",
       "      <th>RTs</th>\n",
       "      <th>SA</th>\n",
       "    </tr>\n",
       "  </thead>\n",
       "  <tbody>\n",
       "    <tr>\n",
       "      <th>0</th>\n",
       "      <td>RT @England: Wise words from the gaffer. 👏\\n\\n...</td>\n",
       "      <td>81</td>\n",
       "      <td>1017311645230620672</td>\n",
       "      <td>2018-07-12 07:36:11</td>\n",
       "      <td>Twitter for iPhone</td>\n",
       "      <td>0</td>\n",
       "      <td>361</td>\n",
       "      <td>1</td>\n",
       "    </tr>\n",
       "    <tr>\n",
       "      <th>1</th>\n",
       "      <td>🙁 x</td>\n",
       "      <td>3</td>\n",
       "      <td>1017153354928214016</td>\n",
       "      <td>2018-07-11 21:07:12</td>\n",
       "      <td>Twitter for iPhone</td>\n",
       "      <td>1</td>\n",
       "      <td>0</td>\n",
       "      <td>0</td>\n",
       "    </tr>\n",
       "    <tr>\n",
       "      <th>2</th>\n",
       "      <td>RT @VirginiaCrosbie: ‘Looking forward to seein...</td>\n",
       "      <td>140</td>\n",
       "      <td>1016958897507225600</td>\n",
       "      <td>2018-07-11 08:14:30</td>\n",
       "      <td>Twitter for iPhone</td>\n",
       "      <td>0</td>\n",
       "      <td>7</td>\n",
       "      <td>1</td>\n",
       "    </tr>\n",
       "    <tr>\n",
       "      <th>3</th>\n",
       "      <td>https://t.co/dPqBkvcXWb</td>\n",
       "      <td>23</td>\n",
       "      <td>1016662082182410240</td>\n",
       "      <td>2018-07-10 12:35:03</td>\n",
       "      <td>Twitter for iPhone</td>\n",
       "      <td>1</td>\n",
       "      <td>0</td>\n",
       "      <td>0</td>\n",
       "    </tr>\n",
       "    <tr>\n",
       "      <th>4</th>\n",
       "      <td>I have a very close family member in the RAF. ...</td>\n",
       "      <td>141</td>\n",
       "      <td>1016603791217524736</td>\n",
       "      <td>2018-07-10 08:43:26</td>\n",
       "      <td>Twitter for iPhone</td>\n",
       "      <td>9</td>\n",
       "      <td>2</td>\n",
       "      <td>1</td>\n",
       "    </tr>\n",
       "    <tr>\n",
       "      <th>5</th>\n",
       "      <td>Pleased to see @JustinTomlinson @DWP There is ...</td>\n",
       "      <td>144</td>\n",
       "      <td>1016599484439191553</td>\n",
       "      <td>2018-07-10 08:26:19</td>\n",
       "      <td>Twitter for iPhone</td>\n",
       "      <td>1</td>\n",
       "      <td>1</td>\n",
       "      <td>1</td>\n",
       "    </tr>\n",
       "    <tr>\n",
       "      <th>6</th>\n",
       "      <td>Lovely stuff ⚽️🤗x https://t.co/I20NwORkW1</td>\n",
       "      <td>41</td>\n",
       "      <td>1015646011879018496</td>\n",
       "      <td>2018-07-07 17:17:33</td>\n",
       "      <td>Twitter for iPhone</td>\n",
       "      <td>8</td>\n",
       "      <td>0</td>\n",
       "      <td>1</td>\n",
       "    </tr>\n",
       "    <tr>\n",
       "      <th>7</th>\n",
       "      <td>RT @Telegraph: To some, a LGBTQ conservative i...</td>\n",
       "      <td>140</td>\n",
       "      <td>1015568172873809920</td>\n",
       "      <td>2018-07-07 12:08:15</td>\n",
       "      <td>Twitter for iPhone</td>\n",
       "      <td>0</td>\n",
       "      <td>64</td>\n",
       "      <td>0</td>\n",
       "    </tr>\n",
       "    <tr>\n",
       "      <th>8</th>\n",
       "      <td>RT @aliciakearns: Taking a moment today to rem...</td>\n",
       "      <td>138</td>\n",
       "      <td>1015542334220652545</td>\n",
       "      <td>2018-07-07 10:25:34</td>\n",
       "      <td>Twitter for iPhone</td>\n",
       "      <td>0</td>\n",
       "      <td>53</td>\n",
       "      <td>-1</td>\n",
       "    </tr>\n",
       "    <tr>\n",
       "      <th>9</th>\n",
       "      <td>Before you go to watch the football tomorrow.....</td>\n",
       "      <td>140</td>\n",
       "      <td>1015279507278893062</td>\n",
       "      <td>2018-07-06 17:01:12</td>\n",
       "      <td>Twitter for iPhone</td>\n",
       "      <td>0</td>\n",
       "      <td>0</td>\n",
       "      <td>1</td>\n",
       "    </tr>\n",
       "  </tbody>\n",
       "</table>\n",
       "</div>"
      ],
      "text/plain": [
       "                                              Tweets  len  \\\n",
       "0  RT @England: Wise words from the gaffer. 👏\\n\\n...   81   \n",
       "1                                                🙁 x    3   \n",
       "2  RT @VirginiaCrosbie: ‘Looking forward to seein...  140   \n",
       "3                            https://t.co/dPqBkvcXWb   23   \n",
       "4  I have a very close family member in the RAF. ...  141   \n",
       "5  Pleased to see @JustinTomlinson @DWP There is ...  144   \n",
       "6          Lovely stuff ⚽️🤗x https://t.co/I20NwORkW1   41   \n",
       "7  RT @Telegraph: To some, a LGBTQ conservative i...  140   \n",
       "8  RT @aliciakearns: Taking a moment today to rem...  138   \n",
       "9  Before you go to watch the football tomorrow.....  140   \n",
       "\n",
       "                    ID                Date              Source  Likes  RTs  SA  \n",
       "0  1017311645230620672 2018-07-12 07:36:11  Twitter for iPhone      0  361   1  \n",
       "1  1017153354928214016 2018-07-11 21:07:12  Twitter for iPhone      1    0   0  \n",
       "2  1016958897507225600 2018-07-11 08:14:30  Twitter for iPhone      0    7   1  \n",
       "3  1016662082182410240 2018-07-10 12:35:03  Twitter for iPhone      1    0   0  \n",
       "4  1016603791217524736 2018-07-10 08:43:26  Twitter for iPhone      9    2   1  \n",
       "5  1016599484439191553 2018-07-10 08:26:19  Twitter for iPhone      1    1   1  \n",
       "6  1015646011879018496 2018-07-07 17:17:33  Twitter for iPhone      8    0   1  \n",
       "7  1015568172873809920 2018-07-07 12:08:15  Twitter for iPhone      0   64   0  \n",
       "8  1015542334220652545 2018-07-07 10:25:34  Twitter for iPhone      0   53  -1  \n",
       "9  1015279507278893062 2018-07-06 17:01:12  Twitter for iPhone      0    0   1  "
      ]
     },
     "metadata": {},
     "output_type": "display_data"
    }
   ],
   "source": [
    "# We create a column with the result of the analysis:\n",
    "data['SA'] = np.array([ analize_sentiment(tweet) for tweet in data['Tweets'] ])\n",
    "\n",
    "# We display the updated dataframe with the new column:\n",
    "display(data.head(10))\n"
   ]
  },
  {
   "cell_type": "code",
   "execution_count": 132,
   "metadata": {
    "collapsed": true
   },
   "outputs": [],
   "source": [
    "# We construct lists with classified tweets:\n",
    "\n",
    "pos_tweets = [ tweet for index, tweet in enumerate(data['Tweets']) if data['SA'][index] > 0]\n",
    "neu_tweets = [ tweet for index, tweet in enumerate(data['Tweets']) if data['SA'][index] == 0]\n",
    "neg_tweets = [ tweet for index, tweet in enumerate(data['Tweets']) if data['SA'][index] < 0]\n"
   ]
  },
  {
   "cell_type": "code",
   "execution_count": 133,
   "metadata": {},
   "outputs": [
    {
     "name": "stdout",
     "output_type": "stream",
     "text": [
      "Percentage of positive tweets: 66.0%\n",
      "Percentage of neutral tweets: 23.5%\n",
      "Percentage de negative tweets: 10.5%\n"
     ]
    }
   ],
   "source": [
    "# We print percentages:\n",
    "\n",
    "print(\"Percentage of positive tweets: {}%\".format(len(pos_tweets)*100/len(data['Tweets'])))\n",
    "print(\"Percentage of neutral tweets: {}%\".format(len(neu_tweets)*100/len(data['Tweets'])))\n",
    "print(\"Percentage de negative tweets: {}%\".format(len(neg_tweets)*100/len(data['Tweets'])))\n"
   ]
  },
  {
   "cell_type": "code",
   "execution_count": null,
   "metadata": {
    "collapsed": true
   },
   "outputs": [],
   "source": []
  },
  {
   "cell_type": "code",
   "execution_count": null,
   "metadata": {
    "collapsed": true
   },
   "outputs": [],
   "source": []
  },
  {
   "cell_type": "code",
   "execution_count": null,
   "metadata": {
    "collapsed": true
   },
   "outputs": [],
   "source": []
  }
 ],
 "metadata": {
  "kernelspec": {
   "display_name": "Python 3",
   "language": "python",
   "name": "python3"
  },
  "language_info": {
   "codemirror_mode": {
    "name": "ipython",
    "version": 3
   },
   "file_extension": ".py",
   "mimetype": "text/x-python",
   "name": "python",
   "nbconvert_exporter": "python",
   "pygments_lexer": "ipython3",
   "version": "3.6.3"
  }
 },
 "nbformat": 4,
 "nbformat_minor": 2
}
