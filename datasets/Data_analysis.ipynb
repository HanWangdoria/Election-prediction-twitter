{
 "cells": [
  {
   "cell_type": "code",
   "execution_count": 1,
   "metadata": {
    "collapsed": true
   },
   "outputs": [],
   "source": [
    "import pandas as pd\n",
    "import numpy as np\n",
    "import time\n"
   ]
  },
  {
   "cell_type": "code",
   "execution_count": 24,
   "metadata": {},
   "outputs": [
    {
     "name": "stdout",
     "output_type": "stream",
     "text": [
      "0.04 secs ==> pd.read_csv\n"
     ]
    }
   ],
   "source": [
    "t0 = time.time()\n",
    "df= pd.read_csv('out+gephi+senti.csv')\n",
    "print(\"%.2f secs ==> pd.read_csv\"%(time.time()-t0))"
   ]
  },
  {
   "cell_type": "code",
   "execution_count": 25,
   "metadata": {},
   "outputs": [
    {
     "data": {
      "text/plain": [
       "count    1617.000000\n",
       "mean       17.684789\n",
       "std        45.708876\n",
       "min         0.000000\n",
       "25%         5.761000\n",
       "50%         5.761000\n",
       "75%        13.061000\n",
       "max      1000.000000\n",
       "Name: eigencentrality-1000, dtype: float64"
      ]
     },
     "execution_count": 25,
     "metadata": {},
     "output_type": "execute_result"
    }
   ],
   "source": [
    "df['eigencentrality-1000'].describe()"
   ]
  },
  {
   "cell_type": "code",
   "execution_count": 10,
   "metadata": {},
   "outputs": [
    {
     "data": {
      "text/plain": [
       "count    1617.000000\n",
       "mean       23.341921\n",
       "std       229.675887\n",
       "min         0.000000\n",
       "25%         1.374845\n",
       "50%         3.081426\n",
       "75%         8.542290\n",
       "max      6937.541031\n",
       "Name: fav_std, dtype: float64"
      ]
     },
     "execution_count": 10,
     "metadata": {},
     "output_type": "execute_result"
    }
   ],
   "source": [
    "df['fav_std'].describe()"
   ]
  },
  {
   "cell_type": "code",
   "execution_count": 5,
   "metadata": {},
   "outputs": [
    {
     "data": {
      "text/plain": [
       "count    1617.000000\n",
       "mean        0.253609\n",
       "std         0.221636\n",
       "min         0.001547\n",
       "25%         0.079926\n",
       "50%         0.189432\n",
       "75%         0.356637\n",
       "max         0.998255\n",
       "Name: negative, dtype: float64"
      ]
     },
     "execution_count": 5,
     "metadata": {},
     "output_type": "execute_result"
    }
   ],
   "source": [
    "df['negative'].describe()"
   ]
  },
  {
   "cell_type": "code",
   "execution_count": 6,
   "metadata": {},
   "outputs": [
    {
     "data": {
      "text/plain": [
       "count    1617.000000\n",
       "mean        0.746391\n",
       "std         0.221636\n",
       "min         0.001745\n",
       "25%         0.643363\n",
       "50%         0.810568\n",
       "75%         0.920074\n",
       "max         0.998453\n",
       "Name: positive, dtype: float64"
      ]
     },
     "execution_count": 6,
     "metadata": {},
     "output_type": "execute_result"
    }
   ],
   "source": [
    "df['positive'].describe()"
   ]
  },
  {
   "cell_type": "code",
   "execution_count": null,
   "metadata": {
    "collapsed": true
   },
   "outputs": [],
   "source": []
  }
 ],
 "metadata": {
  "kernelspec": {
   "display_name": "Python 3",
   "language": "python",
   "name": "python3"
  },
  "language_info": {
   "codemirror_mode": {
    "name": "ipython",
    "version": 3
   },
   "file_extension": ".py",
   "mimetype": "text/x-python",
   "name": "python",
   "nbconvert_exporter": "python",
   "pygments_lexer": "ipython3",
   "version": "3.6.3"
  }
 },
 "nbformat": 4,
 "nbformat_minor": 2
}
