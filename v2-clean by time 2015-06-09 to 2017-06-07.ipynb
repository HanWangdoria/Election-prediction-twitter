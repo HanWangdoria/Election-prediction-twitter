{
 "cells": [
  {
   "cell_type": "code",
   "execution_count": 1,
   "metadata": {
    "collapsed": true
   },
   "outputs": [],
   "source": [
    "# Here are the libraries I am using\n",
    "import pandas as pd \n",
    "import matplotlib.pyplot as plt\n",
    "import matplotlib as mpl\n",
    "import numpy as np\n",
    "from os import path\n",
    "import json\n",
    "import csv\n",
    "import twitter"
   ]
  },
  {
   "cell_type": "code",
   "execution_count": 2,
   "metadata": {},
   "outputs": [
    {
     "name": "stdout",
     "output_type": "stream",
     "text": [
      "                      id           created_at  \\\n",
      "0    1017301590846377984  2018-07-12 06:56:14   \n",
      "1    1016439406054559746  2018-07-09 21:50:13   \n",
      "2    1016381229669732352  2018-07-09 17:59:03   \n",
      "3    1014183473744052225  2018-07-03 16:25:57   \n",
      "4    1013897138491805696  2018-07-02 21:28:09   \n",
      "5    1012982604688252929  2018-06-30 08:54:07   \n",
      "6    1012082365563359233  2018-06-27 21:16:54   \n",
      "7    1011497321941659648  2018-06-26 06:32:08   \n",
      "8    1010944297447968773  2018-06-24 17:54:37   \n",
      "9    1009218295587799041  2018-06-19 23:36:06   \n",
      "10   1009218158761259009  2018-06-19 23:35:34   \n",
      "11   1009148490621116418  2018-06-19 18:58:43   \n",
      "12   1009124973204725760  2018-06-19 17:25:16   \n",
      "13   1008749542785904640  2018-06-18 16:33:27   \n",
      "14   1008360897381916672  2018-06-17 14:49:07   \n",
      "15   1008298482623549440  2018-06-17 10:41:06   \n",
      "16   1007946464486707200  2018-06-16 11:22:18   \n",
      "17   1002334838802845696  2018-05-31 23:43:42   \n",
      "18    997495369104797696  2018-05-18 15:13:23   \n",
      "19    997417763793768449  2018-05-18 10:05:00   \n",
      "20    992837129586855937  2018-05-05 18:43:12   \n",
      "21    992385544649920512  2018-05-04 12:48:46   \n",
      "22    991742981127507970  2018-05-02 18:15:27   \n",
      "23    991374093390962689  2018-05-01 17:49:37   \n",
      "24    991069044160782336  2018-04-30 21:37:27   \n",
      "25    991041603245690880  2018-04-30 19:48:25   \n",
      "26    989987597857509377  2018-04-27 22:00:11   \n",
      "27    989979039900295168  2018-04-27 21:26:10   \n",
      "28    989429591382118400  2018-04-26 09:02:51   \n",
      "29    988506019864117249  2018-04-23 19:52:55   \n",
      "..                   ...                  ...   \n",
      "716   103466124041125888  2011-08-16 14:00:20   \n",
      "717   101916699401531392  2011-08-12 07:23:29   \n",
      "718   101715577307009024  2011-08-11 18:04:18   \n",
      "719   101713887065419776  2011-08-11 17:57:35   \n",
      "720   101634283403350016  2011-08-11 12:41:16   \n",
      "721   101364506281771008  2011-08-10 18:49:16   \n",
      "722   101038756508860416  2011-08-09 21:14:51   \n",
      "723    99244557056741376  2011-08-04 22:25:20   \n",
      "724    99230683196702720  2011-08-04 21:30:13   \n",
      "725    99226135002492928  2011-08-04 21:12:08   \n",
      "726    96545496058961920  2011-07-28 11:40:14   \n",
      "727    96264949483044865  2011-07-27 17:05:27   \n",
      "728    96261917374554112  2011-07-27 16:53:24   \n",
      "729    96261298853122048  2011-07-27 16:50:56   \n",
      "730    95809187950493696  2011-07-26 10:54:25   \n",
      "731    95809034640293888  2011-07-26 10:53:48   \n",
      "732    95808947365224448  2011-07-26 10:53:27   \n",
      "733    95806263442669568  2011-07-26 10:42:47   \n",
      "734    95805787183652864  2011-07-26 10:40:54   \n",
      "735    95805606023270400  2011-07-26 10:40:11   \n",
      "736    95804681443475456  2011-07-26 10:36:30   \n",
      "737    95804392648880128  2011-07-26 10:35:21   \n",
      "738    95803776606285824  2011-07-26 10:32:54   \n",
      "739    95803424477687809  2011-07-26 10:31:31   \n",
      "740    95802958532456448  2011-07-26 10:29:39   \n",
      "741    95802084221394944  2011-07-26 10:26:11   \n",
      "742    95568704821133312  2011-07-25 18:58:49   \n",
      "743    95563341593972736  2011-07-25 18:37:30   \n",
      "744           2081750146  2009-06-08 21:52:28   \n",
      "745           1869489225  2009-05-21 09:50:07   \n",
      "\n",
      "                                                  text  len  \\\n",
      "0    b'RT @campbellclaret: \\xe2\\x80\\x98Too late\\xe2...  140   \n",
      "1    b'@NHSMillion @hjpotterphd Be careful what you...  140   \n",
      "2    b\"If you want to know how much Brexit has utte...  140   \n",
      "3    b'Fantastic initiative and response from Readi...  126   \n",
      "4    b'RT @guyverhofstadt: The UK government keep t...  140   \n",
      "5    b'RT @yorklibdems: \\xc2\\xa3100,000 to help Fro...   85   \n",
      "6    b'RT @mrjamesob: The madder everything gets, t...  134   \n",
      "7        b'@underthenettle Oh, Clegg \\xf0\\x9f\\x98\\xbe'   27   \n",
      "8    b'@girlonetrack \"so, how many years of hurt is...   49   \n",
      "9    b'@itsnarrative @underthenettle It just signif...   66   \n",
      "10   b'@underthenettle That Strength card is beauti...   71   \n",
      "11   b'@waitrose Queen Victoria Street, York. Date ...   74   \n",
      "12   b'@waitrose would you mind reminding the drive...  140   \n",
      "13   b\"@NickHurdUK Seriously, *you've* had a diffic...  140   \n",
      "14   b'Just a bit of fun, but also food for thought...   89   \n",
      "15   b\"@paulwrblanchard Cheers, yours ain't so bad ...   51   \n",
      "16   b'@GaryLineker Cricket has \"umpire\\'s call\" fo...   79   \n",
      "17                           b'@hqtriviauk Jaybee5000'   22   \n",
      "18   b\"@SarahLeeNotCake @dirktherabbit @andrew_lili...   91   \n",
      "19   b'@cityzapbus morning, what do tickets for my ...   68   \n",
      "20   b'17 year olds - make sure you take this up th...  140   \n",
      "21   b'Power vs. Principles - The Conservative edit...  137   \n",
      "22   b'That commitment to their local area really s...  105   \n",
      "23   b\"The Mail's frontpage today. Roger Roberts (t...  140   \n",
      "24   b\"Just listening to @BBCGidCoeShow show on @BB...  140   \n",
      "25   b\"Doubtless there still will be some clinging ...  140   \n",
      "26   b'Spot the @ShonenKnife fanboi at @FibbersYork...   68   \n",
      "27   b'The super @ShonenKnife telling the crowd abo...  137   \n",
      "28   b\"@ScornflakeGrrrl I always ask for feedback, ...  140   \n",
      "29   b'@allanmknox @ALDC You mean you want the Tory...   67   \n",
      "..                                                 ...  ...   \n",
      "716  b'Elvis, gone 34 years today but not forgotten...  138   \n",
      "717  b'RT @BBCr4today: \\xe2\\x80\\x9cI deeply regret ...  123   \n",
      "718  b\"Just drove home to the last of #testmatchspe...   90   \n",
      "719  b'RT @cathynewman: top police officer tells me...  140   \n",
      "720  b'Used break in planning meeting to visit @hud...  140   \n",
      "721  b\"Least. Balanced. Panel. Ever. @c4news, Camil...  138   \n",
      "722  b'RT @misswood: RT @PoliceEastLeeds Contrary t...  140   \n",
      "723  b'Would love a set of the cool phi-in-the-plac...  104   \n",
      "724  b'@AidanFlood Europcar only got a sponsor when...  133   \n",
      "725  b'Just signed the petition to retain the ban o...  101   \n",
      "726  b\"@jamesgraham maybe bowties are cool, maybe M...   53   \n",
      "727  b\"@1BarryGibson You don't have to be born here...   76   \n",
      "728       b'Avoid scrutiny! #lasttweet #needmorechars'   41   \n",
      "729  b'Lots of questions on schools at council meet...  140   \n",
      "730      b'#Yorkshirefilms The Witches of Giggleswick'   42   \n",
      "731         b'#Yorkshirefilms The Children of Menston'   39   \n",
      "732               b'#Yorkshirefilms Against All Odsal'   33   \n",
      "733                b'#Yorkshirefilms My Luddendenfoot'   32   \n",
      "734                 b'#Yorkshirefilms Richie Richmond'   31   \n",
      "735          b'#Yorkshirefilms North by Northallerton'   38   \n",
      "736                       b'#Yorkshirefilms Batley*21'   25   \n",
      "737       b'#Yorkshirefilms Honley, I shrank the Kids'   41   \n",
      "738               b'#Yorkshirefilms Ghosts of Marsden'   33   \n",
      "739        b'#Yorkshirefilms Down and Out in Beverley'   40   \n",
      "740      b'#Yorkshirefilms The Exorcism of Emley Moor'   42   \n",
      "741  b\"#Yorkshirefilms Robin Hood's Bay: Men in Tig...   47   \n",
      "742  b\"@MsNoetiCat well, I don't believe we've ever...  138   \n",
      "743  b'Learning how useful twitter is.  Promise to ...   87   \n",
      "744  b'Preparing for the Three Peaks Charity Challe...  120   \n",
      "745  b'I came out closest to Liberal Democrats on h...   78   \n",
      "\n",
      "                      source  fav_count  rt_count  \n",
      "0        Twitter for Android          0       922  \n",
      "1        Twitter for Android          0         0  \n",
      "2        Twitter for Android         16        11  \n",
      "3        Twitter for Android          1         0  \n",
      "4        Twitter for Android          0      5732  \n",
      "5        Twitter for Android          0         5  \n",
      "6        Twitter for Android          0       541  \n",
      "7        Twitter for Android          1         0  \n",
      "8        Twitter for Android          0         0  \n",
      "9        Twitter for Android          0         0  \n",
      "10       Twitter for Android          0         0  \n",
      "11       Twitter for Android          0         0  \n",
      "12       Twitter for Android          0         0  \n",
      "13       Twitter for Android          7         3  \n",
      "14       Twitter for Android          1         0  \n",
      "15       Twitter for Android          1         0  \n",
      "16       Twitter for Android          1         0  \n",
      "17       Twitter for Android          0         0  \n",
      "18       Twitter for Android          0         0  \n",
      "19       Twitter for Android          0         0  \n",
      "20        Twitter Web Client          0         0  \n",
      "21        Twitter Web Client          0         1  \n",
      "22              Twitter Lite          5         1  \n",
      "23       Twitter for Android          7         2  \n",
      "24       Twitter for Android          0         0  \n",
      "25       Twitter for Android          7         4  \n",
      "26       Twitter for Android          5         0  \n",
      "27       Twitter for Android         19         2  \n",
      "28       Twitter for Android          1         0  \n",
      "29       Twitter for Android          3         1  \n",
      "..                       ...        ...       ...  \n",
      "716       Twitter Web Client          0         0  \n",
      "717       Twitter Web Client          0        58  \n",
      "718       Twitter Web Client          0         0  \n",
      "719       Twitter Web Client          0       141  \n",
      "720       Twitter Web Client          0         0  \n",
      "721       Twitter Web Client          0         0  \n",
      "722       Twitter Web Client          0         1  \n",
      "723       Twitter Web Client          0         0  \n",
      "724       Twitter Web Client          0         0  \n",
      "725     Twitter for Websites          0         0  \n",
      "726  Twitter for BlackBerry®          0         0  \n",
      "727  Twitter for BlackBerry®          0         0  \n",
      "728              Cloudhopper          0         0  \n",
      "729              Cloudhopper          0         0  \n",
      "730       Twitter Web Client          0         0  \n",
      "731       Twitter Web Client          0         0  \n",
      "732       Twitter Web Client          0         0  \n",
      "733       Twitter Web Client          0         0  \n",
      "734       Twitter Web Client          0         0  \n",
      "735       Twitter Web Client          0         0  \n",
      "736       Twitter Web Client          0         0  \n",
      "737       Twitter Web Client          0         0  \n",
      "738       Twitter Web Client          0         0  \n",
      "739       Twitter Web Client          0         0  \n",
      "740       Twitter Web Client          0         0  \n",
      "741       Twitter Web Client          0         0  \n",
      "742  Twitter for BlackBerry®          0         0  \n",
      "743       Twitter Web Client          0         0  \n",
      "744       Twitter Web Client          0         0  \n",
      "745       Twitter Web Client          0         0  \n",
      "\n",
      "[746 rows x 7 columns]\n"
     ]
    }
   ],
   "source": [
    "#try with a csv\n",
    "df = pd.read_csv('jamesblanchard_tweets.csv')\n",
    "print(df)"
   ]
  },
  {
   "cell_type": "code",
   "execution_count": 3,
   "metadata": {},
   "outputs": [
    {
     "name": "stdout",
     "output_type": "stream",
     "text": [
      "746\n"
     ]
    }
   ],
   "source": [
    "from datetime import datetime\n",
    "from datetime import date\n",
    "\n",
    "\n",
    "dateList= df[\"created_at\"].tolist()\n",
    "#turn one column of dateframe into a list object\n",
    "#print(dateList)\n",
    "\n",
    "i = 0\n",
    "turn_dateList=[]\n",
    "while i < len(dateList):\n",
    "    d = datetime.strptime(dateList[i], \"%Y-%m-%d %H:%M:%S\")\n",
    "    #<class 'datetime.datetime'>\n",
    "    #d_date=d.date()\n",
    "    #<class 'datetime.date'>\n",
    "    #date type convert for delata\n",
    "    turn_dateList.append(d)\n",
    "    i = i+1\n",
    "\n",
    "print(len(turn_dateList))\n"
   ]
  },
  {
   "cell_type": "code",
   "execution_count": 17,
   "metadata": {
    "collapsed": true
   },
   "outputs": [],
   "source": [
    "timeEnd = datetime(2017, 6, 7, 23, 59,59)\n",
    "timeStart = datetime(2015, 6, 9, 0, 0,0)"
   ]
  },
  {
   "cell_type": "code",
   "execution_count": 18,
   "metadata": {
    "collapsed": true
   },
   "outputs": [],
   "source": [
    "def isNowInTimePeriod(startTime, endTime, nowTime):\n",
    "    if startTime < endTime:\n",
    "        return nowTime >= startTime and nowTime <= endTime\n",
    "    else: #Over midnight\n",
    "        return nowTime >= startTime or nowTime <= endTime\n"
   ]
  },
  {
   "cell_type": "code",
   "execution_count": 19,
   "metadata": {},
   "outputs": [
    {
     "name": "stdout",
     "output_type": "stream",
     "text": [
      "<class 'datetime.datetime'>\n",
      "<class 'datetime.datetime'>\n"
     ]
    }
   ],
   "source": [
    "#timeEnd = datetime.strptime(timeEnd,\"2017-06-07 23:59:59\")\n",
    "timeEnd = datetime(2017, 6, 7, 23, 59,59)\n",
    "#timeStart = datetime.strptime(timeStart, \"2015-06-09 00:00:00\")\n",
    "timeStart = datetime(2015, 6, 9, 0, 0,0)\n",
    "#timeStart = (\"2015-06-09 00:00:00\")\n",
    "\n",
    "#timeNow = turn_dateList[i]\n",
    "print(type(timeEnd))\n",
    "print(type(timeStart))"
   ]
  },
  {
   "cell_type": "code",
   "execution_count": null,
   "metadata": {
    "collapsed": true
   },
   "outputs": [],
   "source": []
  },
  {
   "cell_type": "code",
   "execution_count": null,
   "metadata": {},
   "outputs": [],
   "source": []
  },
  {
   "cell_type": "code",
   "execution_count": 20,
   "metadata": {
    "collapsed": true
   },
   "outputs": [],
   "source": [
    "i=0\n",
    "new_list=[]\n",
    "while i < len(turn_dateList):\n",
    "    timeEnd = datetime(2017, 6, 7, 23, 59,59)\n",
    "    timeStart = datetime(2015, 6, 9, 0, 0,0)\n",
    "    if (turn_dateList[i] > timeStart) and (turn_dateList[i] < timeEnd):\n",
    "            new_list.append(turn_dateList[i])\n",
    "    else: \n",
    "        turn_dateList.remove(turn_dateList[i])\n",
    "    \n",
    "    i=i+1\n",
    "    \n",
    "\n",
    "    \n",
    "        \n",
    "    \n"
   ]
  },
  {
   "cell_type": "code",
   "execution_count": null,
   "metadata": {
    "collapsed": true
   },
   "outputs": [],
   "source": []
  },
  {
   "cell_type": "code",
   "execution_count": null,
   "metadata": {
    "collapsed": true
   },
   "outputs": [],
   "source": []
  },
  {
   "cell_type": "code",
   "execution_count": 21,
   "metadata": {},
   "outputs": [
    {
     "name": "stdout",
     "output_type": "stream",
     "text": [
      "233\n"
     ]
    }
   ],
   "source": [
    "print(len(new_list))"
   ]
  },
  {
   "cell_type": "code",
   "execution_count": 22,
   "metadata": {},
   "outputs": [
    {
     "name": "stdout",
     "output_type": "stream",
     "text": [
      "[datetime.datetime(2017, 6, 7, 20, 37, 55), datetime.datetime(2017, 6, 7, 12, 6, 10), datetime.datetime(2017, 6, 7, 12, 5, 25), datetime.datetime(2017, 6, 7, 7, 31, 40), datetime.datetime(2017, 6, 6, 20, 12, 41), datetime.datetime(2017, 6, 6, 20, 10, 25), datetime.datetime(2017, 6, 6, 20, 9, 9), datetime.datetime(2017, 6, 6, 20, 7, 57), datetime.datetime(2017, 6, 6, 20, 7, 10), datetime.datetime(2017, 6, 6, 20, 2, 34), datetime.datetime(2017, 6, 6, 19, 19, 20), datetime.datetime(2017, 6, 6, 19, 4, 19), datetime.datetime(2017, 6, 6, 19, 2, 35), datetime.datetime(2017, 6, 6, 18, 49, 21), datetime.datetime(2017, 6, 6, 18, 14), datetime.datetime(2017, 6, 6, 18, 13, 34), datetime.datetime(2017, 6, 5, 22, 26, 12), datetime.datetime(2017, 6, 5, 18, 51, 25), datetime.datetime(2017, 6, 5, 18, 38, 30), datetime.datetime(2017, 6, 5, 18, 29, 25), datetime.datetime(2017, 6, 5, 18, 23, 16), datetime.datetime(2017, 6, 5, 18, 13, 58), datetime.datetime(2017, 6, 5, 18, 12, 47), datetime.datetime(2017, 6, 5, 18, 7, 43), datetime.datetime(2017, 6, 5, 18, 5, 34), datetime.datetime(2017, 6, 5, 16, 29, 34), datetime.datetime(2017, 6, 5, 14, 16, 26), datetime.datetime(2017, 6, 5, 14, 15, 35), datetime.datetime(2017, 6, 5, 14, 10, 10), datetime.datetime(2017, 6, 5, 14, 5, 36), datetime.datetime(2017, 6, 3, 9, 27, 43), datetime.datetime(2017, 6, 3, 8, 37, 1), datetime.datetime(2017, 6, 2, 21, 37, 57), datetime.datetime(2017, 6, 2, 10, 34, 42), datetime.datetime(2017, 6, 2, 8, 56, 18), datetime.datetime(2017, 6, 2, 8, 32, 47), datetime.datetime(2017, 6, 2, 8, 25, 36), datetime.datetime(2017, 6, 2, 8, 23, 30), datetime.datetime(2017, 6, 1, 7, 30, 26), datetime.datetime(2017, 6, 1, 7, 27, 23), datetime.datetime(2017, 6, 1, 7, 26, 11), datetime.datetime(2017, 6, 1, 7, 24, 30), datetime.datetime(2017, 5, 30, 20, 17, 50), datetime.datetime(2017, 5, 30, 11, 0, 13), datetime.datetime(2017, 5, 29, 13, 13, 13), datetime.datetime(2017, 5, 29, 12, 54, 31), datetime.datetime(2017, 5, 29, 12, 49, 39), datetime.datetime(2017, 5, 29, 12, 17, 8), datetime.datetime(2017, 5, 27, 10, 10, 24), datetime.datetime(2017, 5, 27, 10, 9, 25), datetime.datetime(2017, 5, 27, 10, 7, 46), datetime.datetime(2017, 5, 27, 1, 15, 6), datetime.datetime(2017, 5, 26, 20, 17, 49), datetime.datetime(2017, 5, 26, 15, 39, 56), datetime.datetime(2017, 5, 26, 15, 26, 40), datetime.datetime(2017, 5, 26, 12, 58, 26), datetime.datetime(2017, 5, 26, 9, 57, 9), datetime.datetime(2017, 5, 26, 7, 0, 12), datetime.datetime(2017, 5, 24, 12, 25, 41), datetime.datetime(2017, 5, 21, 17, 46, 4), datetime.datetime(2017, 5, 21, 17, 44, 58), datetime.datetime(2017, 5, 21, 17, 44, 9), datetime.datetime(2017, 5, 21, 16, 41, 35), datetime.datetime(2017, 5, 21, 13, 6, 42), datetime.datetime(2017, 5, 21, 13, 0, 17), datetime.datetime(2017, 5, 20, 20, 50, 27), datetime.datetime(2017, 5, 20, 19, 41, 56), datetime.datetime(2017, 5, 20, 18, 14, 15), datetime.datetime(2017, 5, 20, 9, 13, 56), datetime.datetime(2017, 5, 19, 8, 5, 40), datetime.datetime(2017, 5, 18, 11, 9, 35), datetime.datetime(2017, 5, 17, 23, 34, 22), datetime.datetime(2017, 5, 17, 20, 34, 39), datetime.datetime(2017, 5, 17, 20, 32, 45), datetime.datetime(2017, 5, 17, 17, 13, 3), datetime.datetime(2017, 5, 17, 16, 51, 55), datetime.datetime(2017, 5, 16, 23, 37, 57), datetime.datetime(2017, 5, 16, 12, 8, 25), datetime.datetime(2017, 5, 16, 9, 58, 51), datetime.datetime(2017, 5, 15, 14, 50, 4), datetime.datetime(2017, 5, 15, 11, 57, 12), datetime.datetime(2017, 5, 13, 23, 54, 41), datetime.datetime(2017, 5, 13, 13, 57, 54), datetime.datetime(2017, 5, 12, 19, 58, 14), datetime.datetime(2017, 5, 12, 19, 19, 19), datetime.datetime(2017, 5, 12, 19, 13, 4), datetime.datetime(2017, 5, 12, 11, 43, 14), datetime.datetime(2017, 5, 10, 23, 40, 54), datetime.datetime(2017, 5, 10, 19, 32, 33), datetime.datetime(2017, 5, 10, 10, 53, 42), datetime.datetime(2017, 5, 9, 19, 58, 20), datetime.datetime(2017, 5, 8, 13, 3, 28), datetime.datetime(2017, 5, 7, 16, 20, 57), datetime.datetime(2017, 5, 7, 13, 57, 26), datetime.datetime(2017, 5, 7, 13, 54, 15), datetime.datetime(2017, 5, 6, 13, 5, 5), datetime.datetime(2017, 5, 6, 12, 17, 35), datetime.datetime(2017, 5, 2, 20, 59, 25), datetime.datetime(2017, 5, 2, 20, 56, 59), datetime.datetime(2017, 5, 2, 16, 59, 7), datetime.datetime(2017, 4, 25, 22, 12, 26), datetime.datetime(2017, 4, 23, 15, 19, 1), datetime.datetime(2017, 4, 22, 19, 22, 2), datetime.datetime(2017, 4, 22, 19, 5, 34), datetime.datetime(2017, 4, 22, 19, 1, 48), datetime.datetime(2017, 4, 21, 14, 11, 40), datetime.datetime(2017, 4, 21, 14, 10, 57), datetime.datetime(2017, 4, 18, 22, 49, 19), datetime.datetime(2017, 4, 18, 13, 10, 15), datetime.datetime(2017, 4, 18, 11, 18, 17), datetime.datetime(2017, 4, 18, 10, 54, 47), datetime.datetime(2017, 4, 18, 10, 38, 28), datetime.datetime(2017, 4, 18, 10, 36, 9), datetime.datetime(2017, 4, 18, 10, 33, 17), datetime.datetime(2017, 4, 8, 14, 55, 38), datetime.datetime(2017, 4, 1, 19, 59, 20), datetime.datetime(2017, 3, 22, 17, 54, 45), datetime.datetime(2017, 2, 23, 11, 47, 10), datetime.datetime(2017, 2, 23, 11, 42, 6), datetime.datetime(2017, 2, 23, 9, 16, 16), datetime.datetime(2017, 2, 18, 18, 8, 7), datetime.datetime(2017, 2, 18, 14, 6, 32), datetime.datetime(2017, 1, 27, 22, 48, 32), datetime.datetime(2016, 12, 24, 22, 53, 32), datetime.datetime(2016, 12, 24, 12, 2, 25), datetime.datetime(2016, 12, 18, 23, 57, 10), datetime.datetime(2016, 12, 14, 17, 5, 40), datetime.datetime(2016, 12, 13, 13, 57, 14), datetime.datetime(2016, 12, 11, 11, 1, 25), datetime.datetime(2016, 11, 30, 19, 50, 30), datetime.datetime(2016, 8, 16, 17, 39, 37), datetime.datetime(2016, 7, 22, 18, 43, 53), datetime.datetime(2016, 7, 22, 18, 22, 46), datetime.datetime(2016, 7, 10, 13, 56, 58), datetime.datetime(2016, 7, 2, 22, 26, 35), datetime.datetime(2016, 7, 2, 22, 13, 50), datetime.datetime(2016, 6, 26, 0, 7, 10), datetime.datetime(2016, 6, 10, 10, 14, 39), datetime.datetime(2016, 5, 6, 20, 31, 53), datetime.datetime(2016, 5, 6, 20, 25, 8), datetime.datetime(2016, 5, 6, 20, 24, 10), datetime.datetime(2016, 5, 6, 19, 4, 47), datetime.datetime(2016, 5, 6, 17, 1, 39), datetime.datetime(2016, 5, 6, 16, 51, 47), datetime.datetime(2016, 5, 6, 13, 44, 50), datetime.datetime(2016, 5, 6, 9, 54, 51), datetime.datetime(2016, 5, 5, 17, 27, 43), datetime.datetime(2016, 5, 5, 17, 12, 25), datetime.datetime(2016, 5, 5, 12, 55, 56), datetime.datetime(2016, 5, 5, 12, 54, 37), datetime.datetime(2016, 5, 5, 12, 3, 53), datetime.datetime(2016, 5, 5, 12, 1, 26), datetime.datetime(2016, 5, 5, 11, 58, 6), datetime.datetime(2016, 5, 5, 11, 20, 23), datetime.datetime(2016, 5, 5, 11, 20, 17), datetime.datetime(2016, 5, 5, 7, 9, 9), datetime.datetime(2016, 5, 5, 7, 8, 56), datetime.datetime(2016, 5, 4, 14, 31, 51), datetime.datetime(2016, 5, 4, 14, 16, 54), datetime.datetime(2016, 5, 4, 14, 15, 21), datetime.datetime(2016, 5, 3, 2, 4, 34), datetime.datetime(2016, 5, 2, 14, 44, 19), datetime.datetime(2016, 5, 1, 21, 5, 4), datetime.datetime(2016, 4, 28, 21, 14, 37), datetime.datetime(2016, 4, 28, 21, 9, 42), datetime.datetime(2016, 4, 28, 21, 4, 5), datetime.datetime(2016, 4, 28, 21, 1, 29), datetime.datetime(2016, 4, 28, 16, 12, 57), datetime.datetime(2016, 4, 27, 23, 19, 7), datetime.datetime(2016, 4, 27, 23, 4, 42), datetime.datetime(2016, 4, 27, 22, 44, 36), datetime.datetime(2016, 4, 27, 22, 43, 10), datetime.datetime(2016, 4, 27, 22, 35, 1), datetime.datetime(2016, 4, 27, 22, 33, 13), datetime.datetime(2016, 4, 27, 22, 31, 14), datetime.datetime(2016, 4, 27, 22, 29, 29), datetime.datetime(2016, 4, 27, 22, 24, 3), datetime.datetime(2016, 4, 27, 22, 21, 12), datetime.datetime(2016, 4, 27, 22, 19, 35), datetime.datetime(2016, 4, 27, 22, 16, 32), datetime.datetime(2016, 4, 27, 22, 14, 1), datetime.datetime(2016, 4, 27, 22, 13, 36), datetime.datetime(2016, 4, 27, 22, 12, 18), datetime.datetime(2016, 4, 27, 22, 6, 52), datetime.datetime(2016, 4, 27, 21, 44, 34), datetime.datetime(2016, 4, 27, 21, 42, 20), datetime.datetime(2016, 4, 27, 21, 40, 15), datetime.datetime(2016, 4, 27, 19, 22, 33), datetime.datetime(2016, 4, 19, 10, 46, 31), datetime.datetime(2016, 4, 18, 14, 11, 12), datetime.datetime(2016, 4, 18, 14, 2, 20), datetime.datetime(2016, 4, 18, 14, 0, 31), datetime.datetime(2016, 4, 18, 13, 43, 36), datetime.datetime(2016, 4, 18, 13, 24, 56), datetime.datetime(2016, 4, 18, 13, 9, 1), datetime.datetime(2016, 4, 18, 13, 8, 6), datetime.datetime(2016, 4, 18, 13, 5, 41), datetime.datetime(2016, 4, 18, 13, 3, 58), datetime.datetime(2016, 4, 18, 13, 2, 10), datetime.datetime(2016, 4, 18, 13, 1, 15), datetime.datetime(2016, 4, 13, 8, 49, 20), datetime.datetime(2016, 4, 13, 8, 28, 30), datetime.datetime(2016, 4, 11, 9, 44, 29), datetime.datetime(2016, 4, 9, 19, 38, 12), datetime.datetime(2016, 4, 9, 8, 53, 55), datetime.datetime(2016, 2, 17, 16, 19, 18), datetime.datetime(2016, 1, 16, 14, 45, 2), datetime.datetime(2015, 12, 27, 12, 8, 21), datetime.datetime(2015, 12, 27, 12, 6, 10), datetime.datetime(2015, 12, 8, 15, 45, 49), datetime.datetime(2015, 12, 8, 15, 45, 40), datetime.datetime(2015, 11, 29, 20, 36, 34), datetime.datetime(2015, 11, 29, 18, 53, 40), datetime.datetime(2015, 11, 20, 17, 10, 49), datetime.datetime(2015, 11, 4, 10, 59, 6), datetime.datetime(2015, 11, 4, 10, 6, 40), datetime.datetime(2015, 11, 4, 9, 51, 55), datetime.datetime(2015, 10, 17, 9, 16, 4), datetime.datetime(2015, 10, 16, 10, 1, 30), datetime.datetime(2015, 10, 14, 8, 20, 51), datetime.datetime(2015, 10, 13, 10, 4, 29), datetime.datetime(2015, 10, 7, 17, 10, 15), datetime.datetime(2015, 10, 6, 19, 24, 39), datetime.datetime(2015, 10, 6, 19, 4, 51), datetime.datetime(2015, 9, 23, 21, 44, 16), datetime.datetime(2015, 9, 23, 21, 44, 10), datetime.datetime(2015, 9, 23, 16, 45, 10), datetime.datetime(2015, 8, 21, 12, 47, 25), datetime.datetime(2015, 8, 21, 11, 23, 23), datetime.datetime(2015, 7, 22, 15, 22, 10), datetime.datetime(2015, 7, 22, 15, 8, 32), datetime.datetime(2015, 7, 22, 14, 57), datetime.datetime(2015, 7, 1, 10, 40, 16)]\n"
     ]
    }
   ],
   "source": [
    "print(new_list)"
   ]
  },
  {
   "cell_type": "code",
   "execution_count": 23,
   "metadata": {},
   "outputs": [
    {
     "name": "stdout",
     "output_type": "stream",
     "text": [
      "2017-06-07 20:37:55\n"
     ]
    }
   ],
   "source": [
    "print(new_list[0])"
   ]
  },
  {
   "cell_type": "code",
   "execution_count": 29,
   "metadata": {},
   "outputs": [],
   "source": [
    "j=0\n",
    "compare_list=[]\n",
    "while j < len(new_list):\n",
    "    datestr = datetime.strftime(new_list[j],\"%Y-%m-%d %H:%M:%S\")\n",
    "    compare_list.append(datestr)\n",
    "    j=j+1\n",
    "    "
   ]
  },
  {
   "cell_type": "code",
   "execution_count": null,
   "metadata": {
    "collapsed": true
   },
   "outputs": [],
   "source": []
  },
  {
   "cell_type": "code",
   "execution_count": 30,
   "metadata": {},
   "outputs": [
    {
     "name": "stdout",
     "output_type": "stream",
     "text": [
      "                     id           created_at  \\\n",
      "145  872553226985496578  2017-06-07 20:37:55   \n",
      "146  872424441166389249  2017-06-07 12:06:10   \n",
      "147  872424251902636032  2017-06-07 12:05:25   \n",
      "148  872355363072475136  2017-06-07 07:31:40   \n",
      "149  872184490050846722  2017-06-06 20:12:41   \n",
      "150  872183918950305794  2017-06-06 20:10:25   \n",
      "151  872183600590053376  2017-06-06 20:09:09   \n",
      "152  872183300575694848  2017-06-06 20:07:57   \n",
      "153  872183103481053185  2017-06-06 20:07:10   \n",
      "154  872181944922013696  2017-06-06 20:02:34   \n",
      "155  872171063907459072  2017-06-06 19:19:20   \n",
      "156  872167284567048192  2017-06-06 19:04:19   \n",
      "157  872166848158212098  2017-06-06 19:02:35   \n",
      "158  872163520267399169  2017-06-06 18:49:21   \n",
      "159  872154621053218817  2017-06-06 18:14:00   \n",
      "160  872154511934197761  2017-06-06 18:13:34   \n",
      "161  871855703539027974  2017-06-05 22:26:12   \n",
      "162  871801652701011968  2017-06-05 18:51:25   \n",
      "163  871798402174013440  2017-06-05 18:38:30   \n",
      "164  871796115057901568  2017-06-05 18:29:25   \n",
      "165  871794568030715906  2017-06-05 18:23:16   \n",
      "166  871792227034464256  2017-06-05 18:13:58   \n",
      "167  871791929721278464  2017-06-05 18:12:47   \n",
      "168  871790651771420676  2017-06-05 18:07:43   \n",
      "169  871790112065114114  2017-06-05 18:05:34   \n",
      "170  871765951439622144  2017-06-05 16:29:34   \n",
      "171  871732447213481985  2017-06-05 14:16:26   \n",
      "172  871732236516765696  2017-06-05 14:15:35   \n",
      "173  871730873330278400  2017-06-05 14:10:10   \n",
      "174  871729721184317440  2017-06-05 14:05:36   \n",
      "..                  ...                  ...   \n",
      "348  718885744211795968  2016-04-09 19:38:12   \n",
      "349  718723604121272320  2016-04-09 08:53:55   \n",
      "350  699991522180206592  2016-02-17 16:19:18   \n",
      "351  688371386910388224  2016-01-16 14:45:02   \n",
      "352  681084196845137924  2015-12-27 12:08:21   \n",
      "353  681083647227785216  2015-12-27 12:06:10   \n",
      "354  674253556665462789  2015-12-08 15:45:49   \n",
      "355  674253517427724288  2015-12-08 15:45:40   \n",
      "356  671065233381826560  2015-11-29 20:36:34   \n",
      "357  671039337845362690  2015-11-29 18:53:40   \n",
      "358  667751966852927489  2015-11-20 17:10:49   \n",
      "359  661860212517838848  2015-11-04 10:59:06   \n",
      "360  661847017891721216  2015-11-04 10:06:40   \n",
      "361  661843305567789056  2015-11-04 09:51:55   \n",
      "362  655311303704231936  2015-10-17 09:16:04   \n",
      "363  654960349859479552  2015-10-16 10:01:30   \n",
      "364  654210243250028544  2015-10-14 08:20:51   \n",
      "365  653873938376863744  2015-10-13 10:04:29   \n",
      "366  651806757115850752  2015-10-07 17:10:15   \n",
      "367  651478192713244672  2015-10-06 19:24:39   \n",
      "368  651473210177884161  2015-10-06 19:04:51   \n",
      "369  646802284467384320  2015-09-23 21:44:16   \n",
      "370  646802258261372928  2015-09-23 21:44:10   \n",
      "371  646727014561484800  2015-09-23 16:45:10   \n",
      "372  634708384047104000  2015-08-21 12:47:25   \n",
      "373  634687235049324544  2015-08-21 11:23:23   \n",
      "374  623875690031673344  2015-07-22 15:22:10   \n",
      "375  623872261917949952  2015-07-22 15:08:32   \n",
      "376  623869359316975616  2015-07-22 14:57:00   \n",
      "377  616194603885199360  2015-07-01 10:40:16   \n",
      "\n",
      "                                                  text  len  \\\n",
      "145  b'Just got out of a Frack Free Haxby &amp; Wig...  124   \n",
      "146       b'Thank you Imelda! https://t.co/TlAE2SqomE'   41   \n",
      "147  b\"RT @yorklibdems: It's the @jamesblanchard or...  122   \n",
      "148  b\"Half of York could be fracked this year. If ...  129   \n",
      "149  b\"@geojoedwards @ks_1968 Labour and Tories can...  140   \n",
      "150  b\"@geojoedwards @ks_1968 Plenty of seats down ...   87   \n",
      "151  b'@geojoedwards @ks_1968 No coalition, full stop'   46   \n",
      "152  b\"@ks_1968 @geojoedwards If you're in North Yo...   98   \n",
      "153  b\"@geojoedwards @ks_1968 We've been very clear...  137   \n",
      "154  b'@geojoedwards @ks_1968 If you come 2nd, you ...  140   \n",
      "155  b\"@RachaelABowers Thank you! It's been a horri...   98   \n",
      "156  b'The Liberal Democrats: substance over style ...   82   \n",
      "157  b'@seabrkei Do Electoral Calculus still make t...  108   \n",
      "158  b\"@geoff_marchment I've been spending my money...  128   \n",
      "159         b'Thank you Carl! https://t.co/iGcml4DL88'   39   \n",
      "160  b\"The bookies have Lib Dems in a clear 2nd pla...  140   \n",
      "161  b\"@Huwniverse @NickLovesYork But you've always...  102   \n",
      "162  b'No Red Carpet visit, no trade deal that will...  140   \n",
      "163  b'@DJMHarland @LucyPembayun @Lars4Micklegate @...  139   \n",
      "164  b\"@DJMHarland @LucyPembayun @Lars4Micklegate @...  140   \n",
      "165  b'@DJMHarland @LucyPembayun @Lars4Micklegate @...  140   \n",
      "166  b'@DJMHarland @LucyPembayun @Lars4Micklegate @...  140   \n",
      "167  b'@LucyPembayun @DJMHarland @Lars4Micklegate @...  140   \n",
      "168  b'@LucyPembayun @DJMHarland @Lars4Micklegate @...  139   \n",
      "169  b'@LucyPembayun @DJMHarland @Lars4Micklegate @...  140   \n",
      "170  b'York vote swap hits the international stage....   96   \n",
      "171  b'@_nowthen @Juliansturdy Wondering what the 1...  109   \n",
      "172  b'@_nowthen @Juliansturdy Homes. Build homes o...  140   \n",
      "173  b'@_nowthen @Juliansturdy Energy. No fracking,...  144   \n",
      "174  b'@_nowthen @Juliansturdy NHS 1p on income tax...  139   \n",
      "..                                                 ...  ...   \n",
      "348  b'RT @Mike_Beckett: N #Yorkshire #Police #Crim...  140   \n",
      "349  b'@bbcdmacmillan @NYorksPolice @stevehowley197...   74   \n",
      "350     b'.@JebBush Yorkshire https://t.co/7IAfrz7OZv'   43   \n",
      "351                        b'Cricket, lovely cricket.'   24   \n",
      "352  b'RT @FloodAlerts: @minsterfm 10 nearest gauge...  140   \n",
      "353  b\"Thoughts with near neighbours caught up in f...  111   \n",
      "354  b'RT @yorklibdems: A big thank you to @tessamu...  140   \n",
      "355  b\"@LindaHurrell Shouldn't this be taught at an...   71   \n",
      "356  b\"So, having not delivered me anything @Delive...  107   \n",
      "357  b'Just made mistake of trying @Deliveroo for t...  140   \n",
      "358  b'@DannyLawhead Hmm, tricky one. I\\'m going to...   74   \n",
      "359  b'@LloydsPharmacy super, thanks for sorting it...   48   \n",
      "360  b'@LloydsPharmacy outside the surgery on Bisho...   86   \n",
      "361  b'@LloydsPharmacy parking could be more neighb...   76   \n",
      "362  b\"RT @StanAndRamona: For every 'x' there's a '...  130   \n",
      "363  b\"@Mikeboy7564 So a majority of 24?  It's more...   88   \n",
      "364                 b\"C'mon!  https://t.co/gDpnb2miQ4\"   31   \n",
      "365        b'@FiveThirtyEight Any thoughts on Canada?'   40   \n",
      "366  b\"@plusnet whoever it was who said that moving...  139   \n",
      "367  b\"@Plusnet when you hang up on someone you've ...  113   \n",
      "368  b\"@plusnet what's better than the Yorkshire ba...  140   \n",
      "369  b\"@NickCohen4 I'm sure there's a reason not (a...  140   \n",
      "370  b\"@NickCohen4 I've wondered before if you may ...  124   \n",
      "371  b\"@GC_Rail I was going to say thanks for free ...  140   \n",
      "372  b'Srsly, @ThreeUK voicemail has not been worki...   84   \n",
      "373  b\"So, I'm waiting on the result of the intervi...  140   \n",
      "374  b\"@girlonetrack @LibDems So the Tories thought...  139   \n",
      "375  b'@girlonetrack @LibDems Bedroom Tax Labour in...  140   \n",
      "376  b'What more to say? @LibDems fought them from ...  119   \n",
      "377  b'@LMA_Managers Your MotM for April (still on ...  135   \n",
      "\n",
      "                  source  fav_count  rt_count  \n",
      "145  Twitter for Android          9        12  \n",
      "146  Twitter for Android         11         4  \n",
      "147  Twitter for Android          0        11  \n",
      "148  Twitter for Android         10        11  \n",
      "149   Twitter Web Client          1         1  \n",
      "150   Twitter Web Client          1         0  \n",
      "151   Twitter Web Client          1         0  \n",
      "152   Twitter Web Client          1         0  \n",
      "153   Twitter Web Client          1         0  \n",
      "154   Twitter Web Client          0         0  \n",
      "155  Twitter for Android          0         0  \n",
      "156  Twitter for Android         10         5  \n",
      "157  Twitter for Android          0         0  \n",
      "158  Twitter for Android          2         0  \n",
      "159  Twitter for Android          1         1  \n",
      "160  Twitter for Android         17        15  \n",
      "161  Twitter for Android          1         0  \n",
      "162   Twitter Web Client          7        11  \n",
      "163   Twitter Web Client          0         0  \n",
      "164   Twitter Web Client          0         0  \n",
      "165   Twitter Web Client          0         0  \n",
      "166  Twitter for Android          0         0  \n",
      "167  Twitter for Android          0         0  \n",
      "168  Twitter for Android          0         0  \n",
      "169  Twitter for Android          1         0  \n",
      "170  Twitter for Android          4         2  \n",
      "171  Twitter for Android          0         0  \n",
      "172  Twitter for Android          1         1  \n",
      "173  Twitter for Android          1         3  \n",
      "174  Twitter for Android          2         1  \n",
      "..                   ...        ...       ...  \n",
      "348  Twitter for Android          0         2  \n",
      "349  Twitter for Android          0         0  \n",
      "350   Twitter Web Client          1         1  \n",
      "351  Twitter for Android          0         0  \n",
      "352  Twitter for Android          0         2  \n",
      "353  Twitter for Android          0         0  \n",
      "354   Twitter Web Client          0         3  \n",
      "355   Twitter Web Client          0         0  \n",
      "356   Twitter Web Client          0         0  \n",
      "357   Twitter Web Client          0         0  \n",
      "358  Twitter for Android          0         0  \n",
      "359  Twitter for Android          0         0  \n",
      "360  Twitter for Android          0         0  \n",
      "361  Twitter for Android          0         1  \n",
      "362  Twitter for Android          0         6  \n",
      "363   Twitter Web Client          0         0  \n",
      "364  Twitter for Android          0         0  \n",
      "365   Twitter Web Client          0         0  \n",
      "366  Twitter for Android          0         0  \n",
      "367  Twitter for Android          0         0  \n",
      "368  Twitter for Android          0         0  \n",
      "369   Twitter Web Client          0         0  \n",
      "370   Twitter Web Client          0         0  \n",
      "371   Twitter Web Client          0         0  \n",
      "372  Twitter for Android          0         0  \n",
      "373   Twitter Web Client          0         0  \n",
      "374   Twitter Web Client          1         0  \n",
      "375   Twitter Web Client          0         0  \n",
      "376   Twitter Web Client          0         0  \n",
      "377   Twitter Web Client          0         0  \n",
      "\n",
      "[233 rows x 7 columns]\n"
     ]
    }
   ],
   "source": [
    "#df.loc[df['column_name'].isin(some_values)]\n",
    "\n",
    "print(df.loc[df['created_at'].isin(compare_list)])"
   ]
  },
  {
   "cell_type": "code",
   "execution_count": 31,
   "metadata": {
    "collapsed": true
   },
   "outputs": [],
   "source": [
    "df_time=df.loc[df['created_at'].isin(compare_list)]"
   ]
  },
  {
   "cell_type": "code",
   "execution_count": 32,
   "metadata": {
    "collapsed": true
   },
   "outputs": [],
   "source": [
    "df_time.to_csv('jamesblanchard_cleaned.csv')"
   ]
  },
  {
   "cell_type": "code",
   "execution_count": null,
   "metadata": {
    "collapsed": true
   },
   "outputs": [],
   "source": []
  }
 ],
 "metadata": {
  "kernelspec": {
   "display_name": "Python 3",
   "language": "python",
   "name": "python3"
  },
  "language_info": {
   "codemirror_mode": {
    "name": "ipython",
    "version": 3
   },
   "file_extension": ".py",
   "mimetype": "text/x-python",
   "name": "python",
   "nbconvert_exporter": "python",
   "pygments_lexer": "ipython3",
   "version": "3.6.3"
  }
 },
 "nbformat": 4,
 "nbformat_minor": 2
}
