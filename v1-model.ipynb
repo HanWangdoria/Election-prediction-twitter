{
 "cells": [
  {
   "cell_type": "code",
   "execution_count": 164,
   "metadata": {
    "collapsed": true
   },
   "outputs": [],
   "source": [
    "# Here are the libraries I am using\n",
    "import pandas as pd \n",
    "import matplotlib.pyplot as plt\n",
    "import matplotlib as mpl\n",
    "import numpy as np\n",
    "from os import path\n",
    "import json\n",
    "import csv\n",
    "import twitter\n",
    "from datetime import datetime\n",
    "from datetime import date"
   ]
  },
  {
   "cell_type": "code",
   "execution_count": 165,
   "metadata": {
    "collapsed": true
   },
   "outputs": [],
   "source": [
    "from __future__ import print_function, division\n",
    "import time"
   ]
  },
  {
   "cell_type": "code",
   "execution_count": 166,
   "metadata": {
    "collapsed": true
   },
   "outputs": [],
   "source": [
    "from sklearn.preprocessing import StandardScaler\n",
    "from sklearn.linear_model import LogisticRegression\n",
    "from sklearn.metrics import classification_report\n",
    "\n",
    "from sklearn.model_selection import GridSearchCV "
   ]
  },
  {
   "cell_type": "code",
   "execution_count": 167,
   "metadata": {},
   "outputs": [
    {
     "name": "stdout",
     "output_type": "stream",
     "text": [
      "0.03 secs ==> pd.read_csv\n"
     ]
    }
   ],
   "source": [
    "t0 = time.time()\n",
    "df_o= pd.read_csv('out2017_1.csv')\n",
    "print(\"%.2f secs ==> pd.read_csv\"%(time.time()-t0))"
   ]
  },
  {
   "cell_type": "code",
   "execution_count": 168,
   "metadata": {
    "collapsed": true
   },
   "outputs": [],
   "source": [
    "#remove all the rows that contain a missing value\n",
    "df = df_o.dropna()"
   ]
  },
  {
   "cell_type": "code",
   "execution_count": 169,
   "metadata": {},
   "outputs": [
    {
     "data": {
      "text/html": [
       "<div>\n",
       "<style>\n",
       "    .dataframe thead tr:only-child th {\n",
       "        text-align: right;\n",
       "    }\n",
       "\n",
       "    .dataframe thead th {\n",
       "        text-align: left;\n",
       "    }\n",
       "\n",
       "    .dataframe tbody tr th {\n",
       "        vertical-align: top;\n",
       "    }\n",
       "</style>\n",
       "<table border=\"1\" class=\"dataframe\">\n",
       "  <thead>\n",
       "    <tr style=\"text-align: right;\">\n",
       "      <th></th>\n",
       "      <th>screen_name</th>\n",
       "      <th>device_count</th>\n",
       "      <th>fav_avg</th>\n",
       "      <th>fav_max</th>\n",
       "      <th>fav_std</th>\n",
       "      <th>fav_total</th>\n",
       "      <th>len_mean</th>\n",
       "      <th>rt_avg</th>\n",
       "      <th>rt_max</th>\n",
       "      <th>rt_std</th>\n",
       "      <th>rt_total</th>\n",
       "      <th>time_delta</th>\n",
       "      <th>follower</th>\n",
       "      <th>friends</th>\n",
       "      <th>eleted</th>\n",
       "    </tr>\n",
       "  </thead>\n",
       "  <tbody>\n",
       "    <tr>\n",
       "      <th>0</th>\n",
       "      <td>Termy</td>\n",
       "      <td>5</td>\n",
       "      <td>0.381295</td>\n",
       "      <td>8.0</td>\n",
       "      <td>0.916638</td>\n",
       "      <td>53</td>\n",
       "      <td>116.748201</td>\n",
       "      <td>349.230216</td>\n",
       "      <td>11542.0</td>\n",
       "      <td>1582.071506</td>\n",
       "      <td>48543</td>\n",
       "      <td>0.231884</td>\n",
       "      <td>415.0</td>\n",
       "      <td>540.0</td>\n",
       "      <td>0</td>\n",
       "    </tr>\n",
       "    <tr>\n",
       "      <th>1</th>\n",
       "      <td>JamesWrightLD</td>\n",
       "      <td>5</td>\n",
       "      <td>1.746988</td>\n",
       "      <td>48.0</td>\n",
       "      <td>5.461461</td>\n",
       "      <td>145</td>\n",
       "      <td>128.084337</td>\n",
       "      <td>131.024096</td>\n",
       "      <td>3315.0</td>\n",
       "      <td>414.142400</td>\n",
       "      <td>10875</td>\n",
       "      <td>0.390244</td>\n",
       "      <td>738.0</td>\n",
       "      <td>1427.0</td>\n",
       "      <td>1</td>\n",
       "    </tr>\n",
       "    <tr>\n",
       "      <th>2</th>\n",
       "      <td>WilliamPHDyer</td>\n",
       "      <td>4</td>\n",
       "      <td>1.263158</td>\n",
       "      <td>22.0</td>\n",
       "      <td>3.804551</td>\n",
       "      <td>72</td>\n",
       "      <td>111.333333</td>\n",
       "      <td>68.280702</td>\n",
       "      <td>1682.0</td>\n",
       "      <td>244.181968</td>\n",
       "      <td>3892</td>\n",
       "      <td>0.535714</td>\n",
       "      <td>1673.0</td>\n",
       "      <td>891.0</td>\n",
       "      <td>0</td>\n",
       "    </tr>\n",
       "    <tr>\n",
       "      <th>3</th>\n",
       "      <td>DanielZeichner</td>\n",
       "      <td>6</td>\n",
       "      <td>12.599057</td>\n",
       "      <td>225.0</td>\n",
       "      <td>28.140393</td>\n",
       "      <td>2671</td>\n",
       "      <td>128.735849</td>\n",
       "      <td>35.500000</td>\n",
       "      <td>2293.0</td>\n",
       "      <td>181.151440</td>\n",
       "      <td>7526</td>\n",
       "      <td>0.151659</td>\n",
       "      <td>5000.0</td>\n",
       "      <td>4281.0</td>\n",
       "      <td>1</td>\n",
       "    </tr>\n",
       "    <tr>\n",
       "      <th>4</th>\n",
       "      <td>robertcourts</td>\n",
       "      <td>4</td>\n",
       "      <td>9.512195</td>\n",
       "      <td>28.0</td>\n",
       "      <td>7.587287</td>\n",
       "      <td>390</td>\n",
       "      <td>133.609756</td>\n",
       "      <td>109.463415</td>\n",
       "      <td>1712.0</td>\n",
       "      <td>362.053432</td>\n",
       "      <td>4488</td>\n",
       "      <td>0.775000</td>\n",
       "      <td>5000.0</td>\n",
       "      <td>3190.0</td>\n",
       "      <td>0</td>\n",
       "    </tr>\n",
       "  </tbody>\n",
       "</table>\n",
       "</div>"
      ],
      "text/plain": [
       "      screen_name  device_count    fav_avg  fav_max    fav_std  fav_total  \\\n",
       "0           Termy             5   0.381295      8.0   0.916638         53   \n",
       "1   JamesWrightLD             5   1.746988     48.0   5.461461        145   \n",
       "2   WilliamPHDyer             4   1.263158     22.0   3.804551         72   \n",
       "3  DanielZeichner             6  12.599057    225.0  28.140393       2671   \n",
       "4    robertcourts             4   9.512195     28.0   7.587287        390   \n",
       "\n",
       "     len_mean      rt_avg   rt_max       rt_std  rt_total  time_delta  \\\n",
       "0  116.748201  349.230216  11542.0  1582.071506     48543    0.231884   \n",
       "1  128.084337  131.024096   3315.0   414.142400     10875    0.390244   \n",
       "2  111.333333   68.280702   1682.0   244.181968      3892    0.535714   \n",
       "3  128.735849   35.500000   2293.0   181.151440      7526    0.151659   \n",
       "4  133.609756  109.463415   1712.0   362.053432      4488    0.775000   \n",
       "\n",
       "   follower  friends  eleted  \n",
       "0     415.0    540.0       0  \n",
       "1     738.0   1427.0       1  \n",
       "2    1673.0    891.0       0  \n",
       "3    5000.0   4281.0       1  \n",
       "4    5000.0   3190.0       0  "
      ]
     },
     "execution_count": 169,
     "metadata": {},
     "output_type": "execute_result"
    }
   ],
   "source": [
    "df.head(5)"
   ]
  },
  {
   "cell_type": "code",
   "execution_count": null,
   "metadata": {
    "collapsed": true
   },
   "outputs": [],
   "source": []
  },
  {
   "cell_type": "code",
   "execution_count": 170,
   "metadata": {
    "collapsed": true
   },
   "outputs": [],
   "source": [
    "#Stratified sampling method by the value of Stance\n",
    "def split_to_train_test(df, label_column, frac=0.7):\n",
    "    train_df, val_df = pd.DataFrame(), pd.DataFrame()\n",
    "    labels = df[label_column].unique()\n",
    "    for lbl in labels:\n",
    "        lbl_df = df[df[label_column] == lbl]\n",
    "        lbl_train_df = lbl_df.sample(frac=frac)\n",
    "        lbl_val_df = lbl_df.drop(lbl_train_df.index)\n",
    "        print ('\\n%s:\\n----\\ntotal:%d\\ntrain_df:%d\\nval_df:%d' % (lbl, len(lbl_df), len(lbl_train_df), len(lbl_val_df)))\n",
    "        train_df = train_df.append(lbl_train_df)\n",
    "        val_df = val_df.append(lbl_val_df)\n",
    "\n",
    "    return train_df, val_df\n",
    "\n"
   ]
  },
  {
   "cell_type": "code",
   "execution_count": 171,
   "metadata": {},
   "outputs": [
    {
     "name": "stdout",
     "output_type": "stream",
     "text": [
      "After staratified sampling, get two sets: training subset and validation subset\n",
      "\n",
      "0:\n",
      "----\n",
      "total:1144\n",
      "train_df:1030\n",
      "val_df:114\n",
      "\n",
      "1:\n",
      "----\n",
      "total:405\n",
      "train_df:364\n",
      "val_df:41\n"
     ]
    }
   ],
   "source": [
    "print('After staratified sampling, get two sets: training subset and validation subset')\n",
    "train, val = split_to_train_test(df, 'eleted', 0.9)"
   ]
  },
  {
   "cell_type": "code",
   "execution_count": 172,
   "metadata": {},
   "outputs": [
    {
     "data": {
      "text/html": [
       "<div>\n",
       "<style>\n",
       "    .dataframe thead tr:only-child th {\n",
       "        text-align: right;\n",
       "    }\n",
       "\n",
       "    .dataframe thead th {\n",
       "        text-align: left;\n",
       "    }\n",
       "\n",
       "    .dataframe tbody tr th {\n",
       "        vertical-align: top;\n",
       "    }\n",
       "</style>\n",
       "<table border=\"1\" class=\"dataframe\">\n",
       "  <thead>\n",
       "    <tr style=\"text-align: right;\">\n",
       "      <th></th>\n",
       "      <th>screen_name</th>\n",
       "      <th>device_count</th>\n",
       "      <th>fav_avg</th>\n",
       "      <th>fav_max</th>\n",
       "      <th>fav_std</th>\n",
       "      <th>fav_total</th>\n",
       "      <th>len_mean</th>\n",
       "      <th>rt_avg</th>\n",
       "      <th>rt_max</th>\n",
       "      <th>rt_std</th>\n",
       "      <th>rt_total</th>\n",
       "      <th>time_delta</th>\n",
       "      <th>follower</th>\n",
       "      <th>friends</th>\n",
       "      <th>eleted</th>\n",
       "    </tr>\n",
       "  </thead>\n",
       "  <tbody>\n",
       "    <tr>\n",
       "      <th>79</th>\n",
       "      <td>GonulDaniels</td>\n",
       "      <td>3</td>\n",
       "      <td>4.764706</td>\n",
       "      <td>50.0</td>\n",
       "      <td>8.114833</td>\n",
       "      <td>810</td>\n",
       "      <td>119.970588</td>\n",
       "      <td>53.652941</td>\n",
       "      <td>2128.0</td>\n",
       "      <td>207.293462</td>\n",
       "      <td>9121</td>\n",
       "      <td>0.189349</td>\n",
       "      <td>2028.0</td>\n",
       "      <td>2564.0</td>\n",
       "      <td>0</td>\n",
       "    </tr>\n",
       "    <tr>\n",
       "      <th>1562</th>\n",
       "      <td>tonygouldukip</td>\n",
       "      <td>1</td>\n",
       "      <td>0.004219</td>\n",
       "      <td>1.0</td>\n",
       "      <td>0.064820</td>\n",
       "      <td>1</td>\n",
       "      <td>123.531646</td>\n",
       "      <td>272.476793</td>\n",
       "      <td>8821.0</td>\n",
       "      <td>973.377861</td>\n",
       "      <td>64577</td>\n",
       "      <td>0.033898</td>\n",
       "      <td>3.0</td>\n",
       "      <td>13.0</td>\n",
       "      <td>0</td>\n",
       "    </tr>\n",
       "    <tr>\n",
       "      <th>1351</th>\n",
       "      <td>seanddundeewest</td>\n",
       "      <td>2</td>\n",
       "      <td>0.000000</td>\n",
       "      <td>0.0</td>\n",
       "      <td>0.000000</td>\n",
       "      <td>0</td>\n",
       "      <td>101.769231</td>\n",
       "      <td>0.076923</td>\n",
       "      <td>1.0</td>\n",
       "      <td>0.266469</td>\n",
       "      <td>1</td>\n",
       "      <td>0.083333</td>\n",
       "      <td>9.0</td>\n",
       "      <td>0.0</td>\n",
       "      <td>0</td>\n",
       "    </tr>\n",
       "    <tr>\n",
       "      <th>1046</th>\n",
       "      <td>NazShahBfd</td>\n",
       "      <td>3</td>\n",
       "      <td>9.328358</td>\n",
       "      <td>215.0</td>\n",
       "      <td>21.763236</td>\n",
       "      <td>2500</td>\n",
       "      <td>117.451493</td>\n",
       "      <td>680.608209</td>\n",
       "      <td>18095.0</td>\n",
       "      <td>2270.853352</td>\n",
       "      <td>182403</td>\n",
       "      <td>0.119850</td>\n",
       "      <td>5000.0</td>\n",
       "      <td>935.0</td>\n",
       "      <td>0</td>\n",
       "    </tr>\n",
       "    <tr>\n",
       "      <th>1090</th>\n",
       "      <td>LSRPlaid</td>\n",
       "      <td>3</td>\n",
       "      <td>6.213675</td>\n",
       "      <td>70.0</td>\n",
       "      <td>12.558805</td>\n",
       "      <td>727</td>\n",
       "      <td>126.512821</td>\n",
       "      <td>144.153846</td>\n",
       "      <td>14683.0</td>\n",
       "      <td>1350.349101</td>\n",
       "      <td>16866</td>\n",
       "      <td>0.060345</td>\n",
       "      <td>5000.0</td>\n",
       "      <td>1841.0</td>\n",
       "      <td>0</td>\n",
       "    </tr>\n",
       "  </tbody>\n",
       "</table>\n",
       "</div>"
      ],
      "text/plain": [
       "          screen_name  device_count   fav_avg  fav_max    fav_std  fav_total  \\\n",
       "79       GonulDaniels             3  4.764706     50.0   8.114833        810   \n",
       "1562    tonygouldukip             1  0.004219      1.0   0.064820          1   \n",
       "1351  seanddundeewest             2  0.000000      0.0   0.000000          0   \n",
       "1046       NazShahBfd             3  9.328358    215.0  21.763236       2500   \n",
       "1090         LSRPlaid             3  6.213675     70.0  12.558805        727   \n",
       "\n",
       "        len_mean      rt_avg   rt_max       rt_std  rt_total  time_delta  \\\n",
       "79    119.970588   53.652941   2128.0   207.293462      9121    0.189349   \n",
       "1562  123.531646  272.476793   8821.0   973.377861     64577    0.033898   \n",
       "1351  101.769231    0.076923      1.0     0.266469         1    0.083333   \n",
       "1046  117.451493  680.608209  18095.0  2270.853352    182403    0.119850   \n",
       "1090  126.512821  144.153846  14683.0  1350.349101     16866    0.060345   \n",
       "\n",
       "      follower  friends  eleted  \n",
       "79      2028.0   2564.0       0  \n",
       "1562       3.0     13.0       0  \n",
       "1351       9.0      0.0       0  \n",
       "1046    5000.0    935.0       0  \n",
       "1090    5000.0   1841.0       0  "
      ]
     },
     "execution_count": 172,
     "metadata": {},
     "output_type": "execute_result"
    }
   ],
   "source": [
    "train.head(5)"
   ]
  },
  {
   "cell_type": "code",
   "execution_count": 173,
   "metadata": {},
   "outputs": [
    {
     "data": {
      "text/html": [
       "<div>\n",
       "<style>\n",
       "    .dataframe thead tr:only-child th {\n",
       "        text-align: right;\n",
       "    }\n",
       "\n",
       "    .dataframe thead th {\n",
       "        text-align: left;\n",
       "    }\n",
       "\n",
       "    .dataframe tbody tr th {\n",
       "        vertical-align: top;\n",
       "    }\n",
       "</style>\n",
       "<table border=\"1\" class=\"dataframe\">\n",
       "  <thead>\n",
       "    <tr style=\"text-align: right;\">\n",
       "      <th></th>\n",
       "      <th>screen_name</th>\n",
       "      <th>device_count</th>\n",
       "      <th>fav_avg</th>\n",
       "      <th>fav_max</th>\n",
       "      <th>fav_std</th>\n",
       "      <th>fav_total</th>\n",
       "      <th>len_mean</th>\n",
       "      <th>rt_avg</th>\n",
       "      <th>rt_max</th>\n",
       "      <th>rt_std</th>\n",
       "      <th>rt_total</th>\n",
       "      <th>time_delta</th>\n",
       "      <th>follower</th>\n",
       "      <th>friends</th>\n",
       "      <th>eleted</th>\n",
       "    </tr>\n",
       "  </thead>\n",
       "  <tbody>\n",
       "    <tr>\n",
       "      <th>4</th>\n",
       "      <td>robertcourts</td>\n",
       "      <td>4</td>\n",
       "      <td>9.512195</td>\n",
       "      <td>28.0</td>\n",
       "      <td>7.587287</td>\n",
       "      <td>390</td>\n",
       "      <td>133.609756</td>\n",
       "      <td>109.463415</td>\n",
       "      <td>1712.0</td>\n",
       "      <td>362.053432</td>\n",
       "      <td>4488</td>\n",
       "      <td>0.775000</td>\n",
       "      <td>5000.0</td>\n",
       "      <td>3190.0</td>\n",
       "      <td>0</td>\n",
       "    </tr>\n",
       "    <tr>\n",
       "      <th>20</th>\n",
       "      <td>racheleden</td>\n",
       "      <td>4</td>\n",
       "      <td>1.890052</td>\n",
       "      <td>46.0</td>\n",
       "      <td>4.389833</td>\n",
       "      <td>361</td>\n",
       "      <td>112.198953</td>\n",
       "      <td>485.204188</td>\n",
       "      <td>27146.0</td>\n",
       "      <td>2895.491239</td>\n",
       "      <td>92674</td>\n",
       "      <td>0.168421</td>\n",
       "      <td>3077.0</td>\n",
       "      <td>2526.0</td>\n",
       "      <td>0</td>\n",
       "    </tr>\n",
       "    <tr>\n",
       "      <th>76</th>\n",
       "      <td>InclusionQuery</td>\n",
       "      <td>3</td>\n",
       "      <td>0.000000</td>\n",
       "      <td>0.0</td>\n",
       "      <td>0.000000</td>\n",
       "      <td>0</td>\n",
       "      <td>58.750000</td>\n",
       "      <td>0.000000</td>\n",
       "      <td>0.0</td>\n",
       "      <td>0.000000</td>\n",
       "      <td>0</td>\n",
       "      <td>1.000000</td>\n",
       "      <td>243.0</td>\n",
       "      <td>172.0</td>\n",
       "      <td>0</td>\n",
       "    </tr>\n",
       "    <tr>\n",
       "      <th>97</th>\n",
       "      <td>crimicans98</td>\n",
       "      <td>1</td>\n",
       "      <td>8.250000</td>\n",
       "      <td>129.0</td>\n",
       "      <td>23.615408</td>\n",
       "      <td>231</td>\n",
       "      <td>107.071429</td>\n",
       "      <td>43.964286</td>\n",
       "      <td>617.0</td>\n",
       "      <td>132.060722</td>\n",
       "      <td>1231</td>\n",
       "      <td>1.185185</td>\n",
       "      <td>942.0</td>\n",
       "      <td>553.0</td>\n",
       "      <td>0</td>\n",
       "    </tr>\n",
       "    <tr>\n",
       "      <th>114</th>\n",
       "      <td>kev927riddy</td>\n",
       "      <td>2</td>\n",
       "      <td>0.185185</td>\n",
       "      <td>4.0</td>\n",
       "      <td>0.630718</td>\n",
       "      <td>15</td>\n",
       "      <td>109.432099</td>\n",
       "      <td>88.839506</td>\n",
       "      <td>4898.0</td>\n",
       "      <td>565.886685</td>\n",
       "      <td>7196</td>\n",
       "      <td>0.400000</td>\n",
       "      <td>1172.0</td>\n",
       "      <td>2195.0</td>\n",
       "      <td>0</td>\n",
       "    </tr>\n",
       "  </tbody>\n",
       "</table>\n",
       "</div>"
      ],
      "text/plain": [
       "        screen_name  device_count   fav_avg  fav_max    fav_std  fav_total  \\\n",
       "4      robertcourts             4  9.512195     28.0   7.587287        390   \n",
       "20       racheleden             4  1.890052     46.0   4.389833        361   \n",
       "76   InclusionQuery             3  0.000000      0.0   0.000000          0   \n",
       "97      crimicans98             1  8.250000    129.0  23.615408        231   \n",
       "114     kev927riddy             2  0.185185      4.0   0.630718         15   \n",
       "\n",
       "       len_mean      rt_avg   rt_max       rt_std  rt_total  time_delta  \\\n",
       "4    133.609756  109.463415   1712.0   362.053432      4488    0.775000   \n",
       "20   112.198953  485.204188  27146.0  2895.491239     92674    0.168421   \n",
       "76    58.750000    0.000000      0.0     0.000000         0    1.000000   \n",
       "97   107.071429   43.964286    617.0   132.060722      1231    1.185185   \n",
       "114  109.432099   88.839506   4898.0   565.886685      7196    0.400000   \n",
       "\n",
       "     follower  friends  eleted  \n",
       "4      5000.0   3190.0       0  \n",
       "20     3077.0   2526.0       0  \n",
       "76      243.0    172.0       0  \n",
       "97      942.0    553.0       0  \n",
       "114    1172.0   2195.0       0  "
      ]
     },
     "execution_count": 173,
     "metadata": {},
     "output_type": "execute_result"
    }
   ],
   "source": [
    "val.head(5)"
   ]
  },
  {
   "cell_type": "code",
   "execution_count": 174,
   "metadata": {},
   "outputs": [
    {
     "name": "stdout",
     "output_type": "stream",
     "text": [
      "             precision    recall  f1-score   support\n",
      "\n",
      "          0       0.77      0.96      0.85       114\n",
      "          1       0.64      0.22      0.33        41\n",
      "\n",
      "avg / total       0.74      0.76      0.72       155\n",
      "\n"
     ]
    }
   ],
   "source": [
    "parameters = {  \n",
    "    'penalty':('l1', 'l2'),   \n",
    "    'C':[1,2,3,4],   \n",
    "} \n",
    "\n",
    "def preprocess(df, features):\n",
    "    X = df[features].values\n",
    "    \n",
    "    X = scaler.fit_transform(X)\n",
    "    return X\n",
    "\n",
    "scaler = StandardScaler()\n",
    "\n",
    "clf = LogisticRegression(penalty='l2')\n",
    "\n",
    "\n",
    "features = ['device_count', 'fav_avg', 'fav_max', 'fav_std',\n",
    "            'fav_total', 'len_mean',  'rt_avg','rt_std','rt_total','time_delta','follower','friends']\n",
    "#bidprice,payprice去掉\n",
    "\n",
    "y_train = train['eleted'].values\n",
    "y_val = val['eleted'].values\n",
    "\n",
    "X_train = preprocess(train, features)\n",
    "X_val = preprocess(val, features)\n",
    " \n",
    "y_val_predict = clf.fit(X_train, y_train).predict(X_val)\n",
    "print(classification_report(y_val, y_val_predict))"
   ]
  },
  {
   "cell_type": "code",
   "execution_count": 175,
   "metadata": {
    "collapsed": true
   },
   "outputs": [],
   "source": [
    "from sklearn.model_selection import cross_val_score"
   ]
  },
  {
   "cell_type": "code",
   "execution_count": 176,
   "metadata": {
    "collapsed": true
   },
   "outputs": [],
   "source": [
    "from sklearn import svm\n",
    "from sklearn import metrics"
   ]
  },
  {
   "cell_type": "code",
   "execution_count": 154,
   "metadata": {},
   "outputs": [
    {
     "data": {
      "text/plain": [
       "0.78260869565217395"
      ]
     },
     "execution_count": 154,
     "metadata": {},
     "output_type": "execute_result"
    }
   ],
   "source": [
    "from sklearn.model_selection import cross_val_predict\n",
    "\n",
    "clf=clf = LogisticRegression(penalty='l2')\n",
    "\n",
    "predicted = cross_val_predict(clf, X_val, y_val, cv=10)\n",
    "metrics.accuracy_score(y_val, y_val_predict) \n",
    "#one year"
   ]
  },
  {
   "cell_type": "code",
   "execution_count": 137,
   "metadata": {},
   "outputs": [
    {
     "data": {
      "text/plain": [
       "0.80952380952380953"
      ]
     },
     "execution_count": 137,
     "metadata": {},
     "output_type": "execute_result"
    }
   ],
   "source": [
    "from sklearn.model_selection import cross_val_predict\n",
    "\n",
    "clf=clf = LogisticRegression(penalty='l2')\n",
    "\n",
    "predicted = cross_val_predict(clf, X_val, y_val, cv=10)\n",
    "metrics.accuracy_score(y_val, y_val_predict) \n",
    "#two years"
   ]
  },
  {
   "cell_type": "code",
   "execution_count": 123,
   "metadata": {},
   "outputs": [
    {
     "data": {
      "text/plain": [
       "0.73584905660377353"
      ]
     },
     "execution_count": 123,
     "metadata": {},
     "output_type": "execute_result"
    }
   ],
   "source": [
    "from sklearn.model_selection import cross_val_predict\n",
    "\n",
    "clf=clf = LogisticRegression(penalty='l2')\n",
    "\n",
    "predicted = cross_val_predict(clf, X_val, y_val, cv=10)\n",
    "metrics.accuracy_score(y_val, y_val_predict) \n",
    "#3 months"
   ]
  },
  {
   "cell_type": "code",
   "execution_count": 177,
   "metadata": {},
   "outputs": [
    {
     "data": {
      "text/plain": [
       "0.76129032258064511"
      ]
     },
     "execution_count": 177,
     "metadata": {},
     "output_type": "execute_result"
    }
   ],
   "source": [
    "from sklearn.model_selection import cross_val_predict\n",
    "\n",
    "clf=clf = LogisticRegression(penalty='l2')\n",
    "\n",
    "predicted = cross_val_predict(clf, X_val, y_val, cv=10)\n",
    "metrics.accuracy_score(y_val, y_val_predict) \n",
    "#1 months"
   ]
  },
  {
   "cell_type": "code",
   "execution_count": null,
   "metadata": {
    "collapsed": true
   },
   "outputs": [],
   "source": []
  }
 ],
 "metadata": {
  "kernelspec": {
   "display_name": "Python 3",
   "language": "python",
   "name": "python3"
  },
  "language_info": {
   "codemirror_mode": {
    "name": "ipython",
    "version": 3
   },
   "file_extension": ".py",
   "mimetype": "text/x-python",
   "name": "python",
   "nbconvert_exporter": "python",
   "pygments_lexer": "ipython3",
   "version": "3.6.3"
  }
 },
 "nbformat": 4,
 "nbformat_minor": 2
}
