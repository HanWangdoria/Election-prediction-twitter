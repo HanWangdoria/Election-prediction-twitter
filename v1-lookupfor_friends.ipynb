{
 "cells": [
  {
   "cell_type": "code",
   "execution_count": 14,
   "metadata": {
    "collapsed": true
   },
   "outputs": [],
   "source": [
    "# General:\n",
    "import tweepy           # To consume Twitter's API\n",
    "import pandas as pd     # To handle data\n",
    "import numpy as np      # For number computing\n",
    "\n",
    "# For plotting and visualization:\n",
    "from IPython.display import display\n",
    "import matplotlib.pyplot as plt\n",
    "import seaborn as sns\n",
    "%matplotlib inline"
   ]
  },
  {
   "cell_type": "code",
   "execution_count": 15,
   "metadata": {
    "collapsed": true
   },
   "outputs": [],
   "source": [
    "# Twitter App access keys for @user\n",
    "#my app access keys\n",
    "\n",
    "# Consume:\n",
    "CONSUMER_KEY    = 'EBLPW1pro22bimqjDFHrn4Opp'\n",
    "CONSUMER_SECRET = 'XrwYX4mQULOSaDBvuWOYYVtLZzkHJU44ORwWq0ZRF32Aw565AH'\n",
    "\n",
    "# Access:\n",
    "ACCESS_TOKEN  = '921917165950906368-znfwcJjJCRgN9WZ4HFuAhqmnRLz9J0l'\n",
    "ACCESS_SECRET = 'bS6XK9NgLFwr8SD3hiUu5vVc1YpVKq4HSjscdtJvWu4ud'"
   ]
  },
  {
   "cell_type": "code",
   "execution_count": 16,
   "metadata": {
    "collapsed": true
   },
   "outputs": [],
   "source": [
    "# We import our access keys:\n",
    "from credentials import *    # This will allow us to use the keys as variables\n",
    "\n",
    "# API's setup:\n",
    "def twitter_setup():\n",
    "    \"\"\"\n",
    "    Utility function to setup the Twitter's API\n",
    "    with our access keys provided.\n",
    "    \"\"\"\n",
    "    # Authentication and access using keys:\n",
    "    auth = tweepy.OAuthHandler(CONSUMER_KEY, CONSUMER_SECRET)\n",
    "    auth.set_access_token(ACCESS_TOKEN, ACCESS_SECRET)\n",
    "\n",
    "    # Return API with authentication:\n",
    "    api = tweepy.API(auth)\n",
    "    return api\n"
   ]
  },
  {
   "cell_type": "code",
   "execution_count": 17,
   "metadata": {},
   "outputs": [
    {
     "name": "stdout",
     "output_type": "stream",
     "text": [
      "bennison_andrew\n"
     ]
    }
   ],
   "source": [
    "#Using a txt file to store the MP's names \n",
    "#read txt file into string lists and looping for next steps\n",
    "with open('set_crawler.txt', 'r') as f:\n",
    "    content = f.readlines()\n",
    "# you may also want to remove whitespace characters like `\\n` at the end of each line\n",
    "content = [x.strip() for x in content] \n",
    "print(content[0])"
   ]
  },
  {
   "cell_type": "code",
   "execution_count": 18,
   "metadata": {},
   "outputs": [
    {
     "name": "stdout",
     "output_type": "stream",
     "text": [
      "[3140285313, 757645094598172676, 1227021432, 417882689, 973910124359290881, 852738626, 816012535711272961, 942173851, 261350176, 934088016079065088, 478924109, 911919095355977729, 900667488387702784, 871387321517604868, 2239090268, 505735814, 868603359443505152, 2473713583, 2482625058, 867441694635151361, 3795736761, 862270524537307136, 3321268739, 482187798, 243283538, 2751756210, 3223923629, 772033535343550464, 3045062896, 7641002, 135891998, 244548687, 54946687, 247531545, 14193779, 2288589309, 138192093, 596100569, 700890523725246464, 308029059, 1706298878, 598497970, 4590103635, 2942667653, 528875240, 3201127499, 4112901419]\n",
      "['jacpaul86', 'PontardawePlaid', 'killashunn', 'Plaid_Castell_N', 'HookingsKelly', 'DanielGwydion', 'JamieNeef', 'couchie24', 'MatthewLavis', 'AberafanC', 'Penelope1184', 'BonnieTtyler', 'stopNPTprison', 'HelenaJ34518929', 'samtpacker', 'BethanEvans3', 'ToriGriffiths1', 'WhichCandidate', 'TwittElection', 'TaylorCllr', 'HomesforWales', 'branwencennard', 'rachelevarney', 'RebeccaFerris2', 'dpbam', 'fly2wales', 'RobertsEirug', 'panopticon_news', 'frackfreemps', 'leiawelsh', 'RichLido', 'danrphelps', 'SBamsey', 'cj429', 'bethanjenkins', 'xlauraivey84x', 'Daffy_Citric', 'Randy_Melanie', 'claudiela1211', 'UnderUrSkinLies', '4everl0ne', 'Paulaalex07', 'dettty1', 'BefliXd', 'taffysarmy', 'YMCA_PortTalbot', 'Sladeout']\n"
     ]
    }
   ],
   "source": [
    "import time\n",
    "import tweepy\n",
    "\n",
    "# We create an extractor object:\n",
    "extractor = twitter_setup()\n",
    "\n",
    "#extract the followers\n",
    "followers_id = extractor.followers_ids('bennison_andrew')\n",
    "print(followers_id)\n",
    "\n",
    "#turn the ids into screennames\n",
    "i=0\n",
    "followers=[]\n",
    "while i < len(followers_id):\n",
    "    f= extractor.get_user(followers_id[i]).screen_name\n",
    "    followers.append(f)\n",
    "    i=i+1\n",
    "\n",
    "print(followers)\n",
    "#followers type list"
   ]
  },
  {
   "cell_type": "code",
   "execution_count": 19,
   "metadata": {},
   "outputs": [
    {
     "name": "stdout",
     "output_type": "stream",
     "text": [
      "<class 'list'>\n"
     ]
    }
   ],
   "source": [
    "#extract the friends\n",
    "friends = extractor.friends_ids('bennison_andrew')\n",
    "print(type(friends))"
   ]
  },
  {
   "cell_type": "code",
   "execution_count": 23,
   "metadata": {},
   "outputs": [
    {
     "name": "stdout",
     "output_type": "stream",
     "text": [
      "@LeanneWood @Plaid_Cymru Happy to support in any way I can..\n",
      "1015516607857287168\n",
      "[]\n"
     ]
    }
   ],
   "source": [
    "#extract the retweets \n",
    "firstTweet = extractor.user_timeline('bennison_andrew')[0]\n",
    "print (firstTweet.text)\n",
    "print (firstTweet.id)\n",
    "results = extractor.retweets(firstTweet.id) \n",
    "print (results)\n"
   ]
  },
  {
   "cell_type": "code",
   "execution_count": 25,
   "metadata": {},
   "outputs": [
    {
     "ename": "AttributeError",
     "evalue": "'API' object has no attribute 'user_mentions'",
     "output_type": "error",
     "traceback": [
      "\u001b[0;31m---------------------------------------------------------------------------\u001b[0m",
      "\u001b[0;31mAttributeError\u001b[0m                            Traceback (most recent call last)",
      "\u001b[0;32m<ipython-input-25-b069147a11d0>\u001b[0m in \u001b[0;36m<module>\u001b[0;34m()\u001b[0m\n\u001b[0;32m----> 1\u001b[0;31m \u001b[0ma\u001b[0m \u001b[0;34m=\u001b[0m \u001b[0mextractor\u001b[0m\u001b[0;34m.\u001b[0m\u001b[0muser_mentions\u001b[0m\u001b[0;34m(\u001b[0m\u001b[0;36m1015516607857287168\u001b[0m\u001b[0;34m,\u001b[0m \u001b[0mtweet_mode\u001b[0m\u001b[0;34m=\u001b[0m\u001b[0;34m'extended'\u001b[0m\u001b[0;34m)\u001b[0m\u001b[0;34m\u001b[0m\u001b[0m\n\u001b[0m\u001b[1;32m      2\u001b[0m \u001b[0mprint\u001b[0m\u001b[0;34m(\u001b[0m\u001b[0ma\u001b[0m\u001b[0;34m)\u001b[0m\u001b[0;34m\u001b[0m\u001b[0m\n",
      "\u001b[0;31mAttributeError\u001b[0m: 'API' object has no attribute 'user_mentions'"
     ]
    }
   ],
   "source": []
  },
  {
   "cell_type": "code",
   "execution_count": null,
   "metadata": {
    "collapsed": true
   },
   "outputs": [],
   "source": []
  }
 ],
 "metadata": {
  "kernelspec": {
   "display_name": "Python 3",
   "language": "python",
   "name": "python3"
  },
  "language_info": {
   "codemirror_mode": {
    "name": "ipython",
    "version": 3
   },
   "file_extension": ".py",
   "mimetype": "text/x-python",
   "name": "python",
   "nbconvert_exporter": "python",
   "pygments_lexer": "ipython3",
   "version": "3.6.3"
  }
 },
 "nbformat": 4,
 "nbformat_minor": 2
}
