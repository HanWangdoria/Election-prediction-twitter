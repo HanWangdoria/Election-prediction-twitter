{
 "cells": [
  {
   "cell_type": "code",
   "execution_count": 206,
   "metadata": {
    "collapsed": true
   },
   "outputs": [],
   "source": [
    "import pandas as pd\n",
    "import numpy as np\n",
    "import tweepy\n",
    "import requests\n",
    "import re\n",
    "import time\n",
    "from tweepy import OAuthHandler\n",
    "from twython import Twython, TwythonError"
   ]
  },
  {
   "cell_type": "code",
   "execution_count": 207,
   "metadata": {
    "collapsed": true
   },
   "outputs": [],
   "source": [
    "APP_KEY =  'Tf7rC6i7eSIfZFpuS8OoqmkDb'\n",
    "APP_SECRET = 'vp6lIJf5Wuq6j7MNPaQSyq5Jlu7oXRPL7d9pz0TkEGIiDSEjRL'\n",
    "\n",
    "twitter = Twython(APP_KEY, APP_SECRET)\n",
    "#9"
   ]
  },
  {
   "cell_type": "code",
   "execution_count": null,
   "metadata": {
    "collapsed": true
   },
   "outputs": [],
   "source": []
  },
  {
   "cell_type": "code",
   "execution_count": null,
   "metadata": {
    "collapsed": true
   },
   "outputs": [],
   "source": []
  },
  {
   "cell_type": "code",
   "execution_count": null,
   "metadata": {
    "collapsed": true
   },
   "outputs": [],
   "source": []
  },
  {
   "cell_type": "code",
   "execution_count": 208,
   "metadata": {
    "collapsed": true
   },
   "outputs": [],
   "source": [
    "def get_re_info (response): \n",
    "    len_r = len(response)\n",
    "    j=0\n",
    "    while j < len_r:\n",
    "         # retweets_id\n",
    "        re_id = response[j].get(\"id\")\n",
    "        \n",
    "         # original tweets owner\n",
    "        #tweet_owner_screen_name = response[j].get(\"entities\").get(\"user_mentions\")[0].get(\"screen_name\")\n",
    "        \n",
    "         # retweeted_people_id\n",
    "        re_people_id = response[j].get(\"user\").get(\"id\")\n",
    "                    \n",
    "         # retweeted_people_screen_name\n",
    "        re_people_name = response[j].get(\"user\").get(\"screen_name\")\n",
    "            \n",
    "        # retweeted_people_followers\n",
    "        re_people_fo_num = response[j].get(\"user\").get(\"followers_count\")\n",
    "            \n",
    "        #retweeted_people_friends\n",
    "        re_people_friends_num = response[j].get(\"user\").get(\"friends_count\")\n",
    "            \n",
    "        #retweeted_content\n",
    "        re_text = response[j].get(\"text\").encode('unicode_escape') #unicode escape to fix emoji issue\n",
    "                    \n",
    "            \n",
    "        df1= pd.DataFrame({ \"re_people_id\": [re_people_id],\n",
    "                            \"re_people_name\": [re_people_name],\n",
    "                            \"re_people_fo_num\" : [re_people_fo_num],\n",
    "                            \"re_people_friends_num\" : [re_people_friends_num],\n",
    "                            \"re_id\" : [re_id],\n",
    "                            \"re_text\" : [re_text],\n",
    "                        })\n",
    "        \n",
    "        print(len(df1))\n",
    "        \n",
    "        j=j+1\n",
    "        return df1\n",
    "    \n",
    "    \n",
    "\n",
    "\n",
    "\n",
    "    "
   ]
  },
  {
   "cell_type": "code",
   "execution_count": 209,
   "metadata": {
    "collapsed": true
   },
   "outputs": [],
   "source": [
    "from twython.exceptions import TwythonRateLimitError, TwythonError\n",
    "from twython import Twython, TwythonStreamer"
   ]
  },
  {
   "cell_type": "code",
   "execution_count": 210,
   "metadata": {},
   "outputs": [
    {
     "name": "stdout",
     "output_type": "stream",
     "text": [
      "1\n",
      "this retweets have been appended.\n",
      "1\n",
      "1\n",
      "this retweets have been appended.\n",
      "2\n",
      "this tweets didn't been retweeted.\n",
      "this tweets didn't been retweeted.\n",
      "this tweets didn't been retweeted.\n",
      "this tweets didn't been retweeted.\n",
      "this tweets didn't been retweeted.\n",
      "this tweets didn't been retweeted.\n",
      "this tweets didn't been retweeted.\n",
      "this tweets didn't been retweeted.\n",
      "1\n",
      "this retweets have been appended.\n",
      "11\n",
      "this tweets didn't been retweeted.\n",
      "1\n",
      "this retweets have been appended.\n",
      "13\n",
      "this tweets didn't been retweeted.\n",
      "this tweets didn't been retweeted.\n",
      "this tweets didn't been retweeted.\n",
      "this tweets didn't been retweeted.\n",
      "1\n",
      "this retweets have been appended.\n",
      "18\n",
      "1\n",
      "this retweets have been appended.\n",
      "19\n",
      "this tweets didn't been retweeted.\n",
      "this tweets didn't been retweeted.\n",
      "this tweets didn't been retweeted.\n",
      "this tweets didn't been retweeted.\n",
      "this tweets didn't been retweeted.\n",
      "this tweets didn't been retweeted.\n",
      "this tweets didn't been retweeted.\n",
      "this tweets didn't been retweeted.\n",
      "this tweets didn't been retweeted.\n",
      "1\n",
      "this retweets have been appended.\n",
      "29\n",
      "this tweets didn't been retweeted.\n",
      "this tweets didn't been retweeted.\n",
      "this tweets didn't been retweeted.\n",
      "this tweets didn't been retweeted.\n",
      "this tweets didn't been retweeted.\n",
      "this tweets didn't been retweeted.\n",
      "this tweets didn't been retweeted.\n",
      "this tweets didn't been retweeted.\n",
      "this tweets didn't been retweeted.\n",
      "this tweets didn't been retweeted.\n",
      "1\n",
      "this retweets have been appended.\n",
      "40\n",
      "1\n",
      "this retweets have been appended.\n",
      "41\n",
      "this tweets didn't been retweeted.\n",
      "this tweets didn't been retweeted.\n",
      "this tweets didn't been retweeted.\n",
      "this tweets didn't been retweeted.\n",
      "this tweets didn't been retweeted.\n",
      "this tweets didn't been retweeted.\n",
      "this tweets didn't been retweeted.\n",
      "1\n",
      "this retweets have been appended.\n",
      "49\n",
      "this tweets didn't been retweeted.\n",
      "this tweets didn't been retweeted.\n",
      "this tweets didn't been retweeted.\n",
      "this tweets didn't been retweeted.\n",
      "this tweets didn't been retweeted.\n",
      "this tweets didn't been retweeted.\n",
      "this tweets didn't been retweeted.\n",
      "this tweets didn't been retweeted.\n",
      "this tweets didn't been retweeted.\n",
      "1\n",
      "this retweets have been appended.\n",
      "59\n",
      "this tweets didn't been retweeted.\n",
      "this tweets didn't been retweeted.\n",
      "this tweets didn't been retweeted.\n",
      "this tweets didn't been retweeted.\n",
      "this tweets didn't been retweeted.\n",
      "this tweets didn't been retweeted.\n",
      "this tweets didn't been retweeted.\n",
      "this tweets didn't been retweeted.\n",
      "this tweets didn't been retweeted.\n",
      "this tweets didn't been retweeted.\n",
      "this tweets didn't been retweeted.\n",
      "this tweets didn't been retweeted.\n",
      "this tweets didn't been retweeted.\n",
      "this tweets didn't been retweeted.\n",
      "1\n",
      "this retweets have been appended.\n",
      "74\n",
      "1\n",
      "this retweets have been appended.\n",
      "75\n",
      "this tweets didn't been retweeted.\n",
      "this tweets didn't been retweeted.\n",
      "this tweets didn't been retweeted.\n",
      "1\n",
      "this retweets have been appended.\n",
      "79\n",
      "this tweets didn't been retweeted.\n",
      "this tweets didn't been retweeted.\n",
      "this tweets didn't been retweeted.\n",
      "this tweets didn't been retweeted.\n",
      "this tweets didn't been retweeted.\n",
      "this tweets didn't been retweeted.\n",
      "this tweets didn't been retweeted.\n",
      "this tweets didn't been retweeted.\n",
      "this tweets didn't been retweeted.\n",
      "this tweets didn't been retweeted.\n",
      "this tweets didn't been retweeted.\n",
      "this tweets didn't been retweeted.\n",
      "this tweets didn't been retweeted.\n",
      "this tweets didn't been retweeted.\n",
      "this tweets didn't been retweeted.\n",
      "this tweets didn't been retweeted.\n",
      "this tweets didn't been retweeted.\n",
      "this tweets didn't been retweeted.\n",
      "this tweets didn't been retweeted.\n",
      "this tweets didn't been retweeted.\n",
      "this tweets didn't been retweeted.\n",
      "Martie_Warin has done!\n",
      "this tweets didn't been retweeted.\n"
     ]
    },
    {
     "ename": "KeyError",
     "evalue": "1",
     "output_type": "error",
     "traceback": [
      "\u001b[0;31m---------------------------------------------------------------------------\u001b[0m",
      "\u001b[0;31mKeyError\u001b[0m                                  Traceback (most recent call last)",
      "\u001b[0;32m<ipython-input-210-600fbdab812e>\u001b[0m in \u001b[0;36m<module>\u001b[0;34m()\u001b[0m\n\u001b[1;32m     21\u001b[0m             \u001b[0;31m#limited_id_list = id_list[0: 50]\u001b[0m\u001b[0;34m\u001b[0m\u001b[0;34m\u001b[0m\u001b[0m\n\u001b[1;32m     22\u001b[0m \u001b[0;34m\u001b[0m\u001b[0m\n\u001b[0;32m---> 23\u001b[0;31m                 \u001b[0mresponse\u001b[0m \u001b[0;34m=\u001b[0m \u001b[0mtwitter\u001b[0m\u001b[0;34m.\u001b[0m\u001b[0mget_retweets\u001b[0m\u001b[0;34m(\u001b[0m\u001b[0mid\u001b[0m\u001b[0;34m=\u001b[0m\u001b[0mid_list\u001b[0m\u001b[0;34m[\u001b[0m\u001b[0mi\u001b[0m\u001b[0;34m]\u001b[0m\u001b[0;34m,\u001b[0m \u001b[0mcount\u001b[0m\u001b[0;34m=\u001b[0m\u001b[0;36m100\u001b[0m\u001b[0;34m)\u001b[0m\u001b[0;34m\u001b[0m\u001b[0m\n\u001b[0m\u001b[1;32m     24\u001b[0m                 \u001b[0mtime\u001b[0m\u001b[0;34m.\u001b[0m\u001b[0msleep\u001b[0m\u001b[0;34m(\u001b[0m\u001b[0;36m2\u001b[0m\u001b[0;34m)\u001b[0m\u001b[0;34m\u001b[0m\u001b[0m\n\u001b[1;32m     25\u001b[0m                 \u001b[0mlen_r\u001b[0m \u001b[0;34m=\u001b[0m \u001b[0mlen\u001b[0m\u001b[0;34m(\u001b[0m\u001b[0mresponse\u001b[0m\u001b[0;34m)\u001b[0m\u001b[0;34m\u001b[0m\u001b[0m\n",
      "\u001b[0;32m~/anaconda3/lib/python3.6/site-packages/pandas/core/series.py\u001b[0m in \u001b[0;36m__getitem__\u001b[0;34m(self, key)\u001b[0m\n\u001b[1;32m    599\u001b[0m         \u001b[0mkey\u001b[0m \u001b[0;34m=\u001b[0m \u001b[0mcom\u001b[0m\u001b[0;34m.\u001b[0m\u001b[0m_apply_if_callable\u001b[0m\u001b[0;34m(\u001b[0m\u001b[0mkey\u001b[0m\u001b[0;34m,\u001b[0m \u001b[0mself\u001b[0m\u001b[0;34m)\u001b[0m\u001b[0;34m\u001b[0m\u001b[0m\n\u001b[1;32m    600\u001b[0m         \u001b[0;32mtry\u001b[0m\u001b[0;34m:\u001b[0m\u001b[0;34m\u001b[0m\u001b[0m\n\u001b[0;32m--> 601\u001b[0;31m             \u001b[0mresult\u001b[0m \u001b[0;34m=\u001b[0m \u001b[0mself\u001b[0m\u001b[0;34m.\u001b[0m\u001b[0mindex\u001b[0m\u001b[0;34m.\u001b[0m\u001b[0mget_value\u001b[0m\u001b[0;34m(\u001b[0m\u001b[0mself\u001b[0m\u001b[0;34m,\u001b[0m \u001b[0mkey\u001b[0m\u001b[0;34m)\u001b[0m\u001b[0;34m\u001b[0m\u001b[0m\n\u001b[0m\u001b[1;32m    602\u001b[0m \u001b[0;34m\u001b[0m\u001b[0m\n\u001b[1;32m    603\u001b[0m             \u001b[0;32mif\u001b[0m \u001b[0;32mnot\u001b[0m \u001b[0mis_scalar\u001b[0m\u001b[0;34m(\u001b[0m\u001b[0mresult\u001b[0m\u001b[0;34m)\u001b[0m\u001b[0;34m:\u001b[0m\u001b[0;34m\u001b[0m\u001b[0m\n",
      "\u001b[0;32m~/anaconda3/lib/python3.6/site-packages/pandas/core/indexes/base.py\u001b[0m in \u001b[0;36mget_value\u001b[0;34m(self, series, key)\u001b[0m\n\u001b[1;32m   2475\u001b[0m         \u001b[0;32mtry\u001b[0m\u001b[0;34m:\u001b[0m\u001b[0;34m\u001b[0m\u001b[0m\n\u001b[1;32m   2476\u001b[0m             return self._engine.get_value(s, k,\n\u001b[0;32m-> 2477\u001b[0;31m                                           tz=getattr(series.dtype, 'tz', None))\n\u001b[0m\u001b[1;32m   2478\u001b[0m         \u001b[0;32mexcept\u001b[0m \u001b[0mKeyError\u001b[0m \u001b[0;32mas\u001b[0m \u001b[0me1\u001b[0m\u001b[0;34m:\u001b[0m\u001b[0;34m\u001b[0m\u001b[0m\n\u001b[1;32m   2479\u001b[0m             \u001b[0;32mif\u001b[0m \u001b[0mlen\u001b[0m\u001b[0;34m(\u001b[0m\u001b[0mself\u001b[0m\u001b[0;34m)\u001b[0m \u001b[0;34m>\u001b[0m \u001b[0;36m0\u001b[0m \u001b[0;32mand\u001b[0m \u001b[0mself\u001b[0m\u001b[0;34m.\u001b[0m\u001b[0minferred_type\u001b[0m \u001b[0;32min\u001b[0m \u001b[0;34m[\u001b[0m\u001b[0;34m'integer'\u001b[0m\u001b[0;34m,\u001b[0m \u001b[0;34m'boolean'\u001b[0m\u001b[0;34m]\u001b[0m\u001b[0;34m:\u001b[0m\u001b[0;34m\u001b[0m\u001b[0m\n",
      "\u001b[0;32mpandas/_libs/index.pyx\u001b[0m in \u001b[0;36mpandas._libs.index.IndexEngine.get_value\u001b[0;34m()\u001b[0m\n",
      "\u001b[0;32mpandas/_libs/index.pyx\u001b[0m in \u001b[0;36mpandas._libs.index.IndexEngine.get_value\u001b[0;34m()\u001b[0m\n",
      "\u001b[0;32mpandas/_libs/index.pyx\u001b[0m in \u001b[0;36mpandas._libs.index.IndexEngine.get_loc\u001b[0;34m()\u001b[0m\n",
      "\u001b[0;32mpandas/_libs/hashtable_class_helper.pxi\u001b[0m in \u001b[0;36mpandas._libs.hashtable.Int64HashTable.get_item\u001b[0;34m()\u001b[0m\n",
      "\u001b[0;32mpandas/_libs/hashtable_class_helper.pxi\u001b[0m in \u001b[0;36mpandas._libs.hashtable.Int64HashTable.get_item\u001b[0;34m()\u001b[0m\n",
      "\u001b[0;31mKeyError\u001b[0m: 1"
     ]
    }
   ],
   "source": [
    "if __name__ == '__main__':\n",
    "    with open('set_crawler5.txt', 'r') as f:\n",
    "        content = f.readlines()\n",
    "    # you may also want to remove whitespace characters like `\\n` at the end of each line\n",
    "        content = [x.strip() for x in content] \n",
    "    \n",
    "    for strs in content:\n",
    "        tweets_o = pd.read_csv(\"%s_cleaned_tweets.csv\" %strs)\n",
    "        length = len(tweets_o['id'])\n",
    "    \n",
    "        feature_columns = [\"re_people_id\",\"re_people_name\",\"re_people_fo_num\",\n",
    "                           \"re_people_friends_num\",\"re_id\",\"re_text\"]\n",
    "    \n",
    "        df_final = pd.DataFrame(columns=feature_columns)\n",
    "    \n",
    "        id_list =[]\n",
    "    \n",
    "        i = 0 \n",
    "        while i < 100:\n",
    "                id_list = tweets_o['id']\n",
    "            #limited_id_list = id_list[0: 50]\n",
    "     \n",
    "                response = twitter.get_retweets(id=id_list[i], count=100)\n",
    "                time.sleep(2)\n",
    "                len_r = len(response)\n",
    "            \n",
    "                if len_r == 0:\n",
    "                    print(\"this tweets didn't been retweeted.\")\n",
    "                    i=i+1\n",
    "                    continue\n",
    "\n",
    "                else:\n",
    "                    df1= get_re_info(response)\n",
    "                    result = df_final.append(df1)\n",
    "                    result.to_csv('%s_retweeted_details.csv' %strs,mode='a',header=False) \n",
    "                    print(\"this retweets have been appended.\")\n",
    "                    i=i+1\n",
    "                    print(i)\n",
    "        \n",
    "        print(\"%s has done!\" %strs)\n",
    "        time.sleep(150)\n",
    "           \n",
    "\n",
    "                \n",
    "    \n",
    "                \n",
    "                \n",
    "                \n",
    "    "
   ]
  },
  {
   "cell_type": "code",
   "execution_count": null,
   "metadata": {
    "collapsed": true
   },
   "outputs": [],
   "source": []
  },
  {
   "cell_type": "code",
   "execution_count": null,
   "metadata": {
    "collapsed": true
   },
   "outputs": [],
   "source": []
  },
  {
   "cell_type": "code",
   "execution_count": null,
   "metadata": {
    "collapsed": true
   },
   "outputs": [],
   "source": []
  },
  {
   "cell_type": "code",
   "execution_count": null,
   "metadata": {
    "collapsed": true
   },
   "outputs": [],
   "source": []
  },
  {
   "cell_type": "code",
   "execution_count": null,
   "metadata": {
    "collapsed": true
   },
   "outputs": [],
   "source": []
  },
  {
   "cell_type": "code",
   "execution_count": null,
   "metadata": {
    "collapsed": true
   },
   "outputs": [],
   "source": [
    "APP_KEY =  'cpUjD93yJqxAJhM4ubE6vJO4q'\n",
    "APP_SECRET = 'amdRJXn0G6mi4zaLonep2Vjq9sezr4CIHNROVNIsUQyJWtjQbk'\n",
    "\n",
    "twitter = Twython(APP_KEY, APP_SECRET)\n",
    "#5"
   ]
  },
  {
   "cell_type": "code",
   "execution_count": null,
   "metadata": {
    "collapsed": true
   },
   "outputs": [],
   "source": []
  },
  {
   "cell_type": "code",
   "execution_count": null,
   "metadata": {
    "collapsed": true
   },
   "outputs": [],
   "source": []
  },
  {
   "cell_type": "code",
   "execution_count": null,
   "metadata": {
    "collapsed": true
   },
   "outputs": [],
   "source": []
  },
  {
   "cell_type": "code",
   "execution_count": null,
   "metadata": {
    "collapsed": true
   },
   "outputs": [],
   "source": [
    "APP_KEY =  'Tf7rC6i7eSIfZFpuS8OoqmkDb'\n",
    "APP_SECRET = 'vp6lIJf5Wuq6j7MNPaQSyq5Jlu7oXRPL7d9pz0TkEGIiDSEjRL'\n",
    "\n",
    "twitter = Twython(APP_KEY, APP_SECRET)\n",
    "#9"
   ]
  },
  {
   "cell_type": "code",
   "execution_count": null,
   "metadata": {
    "collapsed": true
   },
   "outputs": [],
   "source": []
  },
  {
   "cell_type": "code",
   "execution_count": null,
   "metadata": {
    "collapsed": true
   },
   "outputs": [],
   "source": []
  },
  {
   "cell_type": "code",
   "execution_count": null,
   "metadata": {
    "collapsed": true
   },
   "outputs": [],
   "source": []
  },
  {
   "cell_type": "code",
   "execution_count": null,
   "metadata": {
    "collapsed": true
   },
   "outputs": [],
   "source": []
  },
  {
   "cell_type": "code",
   "execution_count": null,
   "metadata": {
    "collapsed": true
   },
   "outputs": [],
   "source": []
  },
  {
   "cell_type": "code",
   "execution_count": null,
   "metadata": {
    "collapsed": true
   },
   "outputs": [],
   "source": []
  },
  {
   "cell_type": "code",
   "execution_count": null,
   "metadata": {
    "collapsed": true
   },
   "outputs": [],
   "source": []
  }
 ],
 "metadata": {
  "kernelspec": {
   "display_name": "Python 3",
   "language": "python",
   "name": "python3"
  },
  "language_info": {
   "codemirror_mode": {
    "name": "ipython",
    "version": 3
   },
   "file_extension": ".py",
   "mimetype": "text/x-python",
   "name": "python",
   "nbconvert_exporter": "python",
   "pygments_lexer": "ipython3",
   "version": "3.6.3"
  }
 },
 "nbformat": 4,
 "nbformat_minor": 2
}
