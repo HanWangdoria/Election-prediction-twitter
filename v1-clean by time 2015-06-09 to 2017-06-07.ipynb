{
 "cells": [
  {
   "cell_type": "code",
   "execution_count": 385,
   "metadata": {
    "collapsed": true
   },
   "outputs": [],
   "source": [
    "# Here are the libraries I am using\n",
    "import pandas as pd \n",
    "import matplotlib.pyplot as plt\n",
    "import matplotlib as mpl\n",
    "import numpy as np\n",
    "from os import path\n",
    "import json\n",
    "import csv\n",
    "import twitter"
   ]
  },
  {
   "cell_type": "code",
   "execution_count": 386,
   "metadata": {},
   "outputs": [
    {
     "name": "stdout",
     "output_type": "stream",
     "text": [
      "                      id           created_at  \\\n",
      "0    1017301590846377984  2018-07-12 06:56:14   \n",
      "1    1016439406054559746  2018-07-09 21:50:13   \n",
      "2    1016381229669732352  2018-07-09 17:59:03   \n",
      "3    1014183473744052225  2018-07-03 16:25:57   \n",
      "4    1013897138491805696  2018-07-02 21:28:09   \n",
      "5    1012982604688252929  2018-06-30 08:54:07   \n",
      "6    1012082365563359233  2018-06-27 21:16:54   \n",
      "7    1011497321941659648  2018-06-26 06:32:08   \n",
      "8    1010944297447968773  2018-06-24 17:54:37   \n",
      "9    1009218295587799041  2018-06-19 23:36:06   \n",
      "10   1009218158761259009  2018-06-19 23:35:34   \n",
      "11   1009148490621116418  2018-06-19 18:58:43   \n",
      "12   1009124973204725760  2018-06-19 17:25:16   \n",
      "13   1008749542785904640  2018-06-18 16:33:27   \n",
      "14   1008360897381916672  2018-06-17 14:49:07   \n",
      "15   1008298482623549440  2018-06-17 10:41:06   \n",
      "16   1007946464486707200  2018-06-16 11:22:18   \n",
      "17   1002334838802845696  2018-05-31 23:43:42   \n",
      "18    997495369104797696  2018-05-18 15:13:23   \n",
      "19    997417763793768449  2018-05-18 10:05:00   \n",
      "20    992837129586855937  2018-05-05 18:43:12   \n",
      "21    992385544649920512  2018-05-04 12:48:46   \n",
      "22    991742981127507970  2018-05-02 18:15:27   \n",
      "23    991374093390962689  2018-05-01 17:49:37   \n",
      "24    991069044160782336  2018-04-30 21:37:27   \n",
      "25    991041603245690880  2018-04-30 19:48:25   \n",
      "26    989987597857509377  2018-04-27 22:00:11   \n",
      "27    989979039900295168  2018-04-27 21:26:10   \n",
      "28    989429591382118400  2018-04-26 09:02:51   \n",
      "29    988506019864117249  2018-04-23 19:52:55   \n",
      "..                   ...                  ...   \n",
      "716   103466124041125888  2011-08-16 14:00:20   \n",
      "717   101916699401531392  2011-08-12 07:23:29   \n",
      "718   101715577307009024  2011-08-11 18:04:18   \n",
      "719   101713887065419776  2011-08-11 17:57:35   \n",
      "720   101634283403350016  2011-08-11 12:41:16   \n",
      "721   101364506281771008  2011-08-10 18:49:16   \n",
      "722   101038756508860416  2011-08-09 21:14:51   \n",
      "723    99244557056741376  2011-08-04 22:25:20   \n",
      "724    99230683196702720  2011-08-04 21:30:13   \n",
      "725    99226135002492928  2011-08-04 21:12:08   \n",
      "726    96545496058961920  2011-07-28 11:40:14   \n",
      "727    96264949483044865  2011-07-27 17:05:27   \n",
      "728    96261917374554112  2011-07-27 16:53:24   \n",
      "729    96261298853122048  2011-07-27 16:50:56   \n",
      "730    95809187950493696  2011-07-26 10:54:25   \n",
      "731    95809034640293888  2011-07-26 10:53:48   \n",
      "732    95808947365224448  2011-07-26 10:53:27   \n",
      "733    95806263442669568  2011-07-26 10:42:47   \n",
      "734    95805787183652864  2011-07-26 10:40:54   \n",
      "735    95805606023270400  2011-07-26 10:40:11   \n",
      "736    95804681443475456  2011-07-26 10:36:30   \n",
      "737    95804392648880128  2011-07-26 10:35:21   \n",
      "738    95803776606285824  2011-07-26 10:32:54   \n",
      "739    95803424477687809  2011-07-26 10:31:31   \n",
      "740    95802958532456448  2011-07-26 10:29:39   \n",
      "741    95802084221394944  2011-07-26 10:26:11   \n",
      "742    95568704821133312  2011-07-25 18:58:49   \n",
      "743    95563341593972736  2011-07-25 18:37:30   \n",
      "744           2081750146  2009-06-08 21:52:28   \n",
      "745           1869489225  2009-05-21 09:50:07   \n",
      "\n",
      "                                                  text  len  \\\n",
      "0    b'RT @campbellclaret: \\xe2\\x80\\x98Too late\\xe2...  140   \n",
      "1    b'@NHSMillion @hjpotterphd Be careful what you...  140   \n",
      "2    b\"If you want to know how much Brexit has utte...  140   \n",
      "3    b'Fantastic initiative and response from Readi...  126   \n",
      "4    b'RT @guyverhofstadt: The UK government keep t...  140   \n",
      "5    b'RT @yorklibdems: \\xc2\\xa3100,000 to help Fro...   85   \n",
      "6    b'RT @mrjamesob: The madder everything gets, t...  134   \n",
      "7        b'@underthenettle Oh, Clegg \\xf0\\x9f\\x98\\xbe'   27   \n",
      "8    b'@girlonetrack \"so, how many years of hurt is...   49   \n",
      "9    b'@itsnarrative @underthenettle It just signif...   66   \n",
      "10   b'@underthenettle That Strength card is beauti...   71   \n",
      "11   b'@waitrose Queen Victoria Street, York. Date ...   74   \n",
      "12   b'@waitrose would you mind reminding the drive...  140   \n",
      "13   b\"@NickHurdUK Seriously, *you've* had a diffic...  140   \n",
      "14   b'Just a bit of fun, but also food for thought...   89   \n",
      "15   b\"@paulwrblanchard Cheers, yours ain't so bad ...   51   \n",
      "16   b'@GaryLineker Cricket has \"umpire\\'s call\" fo...   79   \n",
      "17                           b'@hqtriviauk Jaybee5000'   22   \n",
      "18   b\"@SarahLeeNotCake @dirktherabbit @andrew_lili...   91   \n",
      "19   b'@cityzapbus morning, what do tickets for my ...   68   \n",
      "20   b'17 year olds - make sure you take this up th...  140   \n",
      "21   b'Power vs. Principles - The Conservative edit...  137   \n",
      "22   b'That commitment to their local area really s...  105   \n",
      "23   b\"The Mail's frontpage today. Roger Roberts (t...  140   \n",
      "24   b\"Just listening to @BBCGidCoeShow show on @BB...  140   \n",
      "25   b\"Doubtless there still will be some clinging ...  140   \n",
      "26   b'Spot the @ShonenKnife fanboi at @FibbersYork...   68   \n",
      "27   b'The super @ShonenKnife telling the crowd abo...  137   \n",
      "28   b\"@ScornflakeGrrrl I always ask for feedback, ...  140   \n",
      "29   b'@allanmknox @ALDC You mean you want the Tory...   67   \n",
      "..                                                 ...  ...   \n",
      "716  b'Elvis, gone 34 years today but not forgotten...  138   \n",
      "717  b'RT @BBCr4today: \\xe2\\x80\\x9cI deeply regret ...  123   \n",
      "718  b\"Just drove home to the last of #testmatchspe...   90   \n",
      "719  b'RT @cathynewman: top police officer tells me...  140   \n",
      "720  b'Used break in planning meeting to visit @hud...  140   \n",
      "721  b\"Least. Balanced. Panel. Ever. @c4news, Camil...  138   \n",
      "722  b'RT @misswood: RT @PoliceEastLeeds Contrary t...  140   \n",
      "723  b'Would love a set of the cool phi-in-the-plac...  104   \n",
      "724  b'@AidanFlood Europcar only got a sponsor when...  133   \n",
      "725  b'Just signed the petition to retain the ban o...  101   \n",
      "726  b\"@jamesgraham maybe bowties are cool, maybe M...   53   \n",
      "727  b\"@1BarryGibson You don't have to be born here...   76   \n",
      "728       b'Avoid scrutiny! #lasttweet #needmorechars'   41   \n",
      "729  b'Lots of questions on schools at council meet...  140   \n",
      "730      b'#Yorkshirefilms The Witches of Giggleswick'   42   \n",
      "731         b'#Yorkshirefilms The Children of Menston'   39   \n",
      "732               b'#Yorkshirefilms Against All Odsal'   33   \n",
      "733                b'#Yorkshirefilms My Luddendenfoot'   32   \n",
      "734                 b'#Yorkshirefilms Richie Richmond'   31   \n",
      "735          b'#Yorkshirefilms North by Northallerton'   38   \n",
      "736                       b'#Yorkshirefilms Batley*21'   25   \n",
      "737       b'#Yorkshirefilms Honley, I shrank the Kids'   41   \n",
      "738               b'#Yorkshirefilms Ghosts of Marsden'   33   \n",
      "739        b'#Yorkshirefilms Down and Out in Beverley'   40   \n",
      "740      b'#Yorkshirefilms The Exorcism of Emley Moor'   42   \n",
      "741  b\"#Yorkshirefilms Robin Hood's Bay: Men in Tig...   47   \n",
      "742  b\"@MsNoetiCat well, I don't believe we've ever...  138   \n",
      "743  b'Learning how useful twitter is.  Promise to ...   87   \n",
      "744  b'Preparing for the Three Peaks Charity Challe...  120   \n",
      "745  b'I came out closest to Liberal Democrats on h...   78   \n",
      "\n",
      "                      source  fav_count  rt_count  \n",
      "0        Twitter for Android          0       922  \n",
      "1        Twitter for Android          0         0  \n",
      "2        Twitter for Android         16        11  \n",
      "3        Twitter for Android          1         0  \n",
      "4        Twitter for Android          0      5732  \n",
      "5        Twitter for Android          0         5  \n",
      "6        Twitter for Android          0       541  \n",
      "7        Twitter for Android          1         0  \n",
      "8        Twitter for Android          0         0  \n",
      "9        Twitter for Android          0         0  \n",
      "10       Twitter for Android          0         0  \n",
      "11       Twitter for Android          0         0  \n",
      "12       Twitter for Android          0         0  \n",
      "13       Twitter for Android          7         3  \n",
      "14       Twitter for Android          1         0  \n",
      "15       Twitter for Android          1         0  \n",
      "16       Twitter for Android          1         0  \n",
      "17       Twitter for Android          0         0  \n",
      "18       Twitter for Android          0         0  \n",
      "19       Twitter for Android          0         0  \n",
      "20        Twitter Web Client          0         0  \n",
      "21        Twitter Web Client          0         1  \n",
      "22              Twitter Lite          5         1  \n",
      "23       Twitter for Android          7         2  \n",
      "24       Twitter for Android          0         0  \n",
      "25       Twitter for Android          7         4  \n",
      "26       Twitter for Android          5         0  \n",
      "27       Twitter for Android         19         2  \n",
      "28       Twitter for Android          1         0  \n",
      "29       Twitter for Android          3         1  \n",
      "..                       ...        ...       ...  \n",
      "716       Twitter Web Client          0         0  \n",
      "717       Twitter Web Client          0        58  \n",
      "718       Twitter Web Client          0         0  \n",
      "719       Twitter Web Client          0       141  \n",
      "720       Twitter Web Client          0         0  \n",
      "721       Twitter Web Client          0         0  \n",
      "722       Twitter Web Client          0         1  \n",
      "723       Twitter Web Client          0         0  \n",
      "724       Twitter Web Client          0         0  \n",
      "725     Twitter for Websites          0         0  \n",
      "726  Twitter for BlackBerry®          0         0  \n",
      "727  Twitter for BlackBerry®          0         0  \n",
      "728              Cloudhopper          0         0  \n",
      "729              Cloudhopper          0         0  \n",
      "730       Twitter Web Client          0         0  \n",
      "731       Twitter Web Client          0         0  \n",
      "732       Twitter Web Client          0         0  \n",
      "733       Twitter Web Client          0         0  \n",
      "734       Twitter Web Client          0         0  \n",
      "735       Twitter Web Client          0         0  \n",
      "736       Twitter Web Client          0         0  \n",
      "737       Twitter Web Client          0         0  \n",
      "738       Twitter Web Client          0         0  \n",
      "739       Twitter Web Client          0         0  \n",
      "740       Twitter Web Client          0         0  \n",
      "741       Twitter Web Client          0         0  \n",
      "742  Twitter for BlackBerry®          0         0  \n",
      "743       Twitter Web Client          0         0  \n",
      "744       Twitter Web Client          0         0  \n",
      "745       Twitter Web Client          0         0  \n",
      "\n",
      "[746 rows x 7 columns]\n"
     ]
    }
   ],
   "source": [
    "#try with a csv\n",
    "df = pd.read_csv('jamesblanchard_tweets.csv')\n",
    "print(df)"
   ]
  },
  {
   "cell_type": "code",
   "execution_count": 394,
   "metadata": {},
   "outputs": [
    {
     "name": "stdout",
     "output_type": "stream",
     "text": [
      "746\n"
     ]
    }
   ],
   "source": [
    "from datetime import datetime\n",
    "from datetime import date\n",
    "\n",
    "\n",
    "dateList= df[\"created_at\"].tolist()\n",
    "#turn one column of dateframe into a list object\n",
    "#print(dateList)\n",
    "\n",
    "i = 0\n",
    "turn_dateList=[]\n",
    "while i < len(dateList):\n",
    "    d = datetime.strptime(dateList[i], \"%Y-%m-%d %H:%M:%S\")\n",
    "    #<class 'datetime.datetime'>\n",
    "    d_date=d.date()\n",
    "    #<class 'datetime.date'>\n",
    "    #date type convert for delata\n",
    "    turn_dateList.append(d_date)\n",
    "    i = i+1\n",
    "\n",
    "print(len(turn_dateList))\n"
   ]
  },
  {
   "cell_type": "code",
   "execution_count": 395,
   "metadata": {
    "collapsed": true
   },
   "outputs": [],
   "source": [
    "d0 = date(2015, 6, 8)\n",
    "d1 = date(2017, 6, 7)"
   ]
  },
  {
   "cell_type": "code",
   "execution_count": 396,
   "metadata": {},
   "outputs": [],
   "source": [
    "def isNowInTimePeriod(startTime, endTime, nowTime):\n",
    "    if startTime < endTime:\n",
    "        return nowTime >= startTime and nowTime <= endTime\n",
    "    else: #Over midnight\n",
    "        return nowTime >= startTime or nowTime <= endTime\n"
   ]
  },
  {
   "cell_type": "code",
   "execution_count": 397,
   "metadata": {},
   "outputs": [
    {
     "ename": "NameError",
     "evalue": "name 'timeNow' is not defined",
     "output_type": "error",
     "traceback": [
      "\u001b[0;31m---------------------------------------------------------------------------\u001b[0m",
      "\u001b[0;31mNameError\u001b[0m                                 Traceback (most recent call last)",
      "\u001b[0;32m<ipython-input-397-a75748972cbe>\u001b[0m in \u001b[0;36m<module>\u001b[0;34m()\u001b[0m\n\u001b[1;32m      3\u001b[0m \u001b[0mtimeStart\u001b[0m \u001b[0;34m=\u001b[0m \u001b[0;34m(\u001b[0m\u001b[0;34m\"2015-06-09 00:00:00\"\u001b[0m\u001b[0;34m)\u001b[0m\u001b[0;34m\u001b[0m\u001b[0m\n\u001b[1;32m      4\u001b[0m \u001b[0;34m\u001b[0m\u001b[0m\n\u001b[0;32m----> 5\u001b[0;31m \u001b[0mtimeNow\u001b[0m \u001b[0;34m=\u001b[0m \u001b[0mdatetime\u001b[0m\u001b[0;34m.\u001b[0m\u001b[0mstrptime\u001b[0m\u001b[0;34m(\u001b[0m\u001b[0mtimeNow\u001b[0m\u001b[0;34m,\u001b[0m \u001b[0;34m\"%Y-%m-%d %H:%M:%S\"\u001b[0m\u001b[0;34m)\u001b[0m\u001b[0;34m\u001b[0m\u001b[0m\n\u001b[0m",
      "\u001b[0;31mNameError\u001b[0m: name 'timeNow' is not defined"
     ]
    }
   ],
   "source": [
    "timeEnd = (\"2017-06-07 23:59:59\")\n",
    "#timeStart = datetime.strptime(timeStart, \"2015-06-09 00:00:00\")\n",
    "timeStart = (\"2015-06-09 00:00:00\")\n",
    "\n",
    "timeNow = datetime.strptime(timeNow, \"%Y-%m-%d %H:%M:%S\")"
   ]
  },
  {
   "cell_type": "code",
   "execution_count": 398,
   "metadata": {
    "collapsed": true
   },
   "outputs": [],
   "source": [
    "def time_in_range(start, end, x):\n",
    "    \"\"\"Return true if x is in the range [start, end]\"\"\"\n",
    "    if start <= end:\n",
    "        return start <= x <= end\n",
    "    else:\n",
    "        return start <= x or x <= end"
   ]
  },
  {
   "cell_type": "code",
   "execution_count": 399,
   "metadata": {},
   "outputs": [
    {
     "name": "stdout",
     "output_type": "stream",
     "text": [
      "<class 'datetime.date'>\n"
     ]
    }
   ],
   "source": [
    "d0 = date(2015, 6, 7)\n",
    "print(type(d0))"
   ]
  },
  {
   "cell_type": "code",
   "execution_count": 400,
   "metadata": {},
   "outputs": [],
   "source": [
    "i=0\n",
    "new_list=[]\n",
    "while i < len(turn_dateList):\n",
    "    d0 = date(2015, 6, 9)\n",
    "    d1 = date(2017, 6, 7)\n",
    "    if (turn_dateList[i] > d0) and (turn_dateList[i] < d1):\n",
    "            new_list.append(turn_dateList[i])\n",
    "    else: \n",
    "        turn_dateList.remove(turn_dateList[i])\n",
    "    \n",
    "    i=i+1\n",
    "    \n",
    "\n",
    "    \n",
    "        \n",
    "    \n"
   ]
  },
  {
   "cell_type": "code",
   "execution_count": null,
   "metadata": {},
   "outputs": [],
   "source": []
  },
  {
   "cell_type": "code",
   "execution_count": null,
   "metadata": {},
   "outputs": [],
   "source": []
  },
  {
   "cell_type": "code",
   "execution_count": 401,
   "metadata": {},
   "outputs": [
    {
     "name": "stdout",
     "output_type": "stream",
     "text": [
      "228\n"
     ]
    }
   ],
   "source": [
    "print(len(new_list))"
   ]
  },
  {
   "cell_type": "code",
   "execution_count": 402,
   "metadata": {},
   "outputs": [
    {
     "name": "stdout",
     "output_type": "stream",
     "text": [
      "[datetime.date(2017, 6, 6), datetime.date(2017, 6, 6), datetime.date(2017, 6, 6), datetime.date(2017, 6, 6), datetime.date(2017, 6, 6), datetime.date(2017, 6, 6), datetime.date(2017, 6, 6), datetime.date(2017, 6, 6), datetime.date(2017, 6, 6), datetime.date(2017, 6, 6), datetime.date(2017, 6, 6), datetime.date(2017, 6, 5), datetime.date(2017, 6, 5), datetime.date(2017, 6, 5), datetime.date(2017, 6, 5), datetime.date(2017, 6, 5), datetime.date(2017, 6, 5), datetime.date(2017, 6, 5), datetime.date(2017, 6, 5), datetime.date(2017, 6, 5), datetime.date(2017, 6, 5), datetime.date(2017, 6, 5), datetime.date(2017, 6, 5), datetime.date(2017, 6, 5), datetime.date(2017, 6, 5), datetime.date(2017, 6, 3), datetime.date(2017, 6, 3), datetime.date(2017, 6, 2), datetime.date(2017, 6, 2), datetime.date(2017, 6, 2), datetime.date(2017, 6, 2), datetime.date(2017, 6, 2), datetime.date(2017, 6, 2), datetime.date(2017, 6, 1), datetime.date(2017, 6, 1), datetime.date(2017, 6, 1), datetime.date(2017, 6, 1), datetime.date(2017, 5, 30), datetime.date(2017, 5, 30), datetime.date(2017, 5, 29), datetime.date(2017, 5, 29), datetime.date(2017, 5, 29), datetime.date(2017, 5, 29), datetime.date(2017, 5, 27), datetime.date(2017, 5, 27), datetime.date(2017, 5, 27), datetime.date(2017, 5, 27), datetime.date(2017, 5, 26), datetime.date(2017, 5, 26), datetime.date(2017, 5, 26), datetime.date(2017, 5, 26), datetime.date(2017, 5, 26), datetime.date(2017, 5, 26), datetime.date(2017, 5, 24), datetime.date(2017, 5, 21), datetime.date(2017, 5, 21), datetime.date(2017, 5, 21), datetime.date(2017, 5, 21), datetime.date(2017, 5, 21), datetime.date(2017, 5, 21), datetime.date(2017, 5, 20), datetime.date(2017, 5, 20), datetime.date(2017, 5, 20), datetime.date(2017, 5, 20), datetime.date(2017, 5, 19), datetime.date(2017, 5, 18), datetime.date(2017, 5, 17), datetime.date(2017, 5, 17), datetime.date(2017, 5, 17), datetime.date(2017, 5, 17), datetime.date(2017, 5, 17), datetime.date(2017, 5, 16), datetime.date(2017, 5, 16), datetime.date(2017, 5, 16), datetime.date(2017, 5, 15), datetime.date(2017, 5, 15), datetime.date(2017, 5, 13), datetime.date(2017, 5, 13), datetime.date(2017, 5, 12), datetime.date(2017, 5, 12), datetime.date(2017, 5, 12), datetime.date(2017, 5, 12), datetime.date(2017, 5, 10), datetime.date(2017, 5, 10), datetime.date(2017, 5, 10), datetime.date(2017, 5, 9), datetime.date(2017, 5, 8), datetime.date(2017, 5, 7), datetime.date(2017, 5, 7), datetime.date(2017, 5, 7), datetime.date(2017, 5, 6), datetime.date(2017, 5, 6), datetime.date(2017, 5, 2), datetime.date(2017, 5, 2), datetime.date(2017, 5, 2), datetime.date(2017, 4, 25), datetime.date(2017, 4, 23), datetime.date(2017, 4, 22), datetime.date(2017, 4, 22), datetime.date(2017, 4, 22), datetime.date(2017, 4, 21), datetime.date(2017, 4, 21), datetime.date(2017, 4, 18), datetime.date(2017, 4, 18), datetime.date(2017, 4, 18), datetime.date(2017, 4, 18), datetime.date(2017, 4, 18), datetime.date(2017, 4, 18), datetime.date(2017, 4, 18), datetime.date(2017, 4, 8), datetime.date(2017, 4, 1), datetime.date(2017, 3, 22), datetime.date(2017, 2, 23), datetime.date(2017, 2, 23), datetime.date(2017, 2, 23), datetime.date(2017, 2, 18), datetime.date(2017, 2, 18), datetime.date(2017, 1, 27), datetime.date(2016, 12, 24), datetime.date(2016, 12, 24), datetime.date(2016, 12, 18), datetime.date(2016, 12, 14), datetime.date(2016, 12, 13), datetime.date(2016, 12, 11), datetime.date(2016, 11, 30), datetime.date(2016, 8, 16), datetime.date(2016, 7, 22), datetime.date(2016, 7, 22), datetime.date(2016, 7, 10), datetime.date(2016, 7, 2), datetime.date(2016, 7, 2), datetime.date(2016, 6, 26), datetime.date(2016, 6, 10), datetime.date(2016, 5, 6), datetime.date(2016, 5, 6), datetime.date(2016, 5, 6), datetime.date(2016, 5, 6), datetime.date(2016, 5, 6), datetime.date(2016, 5, 6), datetime.date(2016, 5, 6), datetime.date(2016, 5, 6), datetime.date(2016, 5, 5), datetime.date(2016, 5, 5), datetime.date(2016, 5, 5), datetime.date(2016, 5, 5), datetime.date(2016, 5, 5), datetime.date(2016, 5, 5), datetime.date(2016, 5, 5), datetime.date(2016, 5, 5), datetime.date(2016, 5, 5), datetime.date(2016, 5, 5), datetime.date(2016, 5, 5), datetime.date(2016, 5, 4), datetime.date(2016, 5, 4), datetime.date(2016, 5, 4), datetime.date(2016, 5, 3), datetime.date(2016, 5, 2), datetime.date(2016, 5, 1), datetime.date(2016, 4, 28), datetime.date(2016, 4, 28), datetime.date(2016, 4, 28), datetime.date(2016, 4, 28), datetime.date(2016, 4, 28), datetime.date(2016, 4, 27), datetime.date(2016, 4, 27), datetime.date(2016, 4, 27), datetime.date(2016, 4, 27), datetime.date(2016, 4, 27), datetime.date(2016, 4, 27), datetime.date(2016, 4, 27), datetime.date(2016, 4, 27), datetime.date(2016, 4, 27), datetime.date(2016, 4, 27), datetime.date(2016, 4, 27), datetime.date(2016, 4, 27), datetime.date(2016, 4, 27), datetime.date(2016, 4, 27), datetime.date(2016, 4, 27), datetime.date(2016, 4, 27), datetime.date(2016, 4, 27), datetime.date(2016, 4, 27), datetime.date(2016, 4, 27), datetime.date(2016, 4, 27), datetime.date(2016, 4, 19), datetime.date(2016, 4, 18), datetime.date(2016, 4, 18), datetime.date(2016, 4, 18), datetime.date(2016, 4, 18), datetime.date(2016, 4, 18), datetime.date(2016, 4, 18), datetime.date(2016, 4, 18), datetime.date(2016, 4, 18), datetime.date(2016, 4, 18), datetime.date(2016, 4, 18), datetime.date(2016, 4, 18), datetime.date(2016, 4, 13), datetime.date(2016, 4, 13), datetime.date(2016, 4, 11), datetime.date(2016, 4, 9), datetime.date(2016, 4, 9), datetime.date(2016, 2, 17), datetime.date(2016, 1, 16), datetime.date(2015, 12, 27), datetime.date(2015, 12, 27), datetime.date(2015, 12, 8), datetime.date(2015, 12, 8), datetime.date(2015, 11, 29), datetime.date(2015, 11, 29), datetime.date(2015, 11, 20), datetime.date(2015, 11, 4), datetime.date(2015, 11, 4), datetime.date(2015, 11, 4), datetime.date(2015, 10, 17), datetime.date(2015, 10, 16), datetime.date(2015, 10, 14), datetime.date(2015, 10, 13), datetime.date(2015, 10, 7), datetime.date(2015, 10, 6), datetime.date(2015, 10, 6), datetime.date(2015, 9, 23), datetime.date(2015, 9, 23), datetime.date(2015, 9, 23), datetime.date(2015, 8, 21), datetime.date(2015, 8, 21), datetime.date(2015, 7, 22), datetime.date(2015, 7, 22), datetime.date(2015, 7, 22), datetime.date(2015, 7, 1)]\n"
     ]
    }
   ],
   "source": [
    "print(new_list)"
   ]
  },
  {
   "cell_type": "code",
   "execution_count": 403,
   "metadata": {},
   "outputs": [
    {
     "name": "stdout",
     "output_type": "stream",
     "text": [
      "2017-06-06\n"
     ]
    }
   ],
   "source": [
    "print(new_list[0])"
   ]
  },
  {
   "cell_type": "code",
   "execution_count": 404,
   "metadata": {},
   "outputs": [
    {
     "ename": "KeyError",
     "evalue": "'None of [0      2018-07-12 06:56:14\\n1      2018-07-09 21:50:13\\n2      2018-07-09 17:59:03\\n3      2018-07-03 16:25:57\\n4      2018-07-02 21:28:09\\n5      2018-06-30 08:54:07\\n6      2018-06-27 21:16:54\\n7      2018-06-26 06:32:08\\n8      2018-06-24 17:54:37\\n9      2018-06-19 23:36:06\\n10     2018-06-19 23:35:34\\n11     2018-06-19 18:58:43\\n12     2018-06-19 17:25:16\\n13     2018-06-18 16:33:27\\n14     2018-06-17 14:49:07\\n15     2018-06-17 10:41:06\\n16     2018-06-16 11:22:18\\n17     2018-05-31 23:43:42\\n18     2018-05-18 15:13:23\\n19     2018-05-18 10:05:00\\n20     2018-05-05 18:43:12\\n21     2018-05-04 12:48:46\\n22     2018-05-02 18:15:27\\n23     2018-05-01 17:49:37\\n24     2018-04-30 21:37:27\\n25     2018-04-30 19:48:25\\n26     2018-04-27 22:00:11\\n27     2018-04-27 21:26:10\\n28     2018-04-26 09:02:51\\n29     2018-04-23 19:52:55\\n              ...         \\n716    2011-08-16 14:00:20\\n717    2011-08-12 07:23:29\\n718    2011-08-11 18:04:18\\n719    2011-08-11 17:57:35\\n720    2011-08-11 12:41:16\\n721    2011-08-10 18:49:16\\n722    2011-08-09 21:14:51\\n723    2011-08-04 22:25:20\\n724    2011-08-04 21:30:13\\n725    2011-08-04 21:12:08\\n726    2011-07-28 11:40:14\\n727    2011-07-27 17:05:27\\n728    2011-07-27 16:53:24\\n729    2011-07-27 16:50:56\\n730    2011-07-26 10:54:25\\n731    2011-07-26 10:53:48\\n732    2011-07-26 10:53:27\\n733    2011-07-26 10:42:47\\n734    2011-07-26 10:40:54\\n735    2011-07-26 10:40:11\\n736    2011-07-26 10:36:30\\n737    2011-07-26 10:35:21\\n738    2011-07-26 10:32:54\\n739    2011-07-26 10:31:31\\n740    2011-07-26 10:29:39\\n741    2011-07-26 10:26:11\\n742    2011-07-25 18:58:49\\n743    2011-07-25 18:37:30\\n744    2009-06-08 21:52:28\\n745    2009-05-21 09:50:07\\nName: created_at, Length: 746, dtype: object] are in the [index]'",
     "output_type": "error",
     "traceback": [
      "\u001b[0;31m---------------------------------------------------------------------------\u001b[0m",
      "\u001b[0;31mKeyError\u001b[0m                                  Traceback (most recent call last)",
      "\u001b[0;32m<ipython-input-404-544c29fcd1c5>\u001b[0m in \u001b[0;36m<module>\u001b[0;34m()\u001b[0m\n\u001b[1;32m      1\u001b[0m \u001b[0;31m#df.loc[df['column_name'].isin(some_values)]\u001b[0m\u001b[0;34m\u001b[0m\u001b[0;34m\u001b[0m\u001b[0m\n\u001b[1;32m      2\u001b[0m \u001b[0;34m\u001b[0m\u001b[0m\n\u001b[0;32m----> 3\u001b[0;31m \u001b[0mprint\u001b[0m\u001b[0;34m(\u001b[0m\u001b[0mtype\u001b[0m\u001b[0;34m(\u001b[0m\u001b[0mdf\u001b[0m\u001b[0;34m.\u001b[0m\u001b[0mloc\u001b[0m\u001b[0;34m[\u001b[0m\u001b[0mdf\u001b[0m\u001b[0;34m[\u001b[0m\u001b[0;34m'created_at'\u001b[0m\u001b[0;34m]\u001b[0m\u001b[0;34m]\u001b[0m\u001b[0;34m)\u001b[0m\u001b[0;34m)\u001b[0m\u001b[0;34m\u001b[0m\u001b[0m\n\u001b[0m",
      "\u001b[0;32m~/anaconda3/lib/python3.6/site-packages/pandas/core/indexing.py\u001b[0m in \u001b[0;36m__getitem__\u001b[0;34m(self, key)\u001b[0m\n\u001b[1;32m   1326\u001b[0m         \u001b[0;32melse\u001b[0m\u001b[0;34m:\u001b[0m\u001b[0;34m\u001b[0m\u001b[0m\n\u001b[1;32m   1327\u001b[0m             \u001b[0mkey\u001b[0m \u001b[0;34m=\u001b[0m \u001b[0mcom\u001b[0m\u001b[0;34m.\u001b[0m\u001b[0m_apply_if_callable\u001b[0m\u001b[0;34m(\u001b[0m\u001b[0mkey\u001b[0m\u001b[0;34m,\u001b[0m \u001b[0mself\u001b[0m\u001b[0;34m.\u001b[0m\u001b[0mobj\u001b[0m\u001b[0;34m)\u001b[0m\u001b[0;34m\u001b[0m\u001b[0m\n\u001b[0;32m-> 1328\u001b[0;31m             \u001b[0;32mreturn\u001b[0m \u001b[0mself\u001b[0m\u001b[0;34m.\u001b[0m\u001b[0m_getitem_axis\u001b[0m\u001b[0;34m(\u001b[0m\u001b[0mkey\u001b[0m\u001b[0;34m,\u001b[0m \u001b[0maxis\u001b[0m\u001b[0;34m=\u001b[0m\u001b[0;36m0\u001b[0m\u001b[0;34m)\u001b[0m\u001b[0;34m\u001b[0m\u001b[0m\n\u001b[0m\u001b[1;32m   1329\u001b[0m \u001b[0;34m\u001b[0m\u001b[0m\n\u001b[1;32m   1330\u001b[0m     \u001b[0;32mdef\u001b[0m \u001b[0m_is_scalar_access\u001b[0m\u001b[0;34m(\u001b[0m\u001b[0mself\u001b[0m\u001b[0;34m,\u001b[0m \u001b[0mkey\u001b[0m\u001b[0;34m)\u001b[0m\u001b[0;34m:\u001b[0m\u001b[0;34m\u001b[0m\u001b[0m\n",
      "\u001b[0;32m~/anaconda3/lib/python3.6/site-packages/pandas/core/indexing.py\u001b[0m in \u001b[0;36m_getitem_axis\u001b[0;34m(self, key, axis)\u001b[0m\n\u001b[1;32m   1539\u001b[0m                     \u001b[0;32mraise\u001b[0m \u001b[0mValueError\u001b[0m\u001b[0;34m(\u001b[0m\u001b[0;34m'Cannot index with multidimensional key'\u001b[0m\u001b[0;34m)\u001b[0m\u001b[0;34m\u001b[0m\u001b[0m\n\u001b[1;32m   1540\u001b[0m \u001b[0;34m\u001b[0m\u001b[0m\n\u001b[0;32m-> 1541\u001b[0;31m                 \u001b[0;32mreturn\u001b[0m \u001b[0mself\u001b[0m\u001b[0;34m.\u001b[0m\u001b[0m_getitem_iterable\u001b[0m\u001b[0;34m(\u001b[0m\u001b[0mkey\u001b[0m\u001b[0;34m,\u001b[0m \u001b[0maxis\u001b[0m\u001b[0;34m=\u001b[0m\u001b[0maxis\u001b[0m\u001b[0;34m)\u001b[0m\u001b[0;34m\u001b[0m\u001b[0m\n\u001b[0m\u001b[1;32m   1542\u001b[0m \u001b[0;34m\u001b[0m\u001b[0m\n\u001b[1;32m   1543\u001b[0m             \u001b[0;31m# nested tuple slicing\u001b[0m\u001b[0;34m\u001b[0m\u001b[0;34m\u001b[0m\u001b[0m\n",
      "\u001b[0;32m~/anaconda3/lib/python3.6/site-packages/pandas/core/indexing.py\u001b[0m in \u001b[0;36m_getitem_iterable\u001b[0;34m(self, key, axis)\u001b[0m\n\u001b[1;32m   1079\u001b[0m     \u001b[0;32mdef\u001b[0m \u001b[0m_getitem_iterable\u001b[0m\u001b[0;34m(\u001b[0m\u001b[0mself\u001b[0m\u001b[0;34m,\u001b[0m \u001b[0mkey\u001b[0m\u001b[0;34m,\u001b[0m \u001b[0maxis\u001b[0m\u001b[0;34m=\u001b[0m\u001b[0;36m0\u001b[0m\u001b[0;34m)\u001b[0m\u001b[0;34m:\u001b[0m\u001b[0;34m\u001b[0m\u001b[0m\n\u001b[1;32m   1080\u001b[0m         \u001b[0;32mif\u001b[0m \u001b[0mself\u001b[0m\u001b[0;34m.\u001b[0m\u001b[0m_should_validate_iterable\u001b[0m\u001b[0;34m(\u001b[0m\u001b[0maxis\u001b[0m\u001b[0;34m)\u001b[0m\u001b[0;34m:\u001b[0m\u001b[0;34m\u001b[0m\u001b[0m\n\u001b[0;32m-> 1081\u001b[0;31m             \u001b[0mself\u001b[0m\u001b[0;34m.\u001b[0m\u001b[0m_has_valid_type\u001b[0m\u001b[0;34m(\u001b[0m\u001b[0mkey\u001b[0m\u001b[0;34m,\u001b[0m \u001b[0maxis\u001b[0m\u001b[0;34m)\u001b[0m\u001b[0;34m\u001b[0m\u001b[0m\n\u001b[0m\u001b[1;32m   1082\u001b[0m \u001b[0;34m\u001b[0m\u001b[0m\n\u001b[1;32m   1083\u001b[0m         \u001b[0mlabels\u001b[0m \u001b[0;34m=\u001b[0m \u001b[0mself\u001b[0m\u001b[0;34m.\u001b[0m\u001b[0mobj\u001b[0m\u001b[0;34m.\u001b[0m\u001b[0m_get_axis\u001b[0m\u001b[0;34m(\u001b[0m\u001b[0maxis\u001b[0m\u001b[0;34m)\u001b[0m\u001b[0;34m\u001b[0m\u001b[0m\n",
      "\u001b[0;32m~/anaconda3/lib/python3.6/site-packages/pandas/core/indexing.py\u001b[0m in \u001b[0;36m_has_valid_type\u001b[0;34m(self, key, axis)\u001b[0m\n\u001b[1;32m   1416\u001b[0m \u001b[0;34m\u001b[0m\u001b[0m\n\u001b[1;32m   1417\u001b[0m                 raise KeyError(\"None of [%s] are in the [%s]\" %\n\u001b[0;32m-> 1418\u001b[0;31m                                (key, self.obj._get_axis_name(axis)))\n\u001b[0m\u001b[1;32m   1419\u001b[0m \u001b[0;34m\u001b[0m\u001b[0m\n\u001b[1;32m   1420\u001b[0m             \u001b[0;32mreturn\u001b[0m \u001b[0;32mTrue\u001b[0m\u001b[0;34m\u001b[0m\u001b[0m\n",
      "\u001b[0;31mKeyError\u001b[0m: 'None of [0      2018-07-12 06:56:14\\n1      2018-07-09 21:50:13\\n2      2018-07-09 17:59:03\\n3      2018-07-03 16:25:57\\n4      2018-07-02 21:28:09\\n5      2018-06-30 08:54:07\\n6      2018-06-27 21:16:54\\n7      2018-06-26 06:32:08\\n8      2018-06-24 17:54:37\\n9      2018-06-19 23:36:06\\n10     2018-06-19 23:35:34\\n11     2018-06-19 18:58:43\\n12     2018-06-19 17:25:16\\n13     2018-06-18 16:33:27\\n14     2018-06-17 14:49:07\\n15     2018-06-17 10:41:06\\n16     2018-06-16 11:22:18\\n17     2018-05-31 23:43:42\\n18     2018-05-18 15:13:23\\n19     2018-05-18 10:05:00\\n20     2018-05-05 18:43:12\\n21     2018-05-04 12:48:46\\n22     2018-05-02 18:15:27\\n23     2018-05-01 17:49:37\\n24     2018-04-30 21:37:27\\n25     2018-04-30 19:48:25\\n26     2018-04-27 22:00:11\\n27     2018-04-27 21:26:10\\n28     2018-04-26 09:02:51\\n29     2018-04-23 19:52:55\\n              ...         \\n716    2011-08-16 14:00:20\\n717    2011-08-12 07:23:29\\n718    2011-08-11 18:04:18\\n719    2011-08-11 17:57:35\\n720    2011-08-11 12:41:16\\n721    2011-08-10 18:49:16\\n722    2011-08-09 21:14:51\\n723    2011-08-04 22:25:20\\n724    2011-08-04 21:30:13\\n725    2011-08-04 21:12:08\\n726    2011-07-28 11:40:14\\n727    2011-07-27 17:05:27\\n728    2011-07-27 16:53:24\\n729    2011-07-27 16:50:56\\n730    2011-07-26 10:54:25\\n731    2011-07-26 10:53:48\\n732    2011-07-26 10:53:27\\n733    2011-07-26 10:42:47\\n734    2011-07-26 10:40:54\\n735    2011-07-26 10:40:11\\n736    2011-07-26 10:36:30\\n737    2011-07-26 10:35:21\\n738    2011-07-26 10:32:54\\n739    2011-07-26 10:31:31\\n740    2011-07-26 10:29:39\\n741    2011-07-26 10:26:11\\n742    2011-07-25 18:58:49\\n743    2011-07-25 18:37:30\\n744    2009-06-08 21:52:28\\n745    2009-05-21 09:50:07\\nName: created_at, Length: 746, dtype: object] are in the [index]'"
     ]
    }
   ],
   "source": [
    "#df.loc[df['column_name'].isin(some_values)]\n",
    "\n",
    "#print(type(df.loc[df['created_at']]))"
   ]
  },
  {
   "cell_type": "code",
   "execution_count": null,
   "metadata": {
    "collapsed": true
   },
   "outputs": [],
   "source": []
  },
  {
   "cell_type": "code",
   "execution_count": null,
   "metadata": {
    "collapsed": true
   },
   "outputs": [],
   "source": []
  }
 ],
 "metadata": {
  "kernelspec": {
   "display_name": "Python 3",
   "language": "python",
   "name": "python3"
  },
  "language_info": {
   "codemirror_mode": {
    "name": "ipython",
    "version": 3
   },
   "file_extension": ".py",
   "mimetype": "text/x-python",
   "name": "python",
   "nbconvert_exporter": "python",
   "pygments_lexer": "ipython3",
   "version": "3.6.3"
  }
 },
 "nbformat": 4,
 "nbformat_minor": 2
}
