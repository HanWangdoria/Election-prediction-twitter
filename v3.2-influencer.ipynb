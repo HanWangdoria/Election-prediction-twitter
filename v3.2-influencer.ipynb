{
 "cells": [
  {
   "cell_type": "code",
   "execution_count": 201,
   "metadata": {
    "collapsed": true
   },
   "outputs": [],
   "source": [
    "import pandas as pd\n",
    "import numpy as np\n",
    "import tweepy\n",
    "import requests\n",
    "import re\n",
    "import time\n",
    "from tweepy import OAuthHandler\n",
    "from twython import Twython, TwythonError"
   ]
  },
  {
   "cell_type": "code",
   "execution_count": 202,
   "metadata": {
    "collapsed": true
   },
   "outputs": [],
   "source": [
    "APP_KEY = 'uBLfQkRIFDpEp2P1apLvidqbl'\n",
    "APP_SECRET = 'vtTvcPhegI5xdexVDQk4tpvcwTskSfaPxXFl8DienAHAUJ7lTS'\n",
    "\n",
    "twitter = Twython(APP_KEY, APP_SECRET)\n",
    "#"
   ]
  },
  {
   "cell_type": "code",
   "execution_count": null,
   "metadata": {
    "collapsed": true
   },
   "outputs": [],
   "source": []
  },
  {
   "cell_type": "code",
   "execution_count": null,
   "metadata": {
    "collapsed": true
   },
   "outputs": [],
   "source": []
  },
  {
   "cell_type": "code",
   "execution_count": null,
   "metadata": {
    "collapsed": true
   },
   "outputs": [],
   "source": []
  },
  {
   "cell_type": "code",
   "execution_count": 203,
   "metadata": {
    "collapsed": true
   },
   "outputs": [],
   "source": [
    "def get_re_info (response): \n",
    "    len_r = len(response)\n",
    "    j=0\n",
    "    while j < len_r:\n",
    "         # retweets_id\n",
    "        re_id = response[j].get(\"id\")\n",
    "        \n",
    "         # original tweets owner\n",
    "        #tweet_owner_screen_name = response[j].get(\"entities\").get(\"user_mentions\")[0].get(\"screen_name\")\n",
    "        \n",
    "         # retweeted_people_id\n",
    "        re_people_id = response[j].get(\"user\").get(\"id\")\n",
    "                    \n",
    "         # retweeted_people_screen_name\n",
    "        re_people_name = response[j].get(\"user\").get(\"screen_name\")\n",
    "            \n",
    "        # retweeted_people_followers\n",
    "        re_people_fo_num = response[j].get(\"user\").get(\"followers_count\")\n",
    "            \n",
    "        #retweeted_people_friends\n",
    "        re_people_friends_num = response[j].get(\"user\").get(\"friends_count\")\n",
    "            \n",
    "        #retweeted_content\n",
    "        re_text = response[j].get(\"text\").encode('unicode_escape') #unicode escape to fix emoji issue\n",
    "                    \n",
    "            \n",
    "        df1= pd.DataFrame({ \"re_people_id\": [re_people_id],\n",
    "                            \"re_people_name\": [re_people_name],\n",
    "                            \"re_people_fo_num\" : [re_people_fo_num],\n",
    "                            \"re_people_friends_num\" : [re_people_friends_num],\n",
    "                            \"re_id\" : [re_id],\n",
    "                            \"re_text\" : [re_text],\n",
    "                        })\n",
    "        \n",
    "        print(len(df1))\n",
    "        \n",
    "        j=j+1\n",
    "        return df1\n",
    "    \n",
    "\n",
    "\n",
    "\n",
    "    "
   ]
  },
  {
   "cell_type": "code",
   "execution_count": null,
   "metadata": {
    "collapsed": true
   },
   "outputs": [],
   "source": [
    "from twython.exceptions import TwythonRateLimitError, TwythonError\n",
    "from twython import Twython, TwythonStreamer"
   ]
  },
  {
   "cell_type": "code",
   "execution_count": null,
   "metadata": {},
   "outputs": [
    {
     "name": "stdout",
     "output_type": "stream",
     "text": [
      "this tweets didn't been retweeted.\n",
      "this tweets didn't been retweeted.\n",
      "1\n",
      "this retweets have been appended.\n",
      "3\n",
      "this tweets didn't been retweeted.\n",
      "this tweets didn't been retweeted.\n",
      "this tweets didn't been retweeted.\n",
      "this tweets didn't been retweeted.\n",
      "this tweets didn't been retweeted.\n",
      "this tweets didn't been retweeted.\n",
      "this tweets didn't been retweeted.\n",
      "1\n",
      "this retweets have been appended.\n",
      "11\n",
      "this tweets didn't been retweeted.\n",
      "this tweets didn't been retweeted.\n",
      "this tweets didn't been retweeted.\n",
      "1\n",
      "this retweets have been appended.\n",
      "15\n",
      "this tweets didn't been retweeted.\n",
      "this tweets didn't been retweeted.\n",
      "1\n",
      "this retweets have been appended.\n",
      "18\n",
      "this tweets didn't been retweeted.\n",
      "this tweets didn't been retweeted.\n",
      "this tweets didn't been retweeted.\n"
     ]
    }
   ],
   "source": [
    "if __name__ == '__main__':\n",
    "    with open('set_crawler2.txt', 'r') as f:\n",
    "        content = f.readlines()\n",
    "    # you may also want to remove whitespace characters like `\\n` at the end of each line\n",
    "        content = [x.strip() for x in content] \n",
    "    \n",
    "    for strs in content:\n",
    "        tweets_o = pd.read_csv(\"%s_cleaned_tweets.csv\" %strs)\n",
    "        length = len(tweets_o['id'])\n",
    "    \n",
    "        feature_columns = [\"re_people_id\",\"re_people_name\",\"re_people_fo_num\",\n",
    "                           \"re_people_friends_num\",\"re_id\",\"re_text\"]\n",
    "    \n",
    "        df_final = pd.DataFrame(columns=feature_columns)\n",
    "    \n",
    "        id_list =[]\n",
    "    \n",
    "        i = 0 \n",
    "        while i < 100:\n",
    "                id_list = tweets_o['id']\n",
    "            #limited_id_list = id_list[0: 50]\n",
    "     \n",
    "                response = twitter.get_retweets(id=id_list[i], count=100)\n",
    "                time.sleep(2)\n",
    "                len_r = len(response)\n",
    "            \n",
    "                if len_r == 0:\n",
    "                    print(\"this tweets didn't been retweeted.\")\n",
    "                    i=i+1\n",
    "                    continue\n",
    "\n",
    "                else:\n",
    "                    df1= get_re_info(response)\n",
    "                    result = df_final.append(df1)\n",
    "                    result.to_csv('%s_retweeted_details.csv' %strs,mode='a',header=False) \n",
    "                    print(\"this retweets have been appended.\")\n",
    "                    i=i+1\n",
    "                    print(i)\n",
    "        \n",
    "        print(\"%s has done!\" %strs)\n",
    "        time.sleep(150)\n",
    "           \n",
    "\n",
    "                \n",
    "    \n",
    "                \n",
    "                \n",
    "                \n",
    "    "
   ]
  },
  {
   "cell_type": "code",
   "execution_count": null,
   "metadata": {
    "collapsed": true
   },
   "outputs": [],
   "source": []
  },
  {
   "cell_type": "code",
   "execution_count": null,
   "metadata": {
    "collapsed": true
   },
   "outputs": [],
   "source": []
  },
  {
   "cell_type": "code",
   "execution_count": null,
   "metadata": {
    "collapsed": true
   },
   "outputs": [],
   "source": []
  },
  {
   "cell_type": "code",
   "execution_count": null,
   "metadata": {
    "collapsed": true
   },
   "outputs": [],
   "source": [
    "APP_KEY = 'uBLfQkRIFDpEp2P1apLvidqbl'\n",
    "APP_SECRET = 'vtTvcPhegI5xdexVDQk4tpvcwTskSfaPxXFl8DienAHAUJ7lTS'\n",
    "\n",
    "twitter = Twython(APP_KEY, APP_SECRET)\n",
    "#"
   ]
  },
  {
   "cell_type": "code",
   "execution_count": null,
   "metadata": {
    "collapsed": true
   },
   "outputs": [],
   "source": []
  },
  {
   "cell_type": "code",
   "execution_count": null,
   "metadata": {
    "collapsed": true
   },
   "outputs": [],
   "source": []
  },
  {
   "cell_type": "code",
   "execution_count": null,
   "metadata": {
    "collapsed": true
   },
   "outputs": [],
   "source": [
    "APP_KEY =  'T6tZZLAVYWL2J6hQnZre1dXfp'\n",
    "APP_SECRET = 'mCKjRy88G9k9py9fcmUDrxU6k9BjykWQRzT6Qh4VPBBdssGqiZ'\n",
    "\n",
    "twitter = Twython(APP_KEY, APP_SECRET)\n",
    "#6"
   ]
  },
  {
   "cell_type": "code",
   "execution_count": null,
   "metadata": {
    "collapsed": true
   },
   "outputs": [],
   "source": []
  },
  {
   "cell_type": "code",
   "execution_count": null,
   "metadata": {
    "collapsed": true
   },
   "outputs": [],
   "source": []
  },
  {
   "cell_type": "code",
   "execution_count": null,
   "metadata": {
    "collapsed": true
   },
   "outputs": [],
   "source": []
  },
  {
   "cell_type": "code",
   "execution_count": null,
   "metadata": {
    "collapsed": true
   },
   "outputs": [],
   "source": []
  },
  {
   "cell_type": "code",
   "execution_count": null,
   "metadata": {
    "collapsed": true
   },
   "outputs": [],
   "source": []
  },
  {
   "cell_type": "code",
   "execution_count": null,
   "metadata": {
    "collapsed": true
   },
   "outputs": [],
   "source": []
  },
  {
   "cell_type": "code",
   "execution_count": null,
   "metadata": {
    "collapsed": true
   },
   "outputs": [],
   "source": []
  },
  {
   "cell_type": "code",
   "execution_count": null,
   "metadata": {
    "collapsed": true
   },
   "outputs": [],
   "source": []
  },
  {
   "cell_type": "code",
   "execution_count": null,
   "metadata": {
    "collapsed": true
   },
   "outputs": [],
   "source": []
  },
  {
   "cell_type": "code",
   "execution_count": null,
   "metadata": {
    "collapsed": true
   },
   "outputs": [],
   "source": []
  }
 ],
 "metadata": {
  "kernelspec": {
   "display_name": "Python 3",
   "language": "python",
   "name": "python3"
  },
  "language_info": {
   "codemirror_mode": {
    "name": "ipython",
    "version": 3
   },
   "file_extension": ".py",
   "mimetype": "text/x-python",
   "name": "python",
   "nbconvert_exporter": "python",
   "pygments_lexer": "ipython3",
   "version": "3.6.3"
  }
 },
 "nbformat": 4,
 "nbformat_minor": 2
}
