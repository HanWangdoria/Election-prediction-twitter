{
 "cells": [
  {
   "cell_type": "code",
   "execution_count": 344,
   "metadata": {
    "collapsed": true
   },
   "outputs": [],
   "source": [
    "import pandas as pd\n",
    "import numpy as np\n",
    "import tweepy\n",
    "import requests\n",
    "import re\n",
    "import time\n",
    "from tweepy import OAuthHandler\n",
    "from twython import Twython, TwythonError"
   ]
  },
  {
   "cell_type": "code",
   "execution_count": 345,
   "metadata": {
    "collapsed": true
   },
   "outputs": [],
   "source": [
    "APP_KEY = 'dVSgiSlSsh9ZJXOkaOV4n57k6'\n",
    "APP_SECRET = 'HL537ukFl6oWplss9VxSZmwwIbDBWbzcpF14IPy9UtR6tHessm'\n",
    "\n",
    "twitter = Twython(APP_KEY, APP_SECRET)\n",
    "#1"
   ]
  },
  {
   "cell_type": "code",
   "execution_count": 346,
   "metadata": {
    "collapsed": true
   },
   "outputs": [],
   "source": [
    "from twython import Twython, TwythonError"
   ]
  },
  {
   "cell_type": "code",
   "execution_count": null,
   "metadata": {
    "collapsed": true
   },
   "outputs": [],
   "source": []
  },
  {
   "cell_type": "code",
   "execution_count": 347,
   "metadata": {
    "collapsed": true
   },
   "outputs": [],
   "source": [
    "#tweets_o = pd.read_csv('RachaelMaskell_cleaned_tweets.csv')\n",
    "\n",
    "#tweets_o['id'][0]\n",
    "#print(len(t['id']))"
   ]
  },
  {
   "cell_type": "code",
   "execution_count": 348,
   "metadata": {
    "collapsed": true
   },
   "outputs": [],
   "source": [
    "def get_re_info (response): \n",
    "    len_r = len(response)\n",
    "    j=0\n",
    "    while j < len_r:\n",
    "         # retweets_id\n",
    "        re_id = response[j].get(\"id\")\n",
    "        \n",
    "         # original tweets owner\n",
    "        #tweet_owner_screen_name = response[j].get(\"entities\").get(\"user_mentions\")[0].get(\"screen_name\")\n",
    "        \n",
    "         # retweeted_people_id\n",
    "        re_people_id = response[j].get(\"user\").get(\"id\")\n",
    "                    \n",
    "         # retweeted_people_screen_name\n",
    "        re_people_name = response[j].get(\"user\").get(\"screen_name\")\n",
    "            \n",
    "        # retweeted_people_followers\n",
    "        re_people_fo_num = response[j].get(\"user\").get(\"followers_count\")\n",
    "            \n",
    "        #retweeted_people_friends\n",
    "        re_people_friends_num = response[j].get(\"user\").get(\"friends_count\")\n",
    "            \n",
    "        #retweeted_content\n",
    "        re_text = response[j].get(\"text\").encode('unicode_escape') #unicode escape to fix emoji issue\n",
    "                    \n",
    "            \n",
    "        df1= pd.DataFrame({ \"re_people_id\": [re_people_id],\n",
    "                            \"re_people_name\": [re_people_name],\n",
    "                            \"re_people_fo_num\" : [re_people_fo_num],\n",
    "                            \"re_people_friends_num\" : [re_people_friends_num],\n",
    "                            \"re_id\" : [re_id],\n",
    "                            \"re_text\" : [re_text],\n",
    "                        })\n",
    "        \n",
    "        print(len(df1))\n",
    "        \n",
    "        j=j+1\n",
    "        return df1\n",
    "    \n",
    "\n",
    "\n",
    "\n",
    "    "
   ]
  },
  {
   "cell_type": "code",
   "execution_count": 349,
   "metadata": {
    "collapsed": true
   },
   "outputs": [],
   "source": [
    "from twython.exceptions import TwythonRateLimitError, TwythonError\n",
    "from twython import Twython, TwythonStreamer"
   ]
  },
  {
   "cell_type": "code",
   "execution_count": 350,
   "metadata": {},
   "outputs": [
    {
     "name": "stdout",
     "output_type": "stream",
     "text": [
      "this tweets didn't been retweeted.\n",
      "this tweets didn't been retweeted.\n",
      "this tweets didn't been retweeted.\n",
      "1\n",
      "this retweets have been appended.\n",
      "4\n",
      "1\n",
      "this retweets have been appended.\n",
      "5\n",
      "1\n",
      "this retweets have been appended.\n",
      "6\n",
      "1\n",
      "this retweets have been appended.\n",
      "7\n",
      "1\n",
      "this retweets have been appended.\n",
      "8\n",
      "1\n",
      "this retweets have been appended.\n",
      "9\n",
      "1\n",
      "this retweets have been appended.\n",
      "10\n",
      "1\n",
      "this retweets have been appended.\n",
      "11\n",
      "this tweets didn't been retweeted.\n",
      "1\n",
      "this retweets have been appended.\n",
      "13\n",
      "this tweets didn't been retweeted.\n",
      "this tweets didn't been retweeted.\n",
      "1\n",
      "this retweets have been appended.\n",
      "16\n",
      "this tweets didn't been retweeted.\n",
      "this tweets didn't been retweeted.\n",
      "this tweets didn't been retweeted.\n",
      "this tweets didn't been retweeted.\n",
      "1\n",
      "this retweets have been appended.\n",
      "21\n",
      "this tweets didn't been retweeted.\n",
      "this tweets didn't been retweeted.\n",
      "this tweets didn't been retweeted.\n",
      "this tweets didn't been retweeted.\n",
      "this tweets didn't been retweeted.\n",
      "1\n",
      "this retweets have been appended.\n",
      "27\n",
      "this tweets didn't been retweeted.\n",
      "this tweets didn't been retweeted.\n",
      "this tweets didn't been retweeted.\n",
      "1\n",
      "this retweets have been appended.\n",
      "31\n",
      "1\n",
      "this retweets have been appended.\n",
      "32\n",
      "1\n",
      "this retweets have been appended.\n",
      "33\n",
      "1\n",
      "this retweets have been appended.\n",
      "34\n",
      "this tweets didn't been retweeted.\n",
      "this tweets didn't been retweeted.\n",
      "this tweets didn't been retweeted.\n",
      "this tweets didn't been retweeted.\n",
      "this tweets didn't been retweeted.\n",
      "this tweets didn't been retweeted.\n",
      "1\n",
      "this retweets have been appended.\n",
      "41\n",
      "1\n",
      "this retweets have been appended.\n",
      "42\n",
      "this tweets didn't been retweeted.\n",
      "1\n",
      "this retweets have been appended.\n",
      "44\n",
      "1\n",
      "this retweets have been appended.\n",
      "45\n",
      "this tweets didn't been retweeted.\n",
      "this tweets didn't been retweeted.\n",
      "1\n",
      "this retweets have been appended.\n",
      "48\n",
      "1\n",
      "this retweets have been appended.\n",
      "49\n",
      "1\n",
      "this retweets have been appended.\n",
      "50\n",
      "this tweets didn't been retweeted.\n",
      "this tweets didn't been retweeted.\n",
      "this tweets didn't been retweeted.\n",
      "this tweets didn't been retweeted.\n",
      "this tweets didn't been retweeted.\n",
      "1\n",
      "this retweets have been appended.\n",
      "56\n",
      "this tweets didn't been retweeted.\n",
      "this tweets didn't been retweeted.\n",
      "1\n",
      "this retweets have been appended.\n",
      "59\n",
      "this tweets didn't been retweeted.\n",
      "1\n",
      "this retweets have been appended.\n",
      "61\n",
      "1\n",
      "this retweets have been appended.\n",
      "62\n",
      "this tweets didn't been retweeted.\n",
      "this tweets didn't been retweeted.\n",
      "this tweets didn't been retweeted.\n",
      "1\n",
      "this retweets have been appended.\n",
      "66\n",
      "this tweets didn't been retweeted.\n",
      "this tweets didn't been retweeted.\n",
      "this tweets didn't been retweeted.\n",
      "this tweets didn't been retweeted.\n",
      "this tweets didn't been retweeted.\n",
      "1\n",
      "this retweets have been appended.\n",
      "72\n",
      "this tweets didn't been retweeted.\n",
      "1\n",
      "this retweets have been appended.\n",
      "74\n",
      "1\n",
      "this retweets have been appended.\n",
      "75\n",
      "this tweets didn't been retweeted.\n",
      "this tweets didn't been retweeted.\n",
      "this tweets didn't been retweeted.\n",
      "this tweets didn't been retweeted.\n"
     ]
    },
    {
     "ename": "KeyError",
     "evalue": "79",
     "output_type": "error",
     "traceback": [
      "\u001b[0;31m---------------------------------------------------------------------------\u001b[0m",
      "\u001b[0;31mKeyError\u001b[0m                                  Traceback (most recent call last)",
      "\u001b[0;32m<ipython-input-350-aaafd5c74a5b>\u001b[0m in \u001b[0;36m<module>\u001b[0;34m()\u001b[0m\n\u001b[1;32m     21\u001b[0m             \u001b[0;31m#limited_id_list = id_list[0: 50]\u001b[0m\u001b[0;34m\u001b[0m\u001b[0;34m\u001b[0m\u001b[0m\n\u001b[1;32m     22\u001b[0m \u001b[0;34m\u001b[0m\u001b[0m\n\u001b[0;32m---> 23\u001b[0;31m                 \u001b[0mresponse\u001b[0m \u001b[0;34m=\u001b[0m \u001b[0mtwitter\u001b[0m\u001b[0;34m.\u001b[0m\u001b[0mget_retweets\u001b[0m\u001b[0;34m(\u001b[0m\u001b[0mid\u001b[0m\u001b[0;34m=\u001b[0m\u001b[0mid_list\u001b[0m\u001b[0;34m[\u001b[0m\u001b[0mi\u001b[0m\u001b[0;34m]\u001b[0m\u001b[0;34m,\u001b[0m \u001b[0mcount\u001b[0m\u001b[0;34m=\u001b[0m\u001b[0;36m100\u001b[0m\u001b[0;34m)\u001b[0m\u001b[0;34m\u001b[0m\u001b[0m\n\u001b[0m\u001b[1;32m     24\u001b[0m                 \u001b[0mtime\u001b[0m\u001b[0;34m.\u001b[0m\u001b[0msleep\u001b[0m\u001b[0;34m(\u001b[0m\u001b[0;36m2\u001b[0m\u001b[0;34m)\u001b[0m\u001b[0;34m\u001b[0m\u001b[0m\n\u001b[1;32m     25\u001b[0m                 \u001b[0mlen_r\u001b[0m \u001b[0;34m=\u001b[0m \u001b[0mlen\u001b[0m\u001b[0;34m(\u001b[0m\u001b[0mresponse\u001b[0m\u001b[0;34m)\u001b[0m\u001b[0;34m\u001b[0m\u001b[0m\n",
      "\u001b[0;32m~/anaconda3/lib/python3.6/site-packages/pandas/core/series.py\u001b[0m in \u001b[0;36m__getitem__\u001b[0;34m(self, key)\u001b[0m\n\u001b[1;32m    599\u001b[0m         \u001b[0mkey\u001b[0m \u001b[0;34m=\u001b[0m \u001b[0mcom\u001b[0m\u001b[0;34m.\u001b[0m\u001b[0m_apply_if_callable\u001b[0m\u001b[0;34m(\u001b[0m\u001b[0mkey\u001b[0m\u001b[0;34m,\u001b[0m \u001b[0mself\u001b[0m\u001b[0;34m)\u001b[0m\u001b[0;34m\u001b[0m\u001b[0m\n\u001b[1;32m    600\u001b[0m         \u001b[0;32mtry\u001b[0m\u001b[0;34m:\u001b[0m\u001b[0;34m\u001b[0m\u001b[0m\n\u001b[0;32m--> 601\u001b[0;31m             \u001b[0mresult\u001b[0m \u001b[0;34m=\u001b[0m \u001b[0mself\u001b[0m\u001b[0;34m.\u001b[0m\u001b[0mindex\u001b[0m\u001b[0;34m.\u001b[0m\u001b[0mget_value\u001b[0m\u001b[0;34m(\u001b[0m\u001b[0mself\u001b[0m\u001b[0;34m,\u001b[0m \u001b[0mkey\u001b[0m\u001b[0;34m)\u001b[0m\u001b[0;34m\u001b[0m\u001b[0m\n\u001b[0m\u001b[1;32m    602\u001b[0m \u001b[0;34m\u001b[0m\u001b[0m\n\u001b[1;32m    603\u001b[0m             \u001b[0;32mif\u001b[0m \u001b[0;32mnot\u001b[0m \u001b[0mis_scalar\u001b[0m\u001b[0;34m(\u001b[0m\u001b[0mresult\u001b[0m\u001b[0;34m)\u001b[0m\u001b[0;34m:\u001b[0m\u001b[0;34m\u001b[0m\u001b[0m\n",
      "\u001b[0;32m~/anaconda3/lib/python3.6/site-packages/pandas/core/indexes/base.py\u001b[0m in \u001b[0;36mget_value\u001b[0;34m(self, series, key)\u001b[0m\n\u001b[1;32m   2475\u001b[0m         \u001b[0;32mtry\u001b[0m\u001b[0;34m:\u001b[0m\u001b[0;34m\u001b[0m\u001b[0m\n\u001b[1;32m   2476\u001b[0m             return self._engine.get_value(s, k,\n\u001b[0;32m-> 2477\u001b[0;31m                                           tz=getattr(series.dtype, 'tz', None))\n\u001b[0m\u001b[1;32m   2478\u001b[0m         \u001b[0;32mexcept\u001b[0m \u001b[0mKeyError\u001b[0m \u001b[0;32mas\u001b[0m \u001b[0me1\u001b[0m\u001b[0;34m:\u001b[0m\u001b[0;34m\u001b[0m\u001b[0m\n\u001b[1;32m   2479\u001b[0m             \u001b[0;32mif\u001b[0m \u001b[0mlen\u001b[0m\u001b[0;34m(\u001b[0m\u001b[0mself\u001b[0m\u001b[0;34m)\u001b[0m \u001b[0;34m>\u001b[0m \u001b[0;36m0\u001b[0m \u001b[0;32mand\u001b[0m \u001b[0mself\u001b[0m\u001b[0;34m.\u001b[0m\u001b[0minferred_type\u001b[0m \u001b[0;32min\u001b[0m \u001b[0;34m[\u001b[0m\u001b[0;34m'integer'\u001b[0m\u001b[0;34m,\u001b[0m \u001b[0;34m'boolean'\u001b[0m\u001b[0;34m]\u001b[0m\u001b[0;34m:\u001b[0m\u001b[0;34m\u001b[0m\u001b[0m\n",
      "\u001b[0;32mpandas/_libs/index.pyx\u001b[0m in \u001b[0;36mpandas._libs.index.IndexEngine.get_value\u001b[0;34m()\u001b[0m\n",
      "\u001b[0;32mpandas/_libs/index.pyx\u001b[0m in \u001b[0;36mpandas._libs.index.IndexEngine.get_value\u001b[0;34m()\u001b[0m\n",
      "\u001b[0;32mpandas/_libs/index.pyx\u001b[0m in \u001b[0;36mpandas._libs.index.IndexEngine.get_loc\u001b[0;34m()\u001b[0m\n",
      "\u001b[0;32mpandas/_libs/hashtable_class_helper.pxi\u001b[0m in \u001b[0;36mpandas._libs.hashtable.Int64HashTable.get_item\u001b[0;34m()\u001b[0m\n",
      "\u001b[0;32mpandas/_libs/hashtable_class_helper.pxi\u001b[0m in \u001b[0;36mpandas._libs.hashtable.Int64HashTable.get_item\u001b[0;34m()\u001b[0m\n",
      "\u001b[0;31mKeyError\u001b[0m: 79"
     ]
    }
   ],
   "source": [
    "if __name__ == '__main__':\n",
    "    with open('set_crawler1.txt', 'r') as f:\n",
    "        content = f.readlines()\n",
    "    # you may also want to remove whitespace characters like `\\n` at the end of each line\n",
    "        content = [x.strip() for x in content] \n",
    "    \n",
    "    for strs in content:\n",
    "        tweets_o = pd.read_csv(\"%s_cleaned_tweets.csv\" %strs)\n",
    "        length = len(tweets_o['id'])\n",
    "    \n",
    "        feature_columns = [\"re_people_id\",\"re_people_name\",\"re_people_fo_num\",\n",
    "                           \"re_people_friends_num\",\"re_id\",\"re_text\"]\n",
    "    \n",
    "        df_final = pd.DataFrame(columns=feature_columns)\n",
    "    \n",
    "        id_list =[]\n",
    "    \n",
    "        i = 0 \n",
    "        while i < 100:\n",
    "                id_list = tweets_o['id']\n",
    "            #limited_id_list = id_list[0: 50]\n",
    "     \n",
    "                response = twitter.get_retweets(id=id_list[i], count=100)\n",
    "                time.sleep(2)\n",
    "                len_r = len(response)\n",
    "            \n",
    "                if len_r == 0:\n",
    "                    print(\"this tweets didn't been retweeted.\")\n",
    "                    i=i+1\n",
    "                    continue\n",
    "\n",
    "                else:\n",
    "                    df1= get_re_info(response)\n",
    "                    result = df_final.append(df1)\n",
    "                    result.to_csv('%s_retweeted_details.csv' %strs,mode='a',header=False) \n",
    "                    print(\"this retweets have been appended.\")\n",
    "                    i=i+1\n",
    "                    print(i)\n",
    "        \n",
    "        print(\"%s has done!\" %strs)\n",
    "        time.sleep(150)\n",
    "           \n",
    "\n",
    "                \n",
    "    \n",
    "                \n",
    "             \n",
    "                \n",
    "    "
   ]
  },
  {
   "cell_type": "code",
   "execution_count": null,
   "metadata": {
    "collapsed": true
   },
   "outputs": [],
   "source": [
    "\"\"\"\n",
    "tweets_o = pd.read_csv(\"jamesblanchard_cleaned_tweets.csv\" )\n",
    "length = len(tweets_o['id'])\n",
    "print(length)\n",
    "\n",
    "id_list =[]\n",
    "id_list = tweets_o['id']\n",
    "limited_id_list = id_list[0: 10]\n",
    "print(type(id_list))\n",
    "print(len(limited_id_list))\n",
    "\n",
    "i=0\n",
    "\n",
    "while i < 10:\n",
    "    \n",
    "    print(limited_id_list[i])\n",
    "    i=i+1\n",
    "    "
   ]
  },
  {
   "cell_type": "code",
   "execution_count": null,
   "metadata": {
    "collapsed": true
   },
   "outputs": [],
   "source": [
    "\"\"\"\n",
    "#太不容易了 差点搞死我\n",
    "retweets = extractor.retweets(872553226985496578,2)\n",
    "print(len(retweets))\n",
    "\n",
    "a = len(retweets)\n",
    "status=[]\n",
    "i=0\n",
    "while i < a:\n",
    "    status.append(retweets[i])\n",
    "    i=i+1\n",
    "   # print(\"append done.\")\n",
    "\n",
    "tweet_list = []\n",
    "for tweet in retweets:\n",
    "    tweet_list.append(tweet._json)\n",
    "\n",
    "print(len(tweet_list))\n",
    "\n"
   ]
  },
  {
   "cell_type": "code",
   "execution_count": null,
   "metadata": {
    "collapsed": true
   },
   "outputs": [],
   "source": [
    "APP_KEY = 'dVSgiSlSsh9ZJXOkaOV4n57k6'\n",
    "APP_SECRET = 'HL537ukFl6oWplss9VxSZmwwIbDBWbzcpF14IPy9UtR6tHessm'\n",
    "\n",
    "twitter = Twython(APP_KEY, APP_SECRET)\n",
    "#1"
   ]
  },
  {
   "cell_type": "code",
   "execution_count": null,
   "metadata": {
    "collapsed": true
   },
   "outputs": [],
   "source": []
  },
  {
   "cell_type": "code",
   "execution_count": null,
   "metadata": {
    "collapsed": true
   },
   "outputs": [],
   "source": []
  },
  {
   "cell_type": "code",
   "execution_count": null,
   "metadata": {
    "collapsed": true
   },
   "outputs": [],
   "source": []
  },
  {
   "cell_type": "code",
   "execution_count": null,
   "metadata": {
    "collapsed": true
   },
   "outputs": [],
   "source": [
    "APP_KEY =  'T6tZZLAVYWL2J6hQnZre1dXfp'\n",
    "APP_SECRET = 'mCKjRy88G9k9py9fcmUDrxU6k9BjykWQRzT6Qh4VPBBdssGqiZ'\n",
    "\n",
    "twitter = Twython(APP_KEY, APP_SECRET)\n",
    "#6"
   ]
  },
  {
   "cell_type": "code",
   "execution_count": null,
   "metadata": {
    "collapsed": true
   },
   "outputs": [],
   "source": []
  },
  {
   "cell_type": "code",
   "execution_count": null,
   "metadata": {
    "collapsed": true
   },
   "outputs": [],
   "source": [
    "\"\"\"\n",
    "from twython import Twython, TwythonError\n",
    "\n",
    "response = twitter.get_retweets(id= 872580595297267712)\n",
    "print(len(response))\n",
    "#这个是转发后tweets的ID\n",
    "print(response[0].get(\"id\"))\n",
    "\n",
    "#转发人的screen_name\n",
    "print(response[0].get(\"user\").get(\"screen_name\"))\n",
    "#转发人的ID\n",
    "print(response[0].get(\"user\").get(\"id\"))\n",
    "#转发人的followers_count\n",
    "print(response[0].get(\"user\").get(\"followers_count\"))\n",
    "#转发人的friends_count\n",
    "print(response[0].get(\"user\").get(\"friends_count\"))\n",
    "\n",
    "\n",
    "print(response[1].get(\"id\"))\n",
    "print(response[2].get(\"id\"))\n",
    "print(response[10].get(\"id\"))"
   ]
  },
  {
   "cell_type": "code",
   "execution_count": null,
   "metadata": {
    "collapsed": true
   },
   "outputs": [],
   "source": []
  },
  {
   "cell_type": "code",
   "execution_count": null,
   "metadata": {
    "collapsed": true
   },
   "outputs": [],
   "source": []
  },
  {
   "cell_type": "code",
   "execution_count": null,
   "metadata": {
    "collapsed": true
   },
   "outputs": [],
   "source": []
  },
  {
   "cell_type": "code",
   "execution_count": null,
   "metadata": {
    "collapsed": true
   },
   "outputs": [],
   "source": []
  },
  {
   "cell_type": "code",
   "execution_count": null,
   "metadata": {
    "collapsed": true
   },
   "outputs": [],
   "source": []
  },
  {
   "cell_type": "code",
   "execution_count": null,
   "metadata": {
    "collapsed": true
   },
   "outputs": [],
   "source": []
  },
  {
   "cell_type": "code",
   "execution_count": null,
   "metadata": {
    "collapsed": true
   },
   "outputs": [],
   "source": []
  },
  {
   "cell_type": "code",
   "execution_count": null,
   "metadata": {
    "collapsed": true
   },
   "outputs": [],
   "source": []
  }
 ],
 "metadata": {
  "kernelspec": {
   "display_name": "Python 3",
   "language": "python",
   "name": "python3"
  },
  "language_info": {
   "codemirror_mode": {
    "name": "ipython",
    "version": 3
   },
   "file_extension": ".py",
   "mimetype": "text/x-python",
   "name": "python",
   "nbconvert_exporter": "python",
   "pygments_lexer": "ipython3",
   "version": "3.6.3"
  }
 },
 "nbformat": 4,
 "nbformat_minor": 2
}
